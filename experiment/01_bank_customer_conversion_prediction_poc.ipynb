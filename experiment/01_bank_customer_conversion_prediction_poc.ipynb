{
 "cells": [
  {
   "attachments": {},
   "cell_type": "markdown",
   "metadata": {
    "id": "M27qF7CTrBqc"
   },
   "source": [
    "# Predict bank customers conversion probability"
   ]
  },
  {
   "cell_type": "code",
   "execution_count": 1,
   "metadata": {},
   "outputs": [],
   "source": [
    "%matplotlib inline\n",
    "import psycopg2\n",
    "import pickle\n",
    "\n",
    "# data processing\n",
    "import random\n",
    "import numpy as np\n",
    "import pandas as pd\n",
    "from sklearn.model_selection import train_test_split\n",
    "from sklearn.impute import SimpleImputer\n",
    "from sklearn.preprocessing import OneHotEncoder\n",
    "from feature_engine.encoding import RareLabelEncoder\n",
    "from feature_engine.outliers import Winsorizer\n",
    "\n",
    "# data visualization\n",
    "import matplotlib.pyplot as plt\n",
    "import seaborn as sns\n",
    "\n",
    "# Supervised Learning\n",
    "from imblearn.under_sampling import RandomUnderSampler\n",
    "from sklearn import tree\n",
    "from sklearn.tree import DecisionTreeClassifier\n",
    "from sklearn.ensemble import RandomForestClassifier\n",
    "from sklearn.ensemble import GradientBoostingClassifier\n",
    "from sklearn.model_selection import GridSearchCV\n",
    "\n",
    "from sklearn.metrics import PrecisionRecallDisplay, precision_recall_curve\n",
    "\n",
    "# Model Evaluation\n",
    "from sklearn.metrics import roc_auc_score, average_precision_score\n",
    "from sklearn.metrics import recall_score, make_scorer\n",
    "from sklearn.metrics import confusion_matrix, ConfusionMatrixDisplay\n",
    "\n",
    "# Explainability\n",
    "import graphviz\n",
    "import shap"
   ]
  },
  {
   "attachments": {},
   "cell_type": "markdown",
   "metadata": {},
   "source": [
    "# Import Data\n",
    "\n",
    "the dataset is available here: https://archive.ics.uci.edu/ml/datasets/bank+marketing\n",
    "\n",
    "Find the best strategies to improve for the next marketing campaign. How can the financial institution have a greater effectiveness for future marketing campaigns? In order to answer this, we have to analyze the last marketing campaign the bank performed and identify the patterns that will help us find conclusions in order to develop future strategies."
   ]
  },
  {
   "attachments": {},
   "cell_type": "markdown",
   "metadata": {},
   "source": [
    "## Attribute Information:\n",
    "\n",
    "Input variables:\n",
    "### bank client data:\n",
    "- age (numeric)\n",
    "- job : type of job (categorical: 'admin.','blue-collar','entrepreneur','housemaid','management','retired','self-employed','services','student','technician','unemployed','unknown')\n",
    "- marital : marital status (categorical: 'divorced','married','single','unknown'; note: 'divorced' means divorced or widowed)\n",
    "- education (categorical: 'basic.4y','basic.6y','basic.9y','high.school','illiterate','professional.course','university.degree','unknown')\n",
    "- default: has credit in default? (categorical: 'no','yes','unknown')\n",
    "- housing: has housing loan? (categorical: 'no','yes','unknown')\n",
    "- loan: has personal loan? (categorical: 'no','yes','unknown')\n",
    "### related with the last contact of the current campaign:\n",
    "- contact: contact communication type (categorical: 'cellular','telephone')\n",
    "- month: last contact month of year (categorical: 'jan', 'feb', 'mar', ..., 'nov', 'dec')\n",
    "- day_of_week: last contact day of the week (categorical: 'mon','tue','wed','thu','fri')\n",
    "- duration: last contact duration, in seconds (numeric). Important note: this attribute highly affects the output target (e.g., if duration=0 then y='no'). Yet, the duration is not known before a call is performed. Also, after the end of the call y is obviously known. Thus, this input should only be included for benchmark purposes and should be discarded if the intention is to have a realistic predictive model.\n",
    "### other attributes:\n",
    "- campaign: number of contacts performed during this campaign and for this client (numeric, includes last contact)\n",
    "- pdays: number of days that passed by after the client was last contacted from a previous campaign (numeric; 999 means client was not previously contacted)\n",
    "- previous: number of contacts performed before this campaign and for this client (numeric)\n",
    "- poutcome: outcome of the previous marketing campaign (categorical: 'failure','nonexistent','success')\n",
    "### social and economic context attributes\n",
    "- emp.var.rate: employment variation rate - quarterly indicator (numeric)\n",
    "- cons.price.idx: consumer price index - monthly indicator (numeric)\n",
    "- cons.conf.idx: consumer confidence index - monthly indicator (numeric)\n",
    "- euribor3m: euribor 3 month rate - daily indicator (numeric)\n",
    "- nr.employed: number of employees - quarterly indicator (numeric)\n",
    "\n",
    "### Output variable (desired target):\n",
    "- y - has the client subscribed a term deposit? (binary: 'yes','no')"
   ]
  },
  {
   "cell_type": "code",
   "execution_count": 2,
   "metadata": {},
   "outputs": [
    {
     "name": "stderr",
     "output_type": "stream",
     "text": [
      "Columns (15) have mixed types. Specify dtype option on import or set low_memory=False.\n"
     ]
    },
    {
     "data": {
      "text/html": [
       "<div>\n",
       "<style scoped>\n",
       "    .dataframe tbody tr th:only-of-type {\n",
       "        vertical-align: middle;\n",
       "    }\n",
       "\n",
       "    .dataframe tbody tr th {\n",
       "        vertical-align: top;\n",
       "    }\n",
       "\n",
       "    .dataframe thead th {\n",
       "        text-align: right;\n",
       "    }\n",
       "</style>\n",
       "<table border=\"1\" class=\"dataframe\">\n",
       "  <thead>\n",
       "    <tr style=\"text-align: right;\">\n",
       "      <th></th>\n",
       "      <th>age</th>\n",
       "      <th>job</th>\n",
       "      <th>marital</th>\n",
       "      <th>education</th>\n",
       "      <th>default</th>\n",
       "      <th>housing</th>\n",
       "      <th>loan</th>\n",
       "      <th>contact</th>\n",
       "      <th>month</th>\n",
       "      <th>day_of_week</th>\n",
       "      <th>campaign</th>\n",
       "      <th>pdays</th>\n",
       "      <th>previous</th>\n",
       "      <th>poutcome</th>\n",
       "      <th>y</th>\n",
       "      <th>previous_contact</th>\n",
       "    </tr>\n",
       "  </thead>\n",
       "  <tbody>\n",
       "    <tr>\n",
       "      <th>0</th>\n",
       "      <td>56</td>\n",
       "      <td>housemaid</td>\n",
       "      <td>married</td>\n",
       "      <td>basic.4y</td>\n",
       "      <td>no</td>\n",
       "      <td>no</td>\n",
       "      <td>no</td>\n",
       "      <td>telephone</td>\n",
       "      <td>may</td>\n",
       "      <td>mon</td>\n",
       "      <td>1</td>\n",
       "      <td>NaN</td>\n",
       "      <td>0</td>\n",
       "      <td>nonexistent</td>\n",
       "      <td>0</td>\n",
       "      <td>no</td>\n",
       "    </tr>\n",
       "    <tr>\n",
       "      <th>1</th>\n",
       "      <td>57</td>\n",
       "      <td>services</td>\n",
       "      <td>married</td>\n",
       "      <td>high.school</td>\n",
       "      <td>unknown</td>\n",
       "      <td>no</td>\n",
       "      <td>no</td>\n",
       "      <td>telephone</td>\n",
       "      <td>may</td>\n",
       "      <td>mon</td>\n",
       "      <td>1</td>\n",
       "      <td>NaN</td>\n",
       "      <td>0</td>\n",
       "      <td>nonexistent</td>\n",
       "      <td>0</td>\n",
       "      <td>no</td>\n",
       "    </tr>\n",
       "    <tr>\n",
       "      <th>2</th>\n",
       "      <td>37</td>\n",
       "      <td>services</td>\n",
       "      <td>married</td>\n",
       "      <td>high.school</td>\n",
       "      <td>no</td>\n",
       "      <td>yes</td>\n",
       "      <td>no</td>\n",
       "      <td>telephone</td>\n",
       "      <td>may</td>\n",
       "      <td>mon</td>\n",
       "      <td>1</td>\n",
       "      <td>NaN</td>\n",
       "      <td>0</td>\n",
       "      <td>nonexistent</td>\n",
       "      <td>0</td>\n",
       "      <td>no</td>\n",
       "    </tr>\n",
       "    <tr>\n",
       "      <th>3</th>\n",
       "      <td>40</td>\n",
       "      <td>admin.</td>\n",
       "      <td>married</td>\n",
       "      <td>basic.6y</td>\n",
       "      <td>no</td>\n",
       "      <td>no</td>\n",
       "      <td>no</td>\n",
       "      <td>telephone</td>\n",
       "      <td>may</td>\n",
       "      <td>mon</td>\n",
       "      <td>1</td>\n",
       "      <td>NaN</td>\n",
       "      <td>0</td>\n",
       "      <td>nonexistent</td>\n",
       "      <td>0</td>\n",
       "      <td>no</td>\n",
       "    </tr>\n",
       "    <tr>\n",
       "      <th>4</th>\n",
       "      <td>56</td>\n",
       "      <td>services</td>\n",
       "      <td>married</td>\n",
       "      <td>high.school</td>\n",
       "      <td>no</td>\n",
       "      <td>no</td>\n",
       "      <td>yes</td>\n",
       "      <td>telephone</td>\n",
       "      <td>may</td>\n",
       "      <td>mon</td>\n",
       "      <td>1</td>\n",
       "      <td>NaN</td>\n",
       "      <td>0</td>\n",
       "      <td>nonexistent</td>\n",
       "      <td>0</td>\n",
       "      <td>no</td>\n",
       "    </tr>\n",
       "  </tbody>\n",
       "</table>\n",
       "</div>"
      ],
      "text/plain": [
       "   age        job  marital    education  default housing loan    contact  \\\n",
       "0   56  housemaid  married     basic.4y       no      no   no  telephone   \n",
       "1   57   services  married  high.school  unknown      no   no  telephone   \n",
       "2   37   services  married  high.school       no     yes   no  telephone   \n",
       "3   40     admin.  married     basic.6y       no      no   no  telephone   \n",
       "4   56   services  married  high.school       no      no  yes  telephone   \n",
       "\n",
       "  month day_of_week  campaign  pdays  previous     poutcome  y  \\\n",
       "0   may         mon         1    NaN         0  nonexistent  0   \n",
       "1   may         mon         1    NaN         0  nonexistent  0   \n",
       "2   may         mon         1    NaN         0  nonexistent  0   \n",
       "3   may         mon         1    NaN         0  nonexistent  0   \n",
       "4   may         mon         1    NaN         0  nonexistent  0   \n",
       "\n",
       "  previous_contact  \n",
       "0               no  \n",
       "1               no  \n",
       "2               no  \n",
       "3               no  \n",
       "4               no  "
      ]
     },
     "execution_count": 2,
     "metadata": {},
     "output_type": "execute_result"
    }
   ],
   "source": [
    "# load data from local csv \n",
    "df = pd.read_csv(\n",
    "        filepath_or_buffer = '../data/bank-additional-full.csv',\n",
    "        sep=';'\n",
    ")\n",
    "\n",
    "# drop a few columns which are typically not available in many scenarios or columns which leads to leakage b/c it cannot be known beforehand!\n",
    "df.drop(\n",
    "        labels=['duration', 'emp.var.rate', 'cons.price.idx', 'cons.conf.idx','euribor3m', 'nr.employed'], \n",
    "        axis=1, \n",
    "        inplace=True)\n",
    "\n",
    "# make feature denoting if there was a previous contact\n",
    "df['previous_contact'] = (df['pdays'] != 999).apply(lambda x: 'no' if x==False else 'yes')\n",
    "\n",
    "# insert random value if value equal 999 since the values is not defined\n",
    "df['pdays'] = df['pdays'].apply(lambda x: np.nan if x==999 else x)\n",
    "\n",
    "# encode target column\n",
    "df['y'] = df['y'].apply(lambda x: 0 if x=='no' else 1)\n",
    "\n",
    "df.head()"
   ]
  },
  {
   "attachments": {},
   "cell_type": "markdown",
   "metadata": {},
   "source": [
    "## Utility Functions"
   ]
  },
  {
   "cell_type": "code",
   "execution_count": 3,
   "metadata": {},
   "outputs": [],
   "source": [
    "def get_data_from_my_postgre_db(password:str, table_name:str)->pd.DataFrame:\n",
    "    \"\"\"connects to marketing_analytics db and returns data from table_name as pandas dataframe .\n",
    "    inputs: database password and table_name\"\"\"\n",
    "    # Connect to the database\n",
    "    conn = psycopg2.connect(\n",
    "        database=\"marketing_analytics\", \n",
    "        user=\"postgres\", \n",
    "        password=password, \n",
    "        host=\"localhost\", \n",
    "        port=\"5432\")\n",
    "    # Create a cursor object\n",
    "    cur = conn.cursor()\n",
    "    # Execute a SQL query\n",
    "    #cur.execute(\"SELECT * FROM bank_customers_churn_dataset\")\n",
    "    cur.execute(\"SELECT * FROM \" + table_name) \n",
    "    # Get the column names from the cursor description\n",
    "    columns = [desc[0] for desc in cur.description]\n",
    "    # Fetch the results i.e. values\n",
    "    results = cur.fetchall()\n",
    "    # Create a dictionary mapping column names to values\n",
    "    data = [dict(zip(columns, row)) for row in results]\n",
    "    # Close the connection\n",
    "    conn.close()\n",
    "    # turn dictionary into dataframe\n",
    "    return pd.DataFrame.from_dict(data)\n",
    "\n",
    "def create_missing_values(df:pd.DataFrame, na_percentage=0.05)->pd.DataFrame:\n",
    "    \"\"\"impute missing values in na_percentage of rows in each column\"\"\"\n",
    "    X = df.copy()\n",
    "    # Create an array of 5 percent of the number of rows in the dataframe\n",
    "    num_rows = X.shape[0]\n",
    "    num_missing_values = int(num_rows * na_percentage)\n",
    "\n",
    "    # Iterate through each row and set the values to np.nan\n",
    "    for col in X.columns:\n",
    "        # Get a random sample of rows from 0 to num_rows-1\n",
    "        random_indices = random.sample(X.index.to_list(), num_missing_values)\n",
    "        for row in random_indices:  \n",
    "            X.loc[row, col] = np.nan\n",
    "    return X\n",
    "\n",
    "def create_outliers(df:pd.DataFrame, numeric_columns:list, na_percentage=0.05)->pd.DataFrame:\n",
    "    \"\"\"impute outliers in na_percentage of rows in each numeric column\"\"\"\n",
    "    X = df.copy()\n",
    "    # Create an array of 5 percent of the number of rows in the dataframe\n",
    "    num_rows = X.shape[0]\n",
    "    num_outliers = int(num_rows * na_percentage)\n",
    "\n",
    "    # Iterate through each row and set the values to np.nan\n",
    "    for col in X[numeric_columns]:\n",
    "        # get mean value, standard deviation and minimum\n",
    "        mean, sd, min = X[col].mean(), X[col].std(), X[col].min()\n",
    "        # Generate random numbers from normal distribution\n",
    "        rand_norm = np.random.normal(mean, sd, 1000000)\n",
    "        # Generate outliers which are at least mean+/-3*std\n",
    "        if min < 0:\n",
    "            outliers = np.append(rand_norm[rand_norm < mean-3*sd], rand_norm[rand_norm > mean+3*sd])\n",
    "        else:\n",
    "            outliers = rand_norm[rand_norm > mean+3*sd]\n",
    "\n",
    "        # Get a random sample of rows from 0 to num_rows-1\n",
    "        random_indices = random.sample(X.index.to_list(), num_outliers)\n",
    "        for row in random_indices:\n",
    "            X.loc[row, col] = random.sample(outliers.tolist(), 1)[0]\n",
    "    return X\n",
    "\n",
    "def get_class_imbalance_correction_factor(data:pd.DataFrame, target:str):\n",
    "    \"\"\"calculate the class imbalance correction factor for the minority class for better fit performance\"\"\"\n",
    "    value_counts = data[target].value_counts() / data.shape[0]\n",
    "    return value_counts[0] / value_counts[1]\n",
    "\n",
    "def plot_threshold_recall_precision_curves(model, X, y):\n",
    "    \"\"\"plot threshold-recall-precision curves given trained model X and y\"\"\"\n",
    "    fig, ax = plt.subplots(1, 2, figsize=(18, 6))\n",
    "\n",
    "    y_scores = model.predict_proba(X)[:,1]\n",
    "    precision, recall, thresholds = precision_recall_curve(y, y_scores)\n",
    "\n",
    "    ax[0].plot(recall, precision)\n",
    "    ax[0].set_title(\"Precision-Recall Curve\")\n",
    "    ax[0].set_xlabel('recall')\n",
    "    ax[0].set_ylabel('precision')\n",
    "    ax[0].set_xlim(-0.05, 1.05)\n",
    "    ax[0].set_ylim(-0.05, 1.05)\n",
    "    ax[0].grid()\n",
    "\n",
    "    ax[1].plot(recall, np.insert(thresholds, 0, 0))\n",
    "    ax[1].set_title(\"Threshold-Recall Curve\")\n",
    "    ax[1].set_xlabel('recall')\n",
    "    ax[1].set_ylabel('threshold')\n",
    "    ax[1].set_xlim(-0.05, 1.05)\n",
    "    ax[1].set_ylim(-0.05, 1.05)\n",
    "    ax[1].grid()\n",
    "    return fig\n",
    "\n",
    "def plot_confusion_matrix(features:pd.DataFrame, labels:np.array, sklearn_model, threshold=0.5):\n",
    "    \"\"\"plot confusion matrix for trained model given labels and one-hotencoded features. Pick a decision threshold for positive class\"\"\"\n",
    "    # make predictions\n",
    "    preds = sklearn_model.predict_proba(features)[:,1]\n",
    "    preds = np.where(preds>threshold, 1, 0)\n",
    "    # calc confusion matrix\n",
    "    cm = confusion_matrix(labels, preds, labels=sklearn_model.classes_)\n",
    "    # create matrix display\n",
    "    disp = ConfusionMatrixDisplay(\n",
    "        confusion_matrix=cm,                            \n",
    "        display_labels=sklearn_model.classes_)\n",
    "    disp.plot()\n",
    "    plt.show()"
   ]
  },
  {
   "cell_type": "code",
   "execution_count": 4,
   "metadata": {},
   "outputs": [],
   "source": [
    "#f = open(\"../private.txt\", \"r\")\n",
    "#pw = f.read()"
   ]
  },
  {
   "cell_type": "code",
   "execution_count": 5,
   "metadata": {},
   "outputs": [],
   "source": [
    "## get data from postres db\n",
    "#table_name = \"bank_customers_churn_dataset\"\n",
    "#df = get_data_from_my_postgre_db(pw, table_name)\n",
    "#\n",
    "## set customer id as index\n",
    "#df.set_index('customer_id', inplace=True)\n",
    "#\n",
    "## change churn column type to bool\n",
    "#df['churn'] = df['churn'].astype('int').astype('bool')\n",
    "#\n",
    "## change data types to numeric\n",
    "#df['tenure'] = df['tenure'].apply(lambda x: int(x))\n",
    "#df['products_number'] = df['products_number'].apply(lambda x: int(x))\n",
    "#df['credit_card'] = df['credit_card'].apply(lambda x: int(x))\n",
    "#df['active_member'] = df['active_member'].apply(lambda x: int(x))\n",
    "#\n",
    "## change type of categorical columns \"credit_card\" and \"active_member\"\n",
    "#df['credit_card'] = df['credit_card'].apply(lambda x: 'yes' if x == 1 else 'no')\n",
    "#df['active_member'] = df['active_member'].apply(lambda x: 'yes' if x == 1 else 'no')"
   ]
  },
  {
   "cell_type": "code",
   "execution_count": 6,
   "metadata": {},
   "outputs": [
    {
     "data": {
      "text/plain": [
       "age                   int64\n",
       "job                  object\n",
       "marital              object\n",
       "education            object\n",
       "default              object\n",
       "housing              object\n",
       "loan                 object\n",
       "contact              object\n",
       "month                object\n",
       "day_of_week          object\n",
       "campaign              int64\n",
       "pdays               float64\n",
       "previous              int64\n",
       "poutcome             object\n",
       "y                     int64\n",
       "previous_contact     object\n",
       "dtype: object"
      ]
     },
     "execution_count": 6,
     "metadata": {},
     "output_type": "execute_result"
    }
   ],
   "source": [
    "df.dtypes"
   ]
  },
  {
   "cell_type": "code",
   "execution_count": 7,
   "metadata": {},
   "outputs": [
    {
     "data": {
      "text/html": [
       "<div>\n",
       "<style scoped>\n",
       "    .dataframe tbody tr th:only-of-type {\n",
       "        vertical-align: middle;\n",
       "    }\n",
       "\n",
       "    .dataframe tbody tr th {\n",
       "        vertical-align: top;\n",
       "    }\n",
       "\n",
       "    .dataframe thead th {\n",
       "        text-align: right;\n",
       "    }\n",
       "</style>\n",
       "<table border=\"1\" class=\"dataframe\">\n",
       "  <thead>\n",
       "    <tr style=\"text-align: right;\">\n",
       "      <th></th>\n",
       "      <th>age</th>\n",
       "      <th>job</th>\n",
       "      <th>marital</th>\n",
       "      <th>education</th>\n",
       "      <th>default</th>\n",
       "      <th>housing</th>\n",
       "      <th>loan</th>\n",
       "      <th>contact</th>\n",
       "      <th>month</th>\n",
       "      <th>day_of_week</th>\n",
       "      <th>campaign</th>\n",
       "      <th>pdays</th>\n",
       "      <th>previous</th>\n",
       "      <th>poutcome</th>\n",
       "      <th>y</th>\n",
       "      <th>previous_contact</th>\n",
       "    </tr>\n",
       "  </thead>\n",
       "  <tbody>\n",
       "    <tr>\n",
       "      <th>0</th>\n",
       "      <td>56</td>\n",
       "      <td>housemaid</td>\n",
       "      <td>married</td>\n",
       "      <td>basic.4y</td>\n",
       "      <td>no</td>\n",
       "      <td>no</td>\n",
       "      <td>no</td>\n",
       "      <td>telephone</td>\n",
       "      <td>may</td>\n",
       "      <td>mon</td>\n",
       "      <td>1</td>\n",
       "      <td>NaN</td>\n",
       "      <td>0</td>\n",
       "      <td>nonexistent</td>\n",
       "      <td>0</td>\n",
       "      <td>no</td>\n",
       "    </tr>\n",
       "    <tr>\n",
       "      <th>1</th>\n",
       "      <td>57</td>\n",
       "      <td>services</td>\n",
       "      <td>married</td>\n",
       "      <td>high.school</td>\n",
       "      <td>unknown</td>\n",
       "      <td>no</td>\n",
       "      <td>no</td>\n",
       "      <td>telephone</td>\n",
       "      <td>may</td>\n",
       "      <td>mon</td>\n",
       "      <td>1</td>\n",
       "      <td>NaN</td>\n",
       "      <td>0</td>\n",
       "      <td>nonexistent</td>\n",
       "      <td>0</td>\n",
       "      <td>no</td>\n",
       "    </tr>\n",
       "    <tr>\n",
       "      <th>2</th>\n",
       "      <td>37</td>\n",
       "      <td>services</td>\n",
       "      <td>married</td>\n",
       "      <td>high.school</td>\n",
       "      <td>no</td>\n",
       "      <td>yes</td>\n",
       "      <td>no</td>\n",
       "      <td>telephone</td>\n",
       "      <td>may</td>\n",
       "      <td>mon</td>\n",
       "      <td>1</td>\n",
       "      <td>NaN</td>\n",
       "      <td>0</td>\n",
       "      <td>nonexistent</td>\n",
       "      <td>0</td>\n",
       "      <td>no</td>\n",
       "    </tr>\n",
       "    <tr>\n",
       "      <th>3</th>\n",
       "      <td>40</td>\n",
       "      <td>admin.</td>\n",
       "      <td>married</td>\n",
       "      <td>basic.6y</td>\n",
       "      <td>no</td>\n",
       "      <td>no</td>\n",
       "      <td>no</td>\n",
       "      <td>telephone</td>\n",
       "      <td>may</td>\n",
       "      <td>mon</td>\n",
       "      <td>1</td>\n",
       "      <td>NaN</td>\n",
       "      <td>0</td>\n",
       "      <td>nonexistent</td>\n",
       "      <td>0</td>\n",
       "      <td>no</td>\n",
       "    </tr>\n",
       "    <tr>\n",
       "      <th>4</th>\n",
       "      <td>56</td>\n",
       "      <td>services</td>\n",
       "      <td>married</td>\n",
       "      <td>high.school</td>\n",
       "      <td>no</td>\n",
       "      <td>no</td>\n",
       "      <td>yes</td>\n",
       "      <td>telephone</td>\n",
       "      <td>may</td>\n",
       "      <td>mon</td>\n",
       "      <td>1</td>\n",
       "      <td>NaN</td>\n",
       "      <td>0</td>\n",
       "      <td>nonexistent</td>\n",
       "      <td>0</td>\n",
       "      <td>no</td>\n",
       "    </tr>\n",
       "  </tbody>\n",
       "</table>\n",
       "</div>"
      ],
      "text/plain": [
       "   age        job  marital    education  default housing loan    contact  \\\n",
       "0   56  housemaid  married     basic.4y       no      no   no  telephone   \n",
       "1   57   services  married  high.school  unknown      no   no  telephone   \n",
       "2   37   services  married  high.school       no     yes   no  telephone   \n",
       "3   40     admin.  married     basic.6y       no      no   no  telephone   \n",
       "4   56   services  married  high.school       no      no  yes  telephone   \n",
       "\n",
       "  month day_of_week  campaign  pdays  previous     poutcome  y  \\\n",
       "0   may         mon         1    NaN         0  nonexistent  0   \n",
       "1   may         mon         1    NaN         0  nonexistent  0   \n",
       "2   may         mon         1    NaN         0  nonexistent  0   \n",
       "3   may         mon         1    NaN         0  nonexistent  0   \n",
       "4   may         mon         1    NaN         0  nonexistent  0   \n",
       "\n",
       "  previous_contact  \n",
       "0               no  \n",
       "1               no  \n",
       "2               no  \n",
       "3               no  \n",
       "4               no  "
      ]
     },
     "execution_count": 7,
     "metadata": {},
     "output_type": "execute_result"
    }
   ],
   "source": [
    "df.head()"
   ]
  },
  {
   "attachments": {},
   "cell_type": "markdown",
   "metadata": {},
   "source": [
    "## Split Features and Target"
   ]
  },
  {
   "cell_type": "code",
   "execution_count": 8,
   "metadata": {},
   "outputs": [],
   "source": [
    "# divide features and target\n",
    "y = df['y'].values\n",
    "X = df.drop('y', axis=1)"
   ]
  },
  {
   "attachments": {},
   "cell_type": "markdown",
   "metadata": {},
   "source": [
    "## Check Column Types"
   ]
  },
  {
   "cell_type": "code",
   "execution_count": 9,
   "metadata": {},
   "outputs": [
    {
     "name": "stdout",
     "output_type": "stream",
     "text": [
      "numeric columns: ['age', 'campaign', 'pdays', 'previous']\n",
      "categorical columns: ['job', 'marital', 'education', 'default', 'housing', 'loan', 'contact', 'month', 'day_of_week', 'poutcome', 'previous_contact']\n"
     ]
    }
   ],
   "source": [
    "# get numeric and categorical columns\n",
    "numerics = ['int16', 'int32', 'int64', 'float16', 'float32', 'float64']\n",
    "numeric_columns = X.select_dtypes(include=numerics).columns.to_list()\n",
    "categorical_columns = X.select_dtypes(exclude=numerics).columns.to_list()\n",
    "\n",
    "print('numeric columns: {}'.format(numeric_columns))\n",
    "print('categorical columns: {}'.format(categorical_columns))"
   ]
  },
  {
   "cell_type": "code",
   "execution_count": 10,
   "metadata": {},
   "outputs": [
    {
     "name": "stdout",
     "output_type": "stream",
     "text": [
      "unique values for job: \n",
      "['housemaid' 'services' 'admin.' 'blue-collar' 'technician' 'retired'\n",
      " 'management' 'unemployed' 'self-employed' 'unknown' 'entrepreneur'\n",
      " 'student']\n",
      "unique values for marital: \n",
      "['married' 'single' 'divorced' 'unknown']\n",
      "unique values for education: \n",
      "['basic.4y' 'high.school' 'basic.6y' 'basic.9y' 'professional.course'\n",
      " 'unknown' 'university.degree' 'illiterate']\n",
      "unique values for default: \n",
      "['no' 'unknown' 'yes']\n",
      "unique values for housing: \n",
      "['no' 'yes' 'unknown']\n",
      "unique values for loan: \n",
      "['no' 'yes' 'unknown']\n",
      "unique values for contact: \n",
      "['telephone' 'cellular']\n",
      "unique values for month: \n",
      "['may' 'jun' 'jul' 'aug' 'oct' 'nov' 'dec' 'mar' 'apr' 'sep']\n",
      "unique values for day_of_week: \n",
      "['mon' 'tue' 'wed' 'thu' 'fri']\n",
      "unique values for poutcome: \n",
      "['nonexistent' 'failure' 'success']\n",
      "unique values for previous_contact: \n",
      "['no' 'yes']\n"
     ]
    }
   ],
   "source": [
    "# check unique values for categorical values\n",
    "for col in categorical_columns:\n",
    "    print('unique values for {}: \\n{}'.format(col, df[col].unique()))\n"
   ]
  },
  {
   "attachments": {},
   "cell_type": "markdown",
   "metadata": {},
   "source": [
    "# Train-Test Split the Data"
   ]
  },
  {
   "cell_type": "code",
   "execution_count": 11,
   "metadata": {},
   "outputs": [],
   "source": [
    "# way too much data for training; let´s split the data\n",
    "X_train, X_test, y_train, y_test = train_test_split(\n",
    "    X, y, \n",
    "    test_size=0.90, \n",
    "    stratify=y,\n",
    "    random_state=123)"
   ]
  },
  {
   "cell_type": "code",
   "execution_count": 12,
   "metadata": {},
   "outputs": [
    {
     "data": {
      "text/plain": [
       "(4118, 15)"
      ]
     },
     "execution_count": 12,
     "metadata": {},
     "output_type": "execute_result"
    }
   ],
   "source": [
    "X_train.shape"
   ]
  },
  {
   "cell_type": "code",
   "execution_count": 13,
   "metadata": {},
   "outputs": [
    {
     "data": {
      "text/plain": [
       "(37070, 15)"
      ]
     },
     "execution_count": 13,
     "metadata": {},
     "output_type": "execute_result"
    }
   ],
   "source": [
    "X_test.shape"
   ]
  },
  {
   "cell_type": "code",
   "execution_count": 14,
   "metadata": {},
   "outputs": [
    {
     "data": {
      "text/html": [
       "<div>\n",
       "<style scoped>\n",
       "    .dataframe tbody tr th:only-of-type {\n",
       "        vertical-align: middle;\n",
       "    }\n",
       "\n",
       "    .dataframe tbody tr th {\n",
       "        vertical-align: top;\n",
       "    }\n",
       "\n",
       "    .dataframe thead th {\n",
       "        text-align: right;\n",
       "    }\n",
       "</style>\n",
       "<table border=\"1\" class=\"dataframe\">\n",
       "  <thead>\n",
       "    <tr style=\"text-align: right;\">\n",
       "      <th></th>\n",
       "      <th>age</th>\n",
       "      <th>job</th>\n",
       "      <th>marital</th>\n",
       "      <th>education</th>\n",
       "      <th>default</th>\n",
       "      <th>housing</th>\n",
       "      <th>loan</th>\n",
       "      <th>contact</th>\n",
       "      <th>month</th>\n",
       "      <th>day_of_week</th>\n",
       "      <th>campaign</th>\n",
       "      <th>pdays</th>\n",
       "      <th>previous</th>\n",
       "      <th>poutcome</th>\n",
       "      <th>previous_contact</th>\n",
       "    </tr>\n",
       "  </thead>\n",
       "  <tbody>\n",
       "    <tr>\n",
       "      <th>13583</th>\n",
       "      <td>25</td>\n",
       "      <td>technician</td>\n",
       "      <td>married</td>\n",
       "      <td>professional.course</td>\n",
       "      <td>no</td>\n",
       "      <td>no</td>\n",
       "      <td>no</td>\n",
       "      <td>cellular</td>\n",
       "      <td>jul</td>\n",
       "      <td>thu</td>\n",
       "      <td>3</td>\n",
       "      <td>NaN</td>\n",
       "      <td>0</td>\n",
       "      <td>nonexistent</td>\n",
       "      <td>no</td>\n",
       "    </tr>\n",
       "    <tr>\n",
       "      <th>5572</th>\n",
       "      <td>42</td>\n",
       "      <td>housemaid</td>\n",
       "      <td>married</td>\n",
       "      <td>basic.4y</td>\n",
       "      <td>no</td>\n",
       "      <td>yes</td>\n",
       "      <td>no</td>\n",
       "      <td>telephone</td>\n",
       "      <td>may</td>\n",
       "      <td>mon</td>\n",
       "      <td>1</td>\n",
       "      <td>NaN</td>\n",
       "      <td>0</td>\n",
       "      <td>nonexistent</td>\n",
       "      <td>no</td>\n",
       "    </tr>\n",
       "    <tr>\n",
       "      <th>4906</th>\n",
       "      <td>44</td>\n",
       "      <td>technician</td>\n",
       "      <td>married</td>\n",
       "      <td>high.school</td>\n",
       "      <td>unknown</td>\n",
       "      <td>yes</td>\n",
       "      <td>no</td>\n",
       "      <td>telephone</td>\n",
       "      <td>may</td>\n",
       "      <td>wed</td>\n",
       "      <td>2</td>\n",
       "      <td>NaN</td>\n",
       "      <td>0</td>\n",
       "      <td>nonexistent</td>\n",
       "      <td>no</td>\n",
       "    </tr>\n",
       "    <tr>\n",
       "      <th>24720</th>\n",
       "      <td>37</td>\n",
       "      <td>entrepreneur</td>\n",
       "      <td>married</td>\n",
       "      <td>university.degree</td>\n",
       "      <td>unknown</td>\n",
       "      <td>yes</td>\n",
       "      <td>no</td>\n",
       "      <td>telephone</td>\n",
       "      <td>nov</td>\n",
       "      <td>mon</td>\n",
       "      <td>1</td>\n",
       "      <td>NaN</td>\n",
       "      <td>1</td>\n",
       "      <td>failure</td>\n",
       "      <td>no</td>\n",
       "    </tr>\n",
       "    <tr>\n",
       "      <th>1298</th>\n",
       "      <td>31</td>\n",
       "      <td>blue-collar</td>\n",
       "      <td>married</td>\n",
       "      <td>basic.9y</td>\n",
       "      <td>no</td>\n",
       "      <td>no</td>\n",
       "      <td>no</td>\n",
       "      <td>telephone</td>\n",
       "      <td>may</td>\n",
       "      <td>thu</td>\n",
       "      <td>1</td>\n",
       "      <td>NaN</td>\n",
       "      <td>0</td>\n",
       "      <td>nonexistent</td>\n",
       "      <td>no</td>\n",
       "    </tr>\n",
       "  </tbody>\n",
       "</table>\n",
       "</div>"
      ],
      "text/plain": [
       "       age           job  marital            education  default housing loan  \\\n",
       "13583   25    technician  married  professional.course       no      no   no   \n",
       "5572    42     housemaid  married             basic.4y       no     yes   no   \n",
       "4906    44    technician  married          high.school  unknown     yes   no   \n",
       "24720   37  entrepreneur  married    university.degree  unknown     yes   no   \n",
       "1298    31   blue-collar  married             basic.9y       no      no   no   \n",
       "\n",
       "         contact month day_of_week  campaign  pdays  previous     poutcome  \\\n",
       "13583   cellular   jul         thu         3    NaN         0  nonexistent   \n",
       "5572   telephone   may         mon         1    NaN         0  nonexistent   \n",
       "4906   telephone   may         wed         2    NaN         0  nonexistent   \n",
       "24720  telephone   nov         mon         1    NaN         1      failure   \n",
       "1298   telephone   may         thu         1    NaN         0  nonexistent   \n",
       "\n",
       "      previous_contact  \n",
       "13583               no  \n",
       "5572                no  \n",
       "4906                no  \n",
       "24720               no  \n",
       "1298                no  "
      ]
     },
     "execution_count": 14,
     "metadata": {},
     "output_type": "execute_result"
    }
   ],
   "source": [
    "X_train.head()"
   ]
  },
  {
   "attachments": {},
   "cell_type": "markdown",
   "metadata": {},
   "source": [
    "## Simulate Additional Missing Values and Outliers to Ensure the Methods for Recovery Work"
   ]
  },
  {
   "cell_type": "code",
   "execution_count": 15,
   "metadata": {},
   "outputs": [],
   "source": [
    "# create some more missing data in 5% of all rows to ensure enough missing data to test the missing data imputation methods\n",
    "X_train = create_missing_values(X_train, na_percentage=0.05)\n",
    "X_test = create_missing_values(X_test, na_percentage=0.05)"
   ]
  },
  {
   "cell_type": "code",
   "execution_count": 16,
   "metadata": {},
   "outputs": [],
   "source": [
    "# create additional outliers in 5% of the rows to test out outlier removal method\n",
    "X_train = create_outliers(X_train, numeric_columns, 0.05)\n",
    "X_test = create_outliers(X_test, numeric_columns, 0.05)"
   ]
  },
  {
   "attachments": {},
   "cell_type": "markdown",
   "metadata": {},
   "source": [
    "# Data Analysis Preparation"
   ]
  },
  {
   "cell_type": "code",
   "execution_count": 17,
   "metadata": {},
   "outputs": [
    {
     "data": {
      "text/html": [
       "<div>\n",
       "<style scoped>\n",
       "    .dataframe tbody tr th:only-of-type {\n",
       "        vertical-align: middle;\n",
       "    }\n",
       "\n",
       "    .dataframe tbody tr th {\n",
       "        vertical-align: top;\n",
       "    }\n",
       "\n",
       "    .dataframe thead th {\n",
       "        text-align: right;\n",
       "    }\n",
       "</style>\n",
       "<table border=\"1\" class=\"dataframe\">\n",
       "  <thead>\n",
       "    <tr style=\"text-align: right;\">\n",
       "      <th></th>\n",
       "      <th>age</th>\n",
       "      <th>job</th>\n",
       "      <th>marital</th>\n",
       "      <th>education</th>\n",
       "      <th>default</th>\n",
       "      <th>housing</th>\n",
       "      <th>loan</th>\n",
       "      <th>contact</th>\n",
       "      <th>month</th>\n",
       "      <th>day_of_week</th>\n",
       "      <th>campaign</th>\n",
       "      <th>pdays</th>\n",
       "      <th>previous</th>\n",
       "      <th>poutcome</th>\n",
       "      <th>previous_contact</th>\n",
       "    </tr>\n",
       "  </thead>\n",
       "  <tbody>\n",
       "    <tr>\n",
       "      <th>13583</th>\n",
       "      <td>25.0</td>\n",
       "      <td>technician</td>\n",
       "      <td>married</td>\n",
       "      <td>professional.course</td>\n",
       "      <td>no</td>\n",
       "      <td>no</td>\n",
       "      <td>no</td>\n",
       "      <td>cellular</td>\n",
       "      <td>NaN</td>\n",
       "      <td>thu</td>\n",
       "      <td>3.0</td>\n",
       "      <td>NaN</td>\n",
       "      <td>1.971654</td>\n",
       "      <td>nonexistent</td>\n",
       "      <td>no</td>\n",
       "    </tr>\n",
       "    <tr>\n",
       "      <th>5572</th>\n",
       "      <td>42.0</td>\n",
       "      <td>housemaid</td>\n",
       "      <td>married</td>\n",
       "      <td>basic.4y</td>\n",
       "      <td>no</td>\n",
       "      <td>yes</td>\n",
       "      <td>no</td>\n",
       "      <td>telephone</td>\n",
       "      <td>may</td>\n",
       "      <td>mon</td>\n",
       "      <td>1.0</td>\n",
       "      <td>NaN</td>\n",
       "      <td>0.000000</td>\n",
       "      <td>nonexistent</td>\n",
       "      <td>no</td>\n",
       "    </tr>\n",
       "    <tr>\n",
       "      <th>4906</th>\n",
       "      <td>NaN</td>\n",
       "      <td>technician</td>\n",
       "      <td>married</td>\n",
       "      <td>high.school</td>\n",
       "      <td>unknown</td>\n",
       "      <td>yes</td>\n",
       "      <td>no</td>\n",
       "      <td>telephone</td>\n",
       "      <td>may</td>\n",
       "      <td>wed</td>\n",
       "      <td>2.0</td>\n",
       "      <td>15.628392</td>\n",
       "      <td>0.000000</td>\n",
       "      <td>nonexistent</td>\n",
       "      <td>no</td>\n",
       "    </tr>\n",
       "    <tr>\n",
       "      <th>24720</th>\n",
       "      <td>37.0</td>\n",
       "      <td>entrepreneur</td>\n",
       "      <td>married</td>\n",
       "      <td>university.degree</td>\n",
       "      <td>unknown</td>\n",
       "      <td>yes</td>\n",
       "      <td>no</td>\n",
       "      <td>telephone</td>\n",
       "      <td>NaN</td>\n",
       "      <td>mon</td>\n",
       "      <td>1.0</td>\n",
       "      <td>NaN</td>\n",
       "      <td>1.000000</td>\n",
       "      <td>failure</td>\n",
       "      <td>no</td>\n",
       "    </tr>\n",
       "    <tr>\n",
       "      <th>1298</th>\n",
       "      <td>NaN</td>\n",
       "      <td>blue-collar</td>\n",
       "      <td>married</td>\n",
       "      <td>basic.9y</td>\n",
       "      <td>no</td>\n",
       "      <td>no</td>\n",
       "      <td>no</td>\n",
       "      <td>telephone</td>\n",
       "      <td>may</td>\n",
       "      <td>thu</td>\n",
       "      <td>NaN</td>\n",
       "      <td>NaN</td>\n",
       "      <td>0.000000</td>\n",
       "      <td>nonexistent</td>\n",
       "      <td>NaN</td>\n",
       "    </tr>\n",
       "    <tr>\n",
       "      <th>...</th>\n",
       "      <td>...</td>\n",
       "      <td>...</td>\n",
       "      <td>...</td>\n",
       "      <td>...</td>\n",
       "      <td>...</td>\n",
       "      <td>...</td>\n",
       "      <td>...</td>\n",
       "      <td>...</td>\n",
       "      <td>...</td>\n",
       "      <td>...</td>\n",
       "      <td>...</td>\n",
       "      <td>...</td>\n",
       "      <td>...</td>\n",
       "      <td>...</td>\n",
       "      <td>...</td>\n",
       "    </tr>\n",
       "    <tr>\n",
       "      <th>10745</th>\n",
       "      <td>34.0</td>\n",
       "      <td>entrepreneur</td>\n",
       "      <td>single</td>\n",
       "      <td>professional.course</td>\n",
       "      <td>no</td>\n",
       "      <td>no</td>\n",
       "      <td>no</td>\n",
       "      <td>telephone</td>\n",
       "      <td>jun</td>\n",
       "      <td>tue</td>\n",
       "      <td>2.0</td>\n",
       "      <td>NaN</td>\n",
       "      <td>NaN</td>\n",
       "      <td>nonexistent</td>\n",
       "      <td>no</td>\n",
       "    </tr>\n",
       "    <tr>\n",
       "      <th>16796</th>\n",
       "      <td>41.0</td>\n",
       "      <td>entrepreneur</td>\n",
       "      <td>single</td>\n",
       "      <td>high.school</td>\n",
       "      <td>no</td>\n",
       "      <td>yes</td>\n",
       "      <td>no</td>\n",
       "      <td>cellular</td>\n",
       "      <td>jul</td>\n",
       "      <td>thu</td>\n",
       "      <td>1.0</td>\n",
       "      <td>NaN</td>\n",
       "      <td>0.000000</td>\n",
       "      <td>nonexistent</td>\n",
       "      <td>no</td>\n",
       "    </tr>\n",
       "    <tr>\n",
       "      <th>35500</th>\n",
       "      <td>46.0</td>\n",
       "      <td>blue-collar</td>\n",
       "      <td>married</td>\n",
       "      <td>basic.9y</td>\n",
       "      <td>no</td>\n",
       "      <td>yes</td>\n",
       "      <td>no</td>\n",
       "      <td>cellular</td>\n",
       "      <td>may</td>\n",
       "      <td>mon</td>\n",
       "      <td>1.0</td>\n",
       "      <td>NaN</td>\n",
       "      <td>0.000000</td>\n",
       "      <td>nonexistent</td>\n",
       "      <td>no</td>\n",
       "    </tr>\n",
       "    <tr>\n",
       "      <th>21528</th>\n",
       "      <td>NaN</td>\n",
       "      <td>blue-collar</td>\n",
       "      <td>married</td>\n",
       "      <td>basic.4y</td>\n",
       "      <td>no</td>\n",
       "      <td>yes</td>\n",
       "      <td>no</td>\n",
       "      <td>cellular</td>\n",
       "      <td>aug</td>\n",
       "      <td>tue</td>\n",
       "      <td>1.0</td>\n",
       "      <td>NaN</td>\n",
       "      <td>0.000000</td>\n",
       "      <td>nonexistent</td>\n",
       "      <td>no</td>\n",
       "    </tr>\n",
       "    <tr>\n",
       "      <th>24475</th>\n",
       "      <td>48.0</td>\n",
       "      <td>services</td>\n",
       "      <td>divorced</td>\n",
       "      <td>high.school</td>\n",
       "      <td>NaN</td>\n",
       "      <td>yes</td>\n",
       "      <td>no</td>\n",
       "      <td>cellular</td>\n",
       "      <td>nov</td>\n",
       "      <td>mon</td>\n",
       "      <td>1.0</td>\n",
       "      <td>NaN</td>\n",
       "      <td>0.000000</td>\n",
       "      <td>nonexistent</td>\n",
       "      <td>no</td>\n",
       "    </tr>\n",
       "  </tbody>\n",
       "</table>\n",
       "<p>4118 rows × 15 columns</p>\n",
       "</div>"
      ],
      "text/plain": [
       "        age           job   marital            education  default housing  \\\n",
       "13583  25.0    technician   married  professional.course       no      no   \n",
       "5572   42.0     housemaid   married             basic.4y       no     yes   \n",
       "4906    NaN    technician   married          high.school  unknown     yes   \n",
       "24720  37.0  entrepreneur   married    university.degree  unknown     yes   \n",
       "1298    NaN   blue-collar   married             basic.9y       no      no   \n",
       "...     ...           ...       ...                  ...      ...     ...   \n",
       "10745  34.0  entrepreneur    single  professional.course       no      no   \n",
       "16796  41.0  entrepreneur    single          high.school       no     yes   \n",
       "35500  46.0   blue-collar   married             basic.9y       no     yes   \n",
       "21528   NaN   blue-collar   married             basic.4y       no     yes   \n",
       "24475  48.0      services  divorced          high.school      NaN     yes   \n",
       "\n",
       "      loan    contact month day_of_week  campaign      pdays  previous  \\\n",
       "13583   no   cellular   NaN         thu       3.0        NaN  1.971654   \n",
       "5572    no  telephone   may         mon       1.0        NaN  0.000000   \n",
       "4906    no  telephone   may         wed       2.0  15.628392  0.000000   \n",
       "24720   no  telephone   NaN         mon       1.0        NaN  1.000000   \n",
       "1298    no  telephone   may         thu       NaN        NaN  0.000000   \n",
       "...    ...        ...   ...         ...       ...        ...       ...   \n",
       "10745   no  telephone   jun         tue       2.0        NaN       NaN   \n",
       "16796   no   cellular   jul         thu       1.0        NaN  0.000000   \n",
       "35500   no   cellular   may         mon       1.0        NaN  0.000000   \n",
       "21528   no   cellular   aug         tue       1.0        NaN  0.000000   \n",
       "24475   no   cellular   nov         mon       1.0        NaN  0.000000   \n",
       "\n",
       "          poutcome previous_contact  \n",
       "13583  nonexistent               no  \n",
       "5572   nonexistent               no  \n",
       "4906   nonexistent               no  \n",
       "24720      failure               no  \n",
       "1298   nonexistent              NaN  \n",
       "...            ...              ...  \n",
       "10745  nonexistent               no  \n",
       "16796  nonexistent               no  \n",
       "35500  nonexistent               no  \n",
       "21528  nonexistent               no  \n",
       "24475  nonexistent               no  \n",
       "\n",
       "[4118 rows x 15 columns]"
      ]
     },
     "execution_count": 17,
     "metadata": {},
     "output_type": "execute_result"
    }
   ],
   "source": [
    "X_train"
   ]
  },
  {
   "cell_type": "code",
   "execution_count": 18,
   "metadata": {},
   "outputs": [
    {
     "name": "stdout",
     "output_type": "stream",
     "text": [
      "<class 'pandas.core.frame.DataFrame'>\n",
      "Int64Index: 4118 entries, 13583 to 24475\n",
      "Data columns (total 15 columns):\n",
      " #   Column            Non-Null Count  Dtype  \n",
      "---  ------            --------------  -----  \n",
      " 0   age               3924 non-null   float64\n",
      " 1   job               3913 non-null   object \n",
      " 2   marital           3913 non-null   object \n",
      " 3   education         3913 non-null   object \n",
      " 4   default           3913 non-null   object \n",
      " 5   housing           3913 non-null   object \n",
      " 6   loan              3913 non-null   object \n",
      " 7   contact           3913 non-null   object \n",
      " 8   month             3913 non-null   object \n",
      " 9   day_of_week       3913 non-null   object \n",
      " 10  campaign          3930 non-null   float64\n",
      " 11  pdays             341 non-null    float64\n",
      " 12  previous          3929 non-null   float64\n",
      " 13  poutcome          3913 non-null   object \n",
      " 14  previous_contact  3913 non-null   object \n",
      "dtypes: float64(4), object(11)\n",
      "memory usage: 643.8+ KB\n"
     ]
    }
   ],
   "source": [
    "X_train.info()"
   ]
  },
  {
   "cell_type": "code",
   "execution_count": 19,
   "metadata": {},
   "outputs": [
    {
     "data": {
      "text/plain": [
       "age                  194\n",
       "job                  205\n",
       "marital              205\n",
       "education            205\n",
       "default              205\n",
       "housing              205\n",
       "loan                 205\n",
       "contact              205\n",
       "month                205\n",
       "day_of_week          205\n",
       "campaign             188\n",
       "pdays               3777\n",
       "previous             189\n",
       "poutcome             205\n",
       "previous_contact     205\n",
       "dtype: int64"
      ]
     },
     "execution_count": 19,
     "metadata": {},
     "output_type": "execute_result"
    }
   ],
   "source": [
    "X_train.isna().sum()"
   ]
  },
  {
   "attachments": {},
   "cell_type": "markdown",
   "metadata": {},
   "source": [
    "## Impute Missing Values"
   ]
  },
  {
   "cell_type": "code",
   "execution_count": 20,
   "metadata": {},
   "outputs": [
    {
     "data": {
      "image/png": "[encoded data removed]",
      "text/plain": [
       "<Figure size 432x288 with 1 Axes>"
      ]
     },
     "metadata": {
      "needs_background": "light"
     },
     "output_type": "display_data"
    }
   ],
   "source": [
    "# Let's see if we have any missing data, luckily we don't!\n",
    "sns.heatmap(X_train.isna(), yticklabels = False, cbar = False, cmap=\"Blues\")\n",
    "plt.show()"
   ]
  },
  {
   "cell_type": "code",
   "execution_count": 21,
   "metadata": {},
   "outputs": [
    {
     "data": {
      "text/html": [
       "<div>\n",
       "<style scoped>\n",
       "    .dataframe tbody tr th:only-of-type {\n",
       "        vertical-align: middle;\n",
       "    }\n",
       "\n",
       "    .dataframe tbody tr th {\n",
       "        vertical-align: top;\n",
       "    }\n",
       "\n",
       "    .dataframe thead th {\n",
       "        text-align: right;\n",
       "    }\n",
       "</style>\n",
       "<table border=\"1\" class=\"dataframe\">\n",
       "  <thead>\n",
       "    <tr style=\"text-align: right;\">\n",
       "      <th></th>\n",
       "      <th>age</th>\n",
       "      <th>campaign</th>\n",
       "      <th>pdays</th>\n",
       "      <th>previous</th>\n",
       "    </tr>\n",
       "  </thead>\n",
       "  <tbody>\n",
       "    <tr>\n",
       "      <th>13583</th>\n",
       "      <td>25.0</td>\n",
       "      <td>3.0</td>\n",
       "      <td>15.824953</td>\n",
       "      <td>1.971654</td>\n",
       "    </tr>\n",
       "    <tr>\n",
       "      <th>5572</th>\n",
       "      <td>42.0</td>\n",
       "      <td>1.0</td>\n",
       "      <td>15.824953</td>\n",
       "      <td>0.000000</td>\n",
       "    </tr>\n",
       "    <tr>\n",
       "      <th>4906</th>\n",
       "      <td>39.0</td>\n",
       "      <td>2.0</td>\n",
       "      <td>15.628392</td>\n",
       "      <td>0.000000</td>\n",
       "    </tr>\n",
       "    <tr>\n",
       "      <th>24720</th>\n",
       "      <td>37.0</td>\n",
       "      <td>1.0</td>\n",
       "      <td>15.824953</td>\n",
       "      <td>1.000000</td>\n",
       "    </tr>\n",
       "    <tr>\n",
       "      <th>1298</th>\n",
       "      <td>39.0</td>\n",
       "      <td>2.0</td>\n",
       "      <td>15.824953</td>\n",
       "      <td>0.000000</td>\n",
       "    </tr>\n",
       "  </tbody>\n",
       "</table>\n",
       "</div>"
      ],
      "text/plain": [
       "        age  campaign      pdays  previous\n",
       "13583  25.0       3.0  15.824953  1.971654\n",
       "5572   42.0       1.0  15.824953  0.000000\n",
       "4906   39.0       2.0  15.628392  0.000000\n",
       "24720  37.0       1.0  15.824953  1.000000\n",
       "1298   39.0       2.0  15.824953  0.000000"
      ]
     },
     "execution_count": 21,
     "metadata": {},
     "output_type": "execute_result"
    }
   ],
   "source": [
    "# Impute missing numeric values\n",
    "numeric_imputer = SimpleImputer(missing_values=np.nan, strategy='median')\n",
    "X_train_numeric = numeric_imputer.fit_transform(X_train.select_dtypes(include=numerics))\n",
    "X_train_numeric = pd.DataFrame(X_train_numeric, columns=numeric_columns, index=X_train.index)\n",
    "X_train_numeric.head()"
   ]
  },
  {
   "cell_type": "code",
   "execution_count": 22,
   "metadata": {},
   "outputs": [
    {
     "data": {
      "text/html": [
       "<div>\n",
       "<style scoped>\n",
       "    .dataframe tbody tr th:only-of-type {\n",
       "        vertical-align: middle;\n",
       "    }\n",
       "\n",
       "    .dataframe tbody tr th {\n",
       "        vertical-align: top;\n",
       "    }\n",
       "\n",
       "    .dataframe thead th {\n",
       "        text-align: right;\n",
       "    }\n",
       "</style>\n",
       "<table border=\"1\" class=\"dataframe\">\n",
       "  <thead>\n",
       "    <tr style=\"text-align: right;\">\n",
       "      <th></th>\n",
       "      <th>age</th>\n",
       "      <th>campaign</th>\n",
       "      <th>pdays</th>\n",
       "      <th>previous</th>\n",
       "    </tr>\n",
       "  </thead>\n",
       "  <tbody>\n",
       "    <tr>\n",
       "      <th>9909</th>\n",
       "      <td>55.0</td>\n",
       "      <td>2.000000</td>\n",
       "      <td>15.824953</td>\n",
       "      <td>0.0</td>\n",
       "    </tr>\n",
       "    <tr>\n",
       "      <th>8714</th>\n",
       "      <td>38.0</td>\n",
       "      <td>4.000000</td>\n",
       "      <td>15.824953</td>\n",
       "      <td>0.0</td>\n",
       "    </tr>\n",
       "    <tr>\n",
       "      <th>11249</th>\n",
       "      <td>40.0</td>\n",
       "      <td>11.297449</td>\n",
       "      <td>15.824953</td>\n",
       "      <td>0.0</td>\n",
       "    </tr>\n",
       "    <tr>\n",
       "      <th>26948</th>\n",
       "      <td>39.0</td>\n",
       "      <td>3.000000</td>\n",
       "      <td>15.824953</td>\n",
       "      <td>0.0</td>\n",
       "    </tr>\n",
       "    <tr>\n",
       "      <th>11755</th>\n",
       "      <td>53.0</td>\n",
       "      <td>3.000000</td>\n",
       "      <td>15.824953</td>\n",
       "      <td>0.0</td>\n",
       "    </tr>\n",
       "  </tbody>\n",
       "</table>\n",
       "</div>"
      ],
      "text/plain": [
       "        age   campaign      pdays  previous\n",
       "9909   55.0   2.000000  15.824953       0.0\n",
       "8714   38.0   4.000000  15.824953       0.0\n",
       "11249  40.0  11.297449  15.824953       0.0\n",
       "26948  39.0   3.000000  15.824953       0.0\n",
       "11755  53.0   3.000000  15.824953       0.0"
      ]
     },
     "execution_count": 22,
     "metadata": {},
     "output_type": "execute_result"
    }
   ],
   "source": [
    "# impute missing numeric values in test dataset\n",
    "X_test_numeric = numeric_imputer.transform(X_test.select_dtypes(include=numerics))\n",
    "X_test_numeric = pd.DataFrame(X_test_numeric, columns=numeric_columns, index=X_test.index)\n",
    "X_test_numeric.head()"
   ]
  },
  {
   "cell_type": "code",
   "execution_count": 23,
   "metadata": {},
   "outputs": [
    {
     "data": {
      "text/html": [
       "<div>\n",
       "<style scoped>\n",
       "    .dataframe tbody tr th:only-of-type {\n",
       "        vertical-align: middle;\n",
       "    }\n",
       "\n",
       "    .dataframe tbody tr th {\n",
       "        vertical-align: top;\n",
       "    }\n",
       "\n",
       "    .dataframe thead th {\n",
       "        text-align: right;\n",
       "    }\n",
       "</style>\n",
       "<table border=\"1\" class=\"dataframe\">\n",
       "  <thead>\n",
       "    <tr style=\"text-align: right;\">\n",
       "      <th></th>\n",
       "      <th>job</th>\n",
       "      <th>marital</th>\n",
       "      <th>education</th>\n",
       "      <th>default</th>\n",
       "      <th>housing</th>\n",
       "      <th>loan</th>\n",
       "      <th>contact</th>\n",
       "      <th>month</th>\n",
       "      <th>day_of_week</th>\n",
       "      <th>poutcome</th>\n",
       "      <th>previous_contact</th>\n",
       "    </tr>\n",
       "  </thead>\n",
       "  <tbody>\n",
       "    <tr>\n",
       "      <th>13583</th>\n",
       "      <td>technician</td>\n",
       "      <td>married</td>\n",
       "      <td>professional.course</td>\n",
       "      <td>no</td>\n",
       "      <td>no</td>\n",
       "      <td>no</td>\n",
       "      <td>cellular</td>\n",
       "      <td>may</td>\n",
       "      <td>thu</td>\n",
       "      <td>nonexistent</td>\n",
       "      <td>no</td>\n",
       "    </tr>\n",
       "    <tr>\n",
       "      <th>5572</th>\n",
       "      <td>housemaid</td>\n",
       "      <td>married</td>\n",
       "      <td>basic.4y</td>\n",
       "      <td>no</td>\n",
       "      <td>yes</td>\n",
       "      <td>no</td>\n",
       "      <td>telephone</td>\n",
       "      <td>may</td>\n",
       "      <td>mon</td>\n",
       "      <td>nonexistent</td>\n",
       "      <td>no</td>\n",
       "    </tr>\n",
       "    <tr>\n",
       "      <th>4906</th>\n",
       "      <td>technician</td>\n",
       "      <td>married</td>\n",
       "      <td>high.school</td>\n",
       "      <td>unknown</td>\n",
       "      <td>yes</td>\n",
       "      <td>no</td>\n",
       "      <td>telephone</td>\n",
       "      <td>may</td>\n",
       "      <td>wed</td>\n",
       "      <td>nonexistent</td>\n",
       "      <td>no</td>\n",
       "    </tr>\n",
       "    <tr>\n",
       "      <th>24720</th>\n",
       "      <td>entrepreneur</td>\n",
       "      <td>married</td>\n",
       "      <td>university.degree</td>\n",
       "      <td>unknown</td>\n",
       "      <td>yes</td>\n",
       "      <td>no</td>\n",
       "      <td>telephone</td>\n",
       "      <td>may</td>\n",
       "      <td>mon</td>\n",
       "      <td>failure</td>\n",
       "      <td>no</td>\n",
       "    </tr>\n",
       "    <tr>\n",
       "      <th>1298</th>\n",
       "      <td>blue-collar</td>\n",
       "      <td>married</td>\n",
       "      <td>basic.9y</td>\n",
       "      <td>no</td>\n",
       "      <td>no</td>\n",
       "      <td>no</td>\n",
       "      <td>telephone</td>\n",
       "      <td>may</td>\n",
       "      <td>thu</td>\n",
       "      <td>nonexistent</td>\n",
       "      <td>no</td>\n",
       "    </tr>\n",
       "  </tbody>\n",
       "</table>\n",
       "</div>"
      ],
      "text/plain": [
       "                job  marital            education  default housing loan  \\\n",
       "13583    technician  married  professional.course       no      no   no   \n",
       "5572      housemaid  married             basic.4y       no     yes   no   \n",
       "4906     technician  married          high.school  unknown     yes   no   \n",
       "24720  entrepreneur  married    university.degree  unknown     yes   no   \n",
       "1298    blue-collar  married             basic.9y       no      no   no   \n",
       "\n",
       "         contact month day_of_week     poutcome previous_contact  \n",
       "13583   cellular   may         thu  nonexistent               no  \n",
       "5572   telephone   may         mon  nonexistent               no  \n",
       "4906   telephone   may         wed  nonexistent               no  \n",
       "24720  telephone   may         mon      failure               no  \n",
       "1298   telephone   may         thu  nonexistent               no  "
      ]
     },
     "execution_count": 23,
     "metadata": {},
     "output_type": "execute_result"
    }
   ],
   "source": [
    "# Impute missing categorical values\n",
    "categorical_imputer = SimpleImputer(missing_values=np.nan, strategy='most_frequent')\n",
    "X_train_categorical = categorical_imputer.fit_transform(X_train.select_dtypes(exclude=numerics))\n",
    "X_train_categorical = pd.DataFrame(X_train_categorical, columns=categorical_columns, index=X_train.index)\n",
    "X_train_categorical.head()"
   ]
  },
  {
   "cell_type": "code",
   "execution_count": 24,
   "metadata": {},
   "outputs": [
    {
     "data": {
      "text/html": [
       "<div>\n",
       "<style scoped>\n",
       "    .dataframe tbody tr th:only-of-type {\n",
       "        vertical-align: middle;\n",
       "    }\n",
       "\n",
       "    .dataframe tbody tr th {\n",
       "        vertical-align: top;\n",
       "    }\n",
       "\n",
       "    .dataframe thead th {\n",
       "        text-align: right;\n",
       "    }\n",
       "</style>\n",
       "<table border=\"1\" class=\"dataframe\">\n",
       "  <thead>\n",
       "    <tr style=\"text-align: right;\">\n",
       "      <th></th>\n",
       "      <th>job</th>\n",
       "      <th>marital</th>\n",
       "      <th>education</th>\n",
       "      <th>default</th>\n",
       "      <th>housing</th>\n",
       "      <th>loan</th>\n",
       "      <th>contact</th>\n",
       "      <th>month</th>\n",
       "      <th>day_of_week</th>\n",
       "      <th>poutcome</th>\n",
       "      <th>previous_contact</th>\n",
       "    </tr>\n",
       "  </thead>\n",
       "  <tbody>\n",
       "    <tr>\n",
       "      <th>9909</th>\n",
       "      <td>technician</td>\n",
       "      <td>married</td>\n",
       "      <td>high.school</td>\n",
       "      <td>unknown</td>\n",
       "      <td>no</td>\n",
       "      <td>no</td>\n",
       "      <td>telephone</td>\n",
       "      <td>jun</td>\n",
       "      <td>wed</td>\n",
       "      <td>nonexistent</td>\n",
       "      <td>no</td>\n",
       "    </tr>\n",
       "    <tr>\n",
       "      <th>8714</th>\n",
       "      <td>technician</td>\n",
       "      <td>married</td>\n",
       "      <td>university.degree</td>\n",
       "      <td>unknown</td>\n",
       "      <td>no</td>\n",
       "      <td>no</td>\n",
       "      <td>telephone</td>\n",
       "      <td>jun</td>\n",
       "      <td>wed</td>\n",
       "      <td>nonexistent</td>\n",
       "      <td>no</td>\n",
       "    </tr>\n",
       "    <tr>\n",
       "      <th>11249</th>\n",
       "      <td>admin.</td>\n",
       "      <td>married</td>\n",
       "      <td>university.degree</td>\n",
       "      <td>no</td>\n",
       "      <td>no</td>\n",
       "      <td>no</td>\n",
       "      <td>telephone</td>\n",
       "      <td>jun</td>\n",
       "      <td>thu</td>\n",
       "      <td>nonexistent</td>\n",
       "      <td>no</td>\n",
       "    </tr>\n",
       "    <tr>\n",
       "      <th>26948</th>\n",
       "      <td>blue-collar</td>\n",
       "      <td>married</td>\n",
       "      <td>basic.9y</td>\n",
       "      <td>no</td>\n",
       "      <td>no</td>\n",
       "      <td>no</td>\n",
       "      <td>cellular</td>\n",
       "      <td>nov</td>\n",
       "      <td>thu</td>\n",
       "      <td>nonexistent</td>\n",
       "      <td>no</td>\n",
       "    </tr>\n",
       "    <tr>\n",
       "      <th>11755</th>\n",
       "      <td>technician</td>\n",
       "      <td>married</td>\n",
       "      <td>university.degree</td>\n",
       "      <td>no</td>\n",
       "      <td>yes</td>\n",
       "      <td>no</td>\n",
       "      <td>telephone</td>\n",
       "      <td>jun</td>\n",
       "      <td>fri</td>\n",
       "      <td>nonexistent</td>\n",
       "      <td>no</td>\n",
       "    </tr>\n",
       "  </tbody>\n",
       "</table>\n",
       "</div>"
      ],
      "text/plain": [
       "               job  marital          education  default housing loan  \\\n",
       "9909    technician  married        high.school  unknown      no   no   \n",
       "8714    technician  married  university.degree  unknown      no   no   \n",
       "11249       admin.  married  university.degree       no      no   no   \n",
       "26948  blue-collar  married           basic.9y       no      no   no   \n",
       "11755   technician  married  university.degree       no     yes   no   \n",
       "\n",
       "         contact month day_of_week     poutcome previous_contact  \n",
       "9909   telephone   jun         wed  nonexistent               no  \n",
       "8714   telephone   jun         wed  nonexistent               no  \n",
       "11249  telephone   jun         thu  nonexistent               no  \n",
       "26948   cellular   nov         thu  nonexistent               no  \n",
       "11755  telephone   jun         fri  nonexistent               no  "
      ]
     },
     "execution_count": 24,
     "metadata": {},
     "output_type": "execute_result"
    }
   ],
   "source": [
    "# Impute missing categorical values in test dataset\n",
    "X_test_categorical = categorical_imputer.transform(X_test.select_dtypes(exclude=numerics))\n",
    "X_test_categorical = pd.DataFrame(X_test_categorical, columns=categorical_columns, index=X_test.index)\n",
    "X_test_categorical.head()"
   ]
  },
  {
   "cell_type": "code",
   "execution_count": 25,
   "metadata": {},
   "outputs": [],
   "source": [
    "# Save imputers both numerical and categorical\n",
    "with open('../artifacts/numeric_imputer.pickle', 'wb') as filename:\n",
    "    pickle.dump(numeric_imputer, filename)\n",
    "\n",
    "with open('../artifacts/categorical_imputer.pickle', 'wb') as filename:\n",
    "    pickle.dump(categorical_imputer, filename)"
   ]
  },
  {
   "cell_type": "code",
   "execution_count": 26,
   "metadata": {},
   "outputs": [
    {
     "data": {
      "text/html": [
       "<div>\n",
       "<style scoped>\n",
       "    .dataframe tbody tr th:only-of-type {\n",
       "        vertical-align: middle;\n",
       "    }\n",
       "\n",
       "    .dataframe tbody tr th {\n",
       "        vertical-align: top;\n",
       "    }\n",
       "\n",
       "    .dataframe thead th {\n",
       "        text-align: right;\n",
       "    }\n",
       "</style>\n",
       "<table border=\"1\" class=\"dataframe\">\n",
       "  <thead>\n",
       "    <tr style=\"text-align: right;\">\n",
       "      <th></th>\n",
       "      <th>age</th>\n",
       "      <th>campaign</th>\n",
       "      <th>pdays</th>\n",
       "      <th>previous</th>\n",
       "      <th>job</th>\n",
       "      <th>marital</th>\n",
       "      <th>education</th>\n",
       "      <th>default</th>\n",
       "      <th>housing</th>\n",
       "      <th>loan</th>\n",
       "      <th>contact</th>\n",
       "      <th>month</th>\n",
       "      <th>day_of_week</th>\n",
       "      <th>poutcome</th>\n",
       "      <th>previous_contact</th>\n",
       "    </tr>\n",
       "  </thead>\n",
       "  <tbody>\n",
       "    <tr>\n",
       "      <th>13583</th>\n",
       "      <td>25.0</td>\n",
       "      <td>3.0</td>\n",
       "      <td>15.824953</td>\n",
       "      <td>1.971654</td>\n",
       "      <td>technician</td>\n",
       "      <td>married</td>\n",
       "      <td>professional.course</td>\n",
       "      <td>no</td>\n",
       "      <td>no</td>\n",
       "      <td>no</td>\n",
       "      <td>cellular</td>\n",
       "      <td>may</td>\n",
       "      <td>thu</td>\n",
       "      <td>nonexistent</td>\n",
       "      <td>no</td>\n",
       "    </tr>\n",
       "    <tr>\n",
       "      <th>5572</th>\n",
       "      <td>42.0</td>\n",
       "      <td>1.0</td>\n",
       "      <td>15.824953</td>\n",
       "      <td>0.000000</td>\n",
       "      <td>housemaid</td>\n",
       "      <td>married</td>\n",
       "      <td>basic.4y</td>\n",
       "      <td>no</td>\n",
       "      <td>yes</td>\n",
       "      <td>no</td>\n",
       "      <td>telephone</td>\n",
       "      <td>may</td>\n",
       "      <td>mon</td>\n",
       "      <td>nonexistent</td>\n",
       "      <td>no</td>\n",
       "    </tr>\n",
       "    <tr>\n",
       "      <th>4906</th>\n",
       "      <td>39.0</td>\n",
       "      <td>2.0</td>\n",
       "      <td>15.628392</td>\n",
       "      <td>0.000000</td>\n",
       "      <td>technician</td>\n",
       "      <td>married</td>\n",
       "      <td>high.school</td>\n",
       "      <td>unknown</td>\n",
       "      <td>yes</td>\n",
       "      <td>no</td>\n",
       "      <td>telephone</td>\n",
       "      <td>may</td>\n",
       "      <td>wed</td>\n",
       "      <td>nonexistent</td>\n",
       "      <td>no</td>\n",
       "    </tr>\n",
       "    <tr>\n",
       "      <th>24720</th>\n",
       "      <td>37.0</td>\n",
       "      <td>1.0</td>\n",
       "      <td>15.824953</td>\n",
       "      <td>1.000000</td>\n",
       "      <td>entrepreneur</td>\n",
       "      <td>married</td>\n",
       "      <td>university.degree</td>\n",
       "      <td>unknown</td>\n",
       "      <td>yes</td>\n",
       "      <td>no</td>\n",
       "      <td>telephone</td>\n",
       "      <td>may</td>\n",
       "      <td>mon</td>\n",
       "      <td>failure</td>\n",
       "      <td>no</td>\n",
       "    </tr>\n",
       "    <tr>\n",
       "      <th>1298</th>\n",
       "      <td>39.0</td>\n",
       "      <td>2.0</td>\n",
       "      <td>15.824953</td>\n",
       "      <td>0.000000</td>\n",
       "      <td>blue-collar</td>\n",
       "      <td>married</td>\n",
       "      <td>basic.9y</td>\n",
       "      <td>no</td>\n",
       "      <td>no</td>\n",
       "      <td>no</td>\n",
       "      <td>telephone</td>\n",
       "      <td>may</td>\n",
       "      <td>thu</td>\n",
       "      <td>nonexistent</td>\n",
       "      <td>no</td>\n",
       "    </tr>\n",
       "  </tbody>\n",
       "</table>\n",
       "</div>"
      ],
      "text/plain": [
       "        age  campaign      pdays  previous           job  marital  \\\n",
       "13583  25.0       3.0  15.824953  1.971654    technician  married   \n",
       "5572   42.0       1.0  15.824953  0.000000     housemaid  married   \n",
       "4906   39.0       2.0  15.628392  0.000000    technician  married   \n",
       "24720  37.0       1.0  15.824953  1.000000  entrepreneur  married   \n",
       "1298   39.0       2.0  15.824953  0.000000   blue-collar  married   \n",
       "\n",
       "                 education  default housing loan    contact month day_of_week  \\\n",
       "13583  professional.course       no      no   no   cellular   may         thu   \n",
       "5572              basic.4y       no     yes   no  telephone   may         mon   \n",
       "4906           high.school  unknown     yes   no  telephone   may         wed   \n",
       "24720    university.degree  unknown     yes   no  telephone   may         mon   \n",
       "1298              basic.9y       no      no   no  telephone   may         thu   \n",
       "\n",
       "          poutcome previous_contact  \n",
       "13583  nonexistent               no  \n",
       "5572   nonexistent               no  \n",
       "4906   nonexistent               no  \n",
       "24720      failure               no  \n",
       "1298   nonexistent               no  "
      ]
     },
     "execution_count": 26,
     "metadata": {},
     "output_type": "execute_result"
    }
   ],
   "source": [
    "X_train = pd.concat([X_train_numeric, X_train_categorical], axis=1)\n",
    "X_train.head()"
   ]
  },
  {
   "cell_type": "code",
   "execution_count": 27,
   "metadata": {},
   "outputs": [
    {
     "data": {
      "text/html": [
       "<div>\n",
       "<style scoped>\n",
       "    .dataframe tbody tr th:only-of-type {\n",
       "        vertical-align: middle;\n",
       "    }\n",
       "\n",
       "    .dataframe tbody tr th {\n",
       "        vertical-align: top;\n",
       "    }\n",
       "\n",
       "    .dataframe thead th {\n",
       "        text-align: right;\n",
       "    }\n",
       "</style>\n",
       "<table border=\"1\" class=\"dataframe\">\n",
       "  <thead>\n",
       "    <tr style=\"text-align: right;\">\n",
       "      <th></th>\n",
       "      <th>age</th>\n",
       "      <th>campaign</th>\n",
       "      <th>pdays</th>\n",
       "      <th>previous</th>\n",
       "      <th>job</th>\n",
       "      <th>marital</th>\n",
       "      <th>education</th>\n",
       "      <th>default</th>\n",
       "      <th>housing</th>\n",
       "      <th>loan</th>\n",
       "      <th>contact</th>\n",
       "      <th>month</th>\n",
       "      <th>day_of_week</th>\n",
       "      <th>poutcome</th>\n",
       "      <th>previous_contact</th>\n",
       "    </tr>\n",
       "  </thead>\n",
       "  <tbody>\n",
       "    <tr>\n",
       "      <th>9909</th>\n",
       "      <td>55.0</td>\n",
       "      <td>2.000000</td>\n",
       "      <td>15.824953</td>\n",
       "      <td>0.0</td>\n",
       "      <td>technician</td>\n",
       "      <td>married</td>\n",
       "      <td>high.school</td>\n",
       "      <td>unknown</td>\n",
       "      <td>no</td>\n",
       "      <td>no</td>\n",
       "      <td>telephone</td>\n",
       "      <td>jun</td>\n",
       "      <td>wed</td>\n",
       "      <td>nonexistent</td>\n",
       "      <td>no</td>\n",
       "    </tr>\n",
       "    <tr>\n",
       "      <th>8714</th>\n",
       "      <td>38.0</td>\n",
       "      <td>4.000000</td>\n",
       "      <td>15.824953</td>\n",
       "      <td>0.0</td>\n",
       "      <td>technician</td>\n",
       "      <td>married</td>\n",
       "      <td>university.degree</td>\n",
       "      <td>unknown</td>\n",
       "      <td>no</td>\n",
       "      <td>no</td>\n",
       "      <td>telephone</td>\n",
       "      <td>jun</td>\n",
       "      <td>wed</td>\n",
       "      <td>nonexistent</td>\n",
       "      <td>no</td>\n",
       "    </tr>\n",
       "    <tr>\n",
       "      <th>11249</th>\n",
       "      <td>40.0</td>\n",
       "      <td>11.297449</td>\n",
       "      <td>15.824953</td>\n",
       "      <td>0.0</td>\n",
       "      <td>admin.</td>\n",
       "      <td>married</td>\n",
       "      <td>university.degree</td>\n",
       "      <td>no</td>\n",
       "      <td>no</td>\n",
       "      <td>no</td>\n",
       "      <td>telephone</td>\n",
       "      <td>jun</td>\n",
       "      <td>thu</td>\n",
       "      <td>nonexistent</td>\n",
       "      <td>no</td>\n",
       "    </tr>\n",
       "    <tr>\n",
       "      <th>26948</th>\n",
       "      <td>39.0</td>\n",
       "      <td>3.000000</td>\n",
       "      <td>15.824953</td>\n",
       "      <td>0.0</td>\n",
       "      <td>blue-collar</td>\n",
       "      <td>married</td>\n",
       "      <td>basic.9y</td>\n",
       "      <td>no</td>\n",
       "      <td>no</td>\n",
       "      <td>no</td>\n",
       "      <td>cellular</td>\n",
       "      <td>nov</td>\n",
       "      <td>thu</td>\n",
       "      <td>nonexistent</td>\n",
       "      <td>no</td>\n",
       "    </tr>\n",
       "    <tr>\n",
       "      <th>11755</th>\n",
       "      <td>53.0</td>\n",
       "      <td>3.000000</td>\n",
       "      <td>15.824953</td>\n",
       "      <td>0.0</td>\n",
       "      <td>technician</td>\n",
       "      <td>married</td>\n",
       "      <td>university.degree</td>\n",
       "      <td>no</td>\n",
       "      <td>yes</td>\n",
       "      <td>no</td>\n",
       "      <td>telephone</td>\n",
       "      <td>jun</td>\n",
       "      <td>fri</td>\n",
       "      <td>nonexistent</td>\n",
       "      <td>no</td>\n",
       "    </tr>\n",
       "  </tbody>\n",
       "</table>\n",
       "</div>"
      ],
      "text/plain": [
       "        age   campaign      pdays  previous          job  marital  \\\n",
       "9909   55.0   2.000000  15.824953       0.0   technician  married   \n",
       "8714   38.0   4.000000  15.824953       0.0   technician  married   \n",
       "11249  40.0  11.297449  15.824953       0.0       admin.  married   \n",
       "26948  39.0   3.000000  15.824953       0.0  blue-collar  married   \n",
       "11755  53.0   3.000000  15.824953       0.0   technician  married   \n",
       "\n",
       "               education  default housing loan    contact month day_of_week  \\\n",
       "9909         high.school  unknown      no   no  telephone   jun         wed   \n",
       "8714   university.degree  unknown      no   no  telephone   jun         wed   \n",
       "11249  university.degree       no      no   no  telephone   jun         thu   \n",
       "26948           basic.9y       no      no   no   cellular   nov         thu   \n",
       "11755  university.degree       no     yes   no  telephone   jun         fri   \n",
       "\n",
       "          poutcome previous_contact  \n",
       "9909   nonexistent               no  \n",
       "8714   nonexistent               no  \n",
       "11249  nonexistent               no  \n",
       "26948  nonexistent               no  \n",
       "11755  nonexistent               no  "
      ]
     },
     "execution_count": 27,
     "metadata": {},
     "output_type": "execute_result"
    }
   ],
   "source": [
    "X_test = pd.concat([X_test_numeric, X_test_categorical], axis=1)\n",
    "X_test.head()"
   ]
  },
  {
   "cell_type": "code",
   "execution_count": 28,
   "metadata": {},
   "outputs": [
    {
     "data": {
      "image/png": "[encoded data removed]",
      "text/plain": [
       "<Figure size 432x288 with 1 Axes>"
      ]
     },
     "metadata": {
      "needs_background": "light"
     },
     "output_type": "display_data"
    }
   ],
   "source": [
    "# Let's see if we have any missing data, luckily we don't!\n",
    "sns.heatmap(X_test.isna(), yticklabels = False, cbar = False, cmap=\"Blues\")\n",
    "plt.show()"
   ]
  },
  {
   "attachments": {},
   "cell_type": "markdown",
   "metadata": {},
   "source": [
    "## Prepare Categorical Features"
   ]
  },
  {
   "cell_type": "code",
   "execution_count": 29,
   "metadata": {},
   "outputs": [
    {
     "name": "stdout",
     "output_type": "stream",
     "text": [
      "Value counts in category job: \n",
      "admin.           1233\n",
      "blue-collar       868\n",
      "technician        619\n",
      "services          398\n",
      "management        259\n",
      "entrepreneur      146\n",
      "self-employed     139\n",
      "retired           133\n",
      "unemployed        118\n",
      "housemaid          96\n",
      "student            86\n",
      "unknown            23\n",
      "Name: job, dtype: int64\n",
      "Value counts in category marital: \n",
      "married     2577\n",
      "single      1094\n",
      "divorced     438\n",
      "unknown        9\n",
      "Name: marital, dtype: int64\n",
      "Value counts in category education: \n",
      "university.degree      1374\n",
      "high.school             924\n",
      "basic.9y                593\n",
      "professional.course     472\n",
      "basic.4y                375\n",
      "basic.6y                209\n",
      "unknown                 170\n",
      "illiterate                1\n",
      "Name: education, dtype: int64\n",
      "Value counts in category default: \n",
      "no         3326\n",
      "unknown     792\n",
      "Name: default, dtype: int64\n",
      "Value counts in category housing: \n",
      "yes        2227\n",
      "no         1791\n",
      "unknown     100\n",
      "Name: housing, dtype: int64\n",
      "Value counts in category loan: \n",
      "no         3439\n",
      "yes         575\n",
      "unknown     104\n",
      "Name: loan, dtype: int64\n",
      "Value counts in category contact: \n",
      "cellular     2692\n",
      "telephone    1426\n",
      "Name: contact, dtype: int64\n",
      "Value counts in category month: \n",
      "may    1515\n",
      "jul     663\n",
      "aug     571\n",
      "jun     511\n",
      "nov     414\n",
      "apr     234\n",
      "oct      84\n",
      "mar      54\n",
      "sep      50\n",
      "dec      22\n",
      "Name: month, dtype: int64\n",
      "Value counts in category day_of_week: \n",
      "mon    1066\n",
      "thu     800\n",
      "wed     784\n",
      "tue     742\n",
      "fri     726\n",
      "Name: day_of_week, dtype: int64\n",
      "Value counts in category poutcome: \n",
      "nonexistent    3559\n",
      "failure         425\n",
      "success         134\n",
      "Name: poutcome, dtype: int64\n",
      "Value counts in category previous_contact: \n",
      "no     3973\n",
      "yes     145\n",
      "Name: previous_contact, dtype: int64\n"
     ]
    }
   ],
   "source": [
    "# this is important since we might have rare labels which isnt good for grouping customers; the numeric equivalent would be outliers\n",
    "for category in categorical_columns:\n",
    "    print('Value counts in category {}: \\n{}'.format(category, X_train[category].value_counts()))"
   ]
  },
  {
   "attachments": {},
   "cell_type": "markdown",
   "metadata": {},
   "source": [
    "## Encode Rare Labels"
   ]
  },
  {
   "cell_type": "code",
   "execution_count": 30,
   "metadata": {},
   "outputs": [
    {
     "name": "stderr",
     "output_type": "stream",
     "text": [
      "The number of unique categories for variable marital is less than that indicated in n_categories. Thus, all categories will be considered frequent\n",
      "The number of unique categories for variable default is less than that indicated in n_categories. Thus, all categories will be considered frequent\n",
      "The number of unique categories for variable housing is less than that indicated in n_categories. Thus, all categories will be considered frequent\n",
      "The number of unique categories for variable loan is less than that indicated in n_categories. Thus, all categories will be considered frequent\n",
      "The number of unique categories for variable contact is less than that indicated in n_categories. Thus, all categories will be considered frequent\n",
      "The number of unique categories for variable day_of_week is less than that indicated in n_categories. Thus, all categories will be considered frequent\n",
      "The number of unique categories for variable poutcome is less than that indicated in n_categories. Thus, all categories will be considered frequent\n",
      "The number of unique categories for variable previous_contact is less than that indicated in n_categories. Thus, all categories will be considered frequent\n"
     ]
    },
    {
     "data": {
      "text/html": [
       "<div>\n",
       "<style scoped>\n",
       "    .dataframe tbody tr th:only-of-type {\n",
       "        vertical-align: middle;\n",
       "    }\n",
       "\n",
       "    .dataframe tbody tr th {\n",
       "        vertical-align: top;\n",
       "    }\n",
       "\n",
       "    .dataframe thead th {\n",
       "        text-align: right;\n",
       "    }\n",
       "</style>\n",
       "<table border=\"1\" class=\"dataframe\">\n",
       "  <thead>\n",
       "    <tr style=\"text-align: right;\">\n",
       "      <th></th>\n",
       "      <th>job</th>\n",
       "      <th>marital</th>\n",
       "      <th>education</th>\n",
       "      <th>default</th>\n",
       "      <th>housing</th>\n",
       "      <th>loan</th>\n",
       "      <th>contact</th>\n",
       "      <th>month</th>\n",
       "      <th>day_of_week</th>\n",
       "      <th>poutcome</th>\n",
       "      <th>previous_contact</th>\n",
       "    </tr>\n",
       "  </thead>\n",
       "  <tbody>\n",
       "    <tr>\n",
       "      <th>13583</th>\n",
       "      <td>technician</td>\n",
       "      <td>married</td>\n",
       "      <td>professional.course</td>\n",
       "      <td>no</td>\n",
       "      <td>no</td>\n",
       "      <td>no</td>\n",
       "      <td>cellular</td>\n",
       "      <td>may</td>\n",
       "      <td>thu</td>\n",
       "      <td>nonexistent</td>\n",
       "      <td>no</td>\n",
       "    </tr>\n",
       "    <tr>\n",
       "      <th>5572</th>\n",
       "      <td>Rare</td>\n",
       "      <td>married</td>\n",
       "      <td>basic.4y</td>\n",
       "      <td>no</td>\n",
       "      <td>yes</td>\n",
       "      <td>no</td>\n",
       "      <td>telephone</td>\n",
       "      <td>may</td>\n",
       "      <td>mon</td>\n",
       "      <td>nonexistent</td>\n",
       "      <td>no</td>\n",
       "    </tr>\n",
       "    <tr>\n",
       "      <th>4906</th>\n",
       "      <td>technician</td>\n",
       "      <td>married</td>\n",
       "      <td>high.school</td>\n",
       "      <td>unknown</td>\n",
       "      <td>yes</td>\n",
       "      <td>no</td>\n",
       "      <td>telephone</td>\n",
       "      <td>may</td>\n",
       "      <td>wed</td>\n",
       "      <td>nonexistent</td>\n",
       "      <td>no</td>\n",
       "    </tr>\n",
       "    <tr>\n",
       "      <th>24720</th>\n",
       "      <td>Rare</td>\n",
       "      <td>married</td>\n",
       "      <td>university.degree</td>\n",
       "      <td>unknown</td>\n",
       "      <td>yes</td>\n",
       "      <td>no</td>\n",
       "      <td>telephone</td>\n",
       "      <td>may</td>\n",
       "      <td>mon</td>\n",
       "      <td>failure</td>\n",
       "      <td>no</td>\n",
       "    </tr>\n",
       "    <tr>\n",
       "      <th>1298</th>\n",
       "      <td>blue-collar</td>\n",
       "      <td>married</td>\n",
       "      <td>basic.9y</td>\n",
       "      <td>no</td>\n",
       "      <td>no</td>\n",
       "      <td>no</td>\n",
       "      <td>telephone</td>\n",
       "      <td>may</td>\n",
       "      <td>thu</td>\n",
       "      <td>nonexistent</td>\n",
       "      <td>no</td>\n",
       "    </tr>\n",
       "  </tbody>\n",
       "</table>\n",
       "</div>"
      ],
      "text/plain": [
       "               job  marital            education  default housing loan  \\\n",
       "13583   technician  married  professional.course       no      no   no   \n",
       "5572          Rare  married             basic.4y       no     yes   no   \n",
       "4906    technician  married          high.school  unknown     yes   no   \n",
       "24720         Rare  married    university.degree  unknown     yes   no   \n",
       "1298   blue-collar  married             basic.9y       no      no   no   \n",
       "\n",
       "         contact month day_of_week     poutcome previous_contact  \n",
       "13583   cellular   may         thu  nonexistent               no  \n",
       "5572   telephone   may         mon  nonexistent               no  \n",
       "4906   telephone   may         wed  nonexistent               no  \n",
       "24720  telephone   may         mon      failure               no  \n",
       "1298   telephone   may         thu  nonexistent               no  "
      ]
     },
     "execution_count": 30,
     "metadata": {},
     "output_type": "execute_result"
    }
   ],
   "source": [
    "# encode rare labels in train data\n",
    "rare_encoder = RareLabelEncoder(tol=0.05, n_categories=5)\n",
    "X_train[categorical_columns] = rare_encoder.fit_transform(X_train[categorical_columns])\n",
    "X_train[categorical_columns].head()"
   ]
  },
  {
   "cell_type": "code",
   "execution_count": 31,
   "metadata": {},
   "outputs": [
    {
     "data": {
      "text/html": [
       "<div>\n",
       "<style scoped>\n",
       "    .dataframe tbody tr th:only-of-type {\n",
       "        vertical-align: middle;\n",
       "    }\n",
       "\n",
       "    .dataframe tbody tr th {\n",
       "        vertical-align: top;\n",
       "    }\n",
       "\n",
       "    .dataframe thead th {\n",
       "        text-align: right;\n",
       "    }\n",
       "</style>\n",
       "<table border=\"1\" class=\"dataframe\">\n",
       "  <thead>\n",
       "    <tr style=\"text-align: right;\">\n",
       "      <th></th>\n",
       "      <th>job</th>\n",
       "      <th>marital</th>\n",
       "      <th>education</th>\n",
       "      <th>default</th>\n",
       "      <th>housing</th>\n",
       "      <th>loan</th>\n",
       "      <th>contact</th>\n",
       "      <th>month</th>\n",
       "      <th>day_of_week</th>\n",
       "      <th>poutcome</th>\n",
       "      <th>previous_contact</th>\n",
       "    </tr>\n",
       "  </thead>\n",
       "  <tbody>\n",
       "    <tr>\n",
       "      <th>9909</th>\n",
       "      <td>technician</td>\n",
       "      <td>married</td>\n",
       "      <td>high.school</td>\n",
       "      <td>unknown</td>\n",
       "      <td>no</td>\n",
       "      <td>no</td>\n",
       "      <td>telephone</td>\n",
       "      <td>jun</td>\n",
       "      <td>wed</td>\n",
       "      <td>nonexistent</td>\n",
       "      <td>no</td>\n",
       "    </tr>\n",
       "    <tr>\n",
       "      <th>8714</th>\n",
       "      <td>technician</td>\n",
       "      <td>married</td>\n",
       "      <td>university.degree</td>\n",
       "      <td>unknown</td>\n",
       "      <td>no</td>\n",
       "      <td>no</td>\n",
       "      <td>telephone</td>\n",
       "      <td>jun</td>\n",
       "      <td>wed</td>\n",
       "      <td>nonexistent</td>\n",
       "      <td>no</td>\n",
       "    </tr>\n",
       "    <tr>\n",
       "      <th>11249</th>\n",
       "      <td>admin.</td>\n",
       "      <td>married</td>\n",
       "      <td>university.degree</td>\n",
       "      <td>no</td>\n",
       "      <td>no</td>\n",
       "      <td>no</td>\n",
       "      <td>telephone</td>\n",
       "      <td>jun</td>\n",
       "      <td>thu</td>\n",
       "      <td>nonexistent</td>\n",
       "      <td>no</td>\n",
       "    </tr>\n",
       "    <tr>\n",
       "      <th>26948</th>\n",
       "      <td>blue-collar</td>\n",
       "      <td>married</td>\n",
       "      <td>basic.9y</td>\n",
       "      <td>no</td>\n",
       "      <td>no</td>\n",
       "      <td>no</td>\n",
       "      <td>cellular</td>\n",
       "      <td>nov</td>\n",
       "      <td>thu</td>\n",
       "      <td>nonexistent</td>\n",
       "      <td>no</td>\n",
       "    </tr>\n",
       "    <tr>\n",
       "      <th>11755</th>\n",
       "      <td>technician</td>\n",
       "      <td>married</td>\n",
       "      <td>university.degree</td>\n",
       "      <td>no</td>\n",
       "      <td>yes</td>\n",
       "      <td>no</td>\n",
       "      <td>telephone</td>\n",
       "      <td>jun</td>\n",
       "      <td>fri</td>\n",
       "      <td>nonexistent</td>\n",
       "      <td>no</td>\n",
       "    </tr>\n",
       "  </tbody>\n",
       "</table>\n",
       "</div>"
      ],
      "text/plain": [
       "               job  marital          education  default housing loan  \\\n",
       "9909    technician  married        high.school  unknown      no   no   \n",
       "8714    technician  married  university.degree  unknown      no   no   \n",
       "11249       admin.  married  university.degree       no      no   no   \n",
       "26948  blue-collar  married           basic.9y       no      no   no   \n",
       "11755   technician  married  university.degree       no     yes   no   \n",
       "\n",
       "         contact month day_of_week     poutcome previous_contact  \n",
       "9909   telephone   jun         wed  nonexistent               no  \n",
       "8714   telephone   jun         wed  nonexistent               no  \n",
       "11249  telephone   jun         thu  nonexistent               no  \n",
       "26948   cellular   nov         thu  nonexistent               no  \n",
       "11755  telephone   jun         fri  nonexistent               no  "
      ]
     },
     "execution_count": 31,
     "metadata": {},
     "output_type": "execute_result"
    }
   ],
   "source": [
    "# encode rare labels in test data\n",
    "X_test[categorical_columns] = rare_encoder.transform(X_test[categorical_columns])\n",
    "X_test[categorical_columns].head()"
   ]
  },
  {
   "cell_type": "code",
   "execution_count": 32,
   "metadata": {},
   "outputs": [],
   "source": [
    "# Save rare label encoder\n",
    "with open('../artifacts/rare_encoder.pickle', 'wb') as filename:\n",
    "    pickle.dump(rare_encoder, filename)"
   ]
  },
  {
   "attachments": {},
   "cell_type": "markdown",
   "metadata": {},
   "source": [
    "## Prepare Numerical Features"
   ]
  },
  {
   "cell_type": "code",
   "execution_count": 33,
   "metadata": {},
   "outputs": [
    {
     "data": {
      "image/png": "[encoded data removed]",
      "text/plain": [
       "<Figure size 432x288 with 1 Axes>"
      ]
     },
     "metadata": {
      "needs_background": "light"
     },
     "output_type": "display_data"
    },
    {
     "data": {
      "image/png": "[encoded data removed]",
      "text/plain": [
       "<Figure size 432x288 with 1 Axes>"
      ]
     },
     "metadata": {
      "needs_background": "light"
     },
     "output_type": "display_data"
    },
    {
     "data": {
      "image/png": "[encoded data removed]",
      "text/plain": [
       "<Figure size 432x288 with 1 Axes>"
      ]
     },
     "metadata": {
      "needs_background": "light"
     },
     "output_type": "display_data"
    },
    {
     "data": {
      "image/png": "[encoded data removed]",
      "text/plain": [
       "<Figure size 432x288 with 1 Axes>"
      ]
     },
     "metadata": {
      "needs_background": "light"
     },
     "output_type": "display_data"
    }
   ],
   "source": [
    "# plot the distributions\n",
    "for col in numeric_columns:\n",
    "    plt.hist(X_train[col])\n",
    "    plt.title(col)\n",
    "    plt.show()"
   ]
  },
  {
   "attachments": {},
   "cell_type": "markdown",
   "metadata": {},
   "source": [
    "## Remove Outliers"
   ]
  },
  {
   "cell_type": "code",
   "execution_count": 34,
   "metadata": {},
   "outputs": [],
   "source": [
    "# set up the capper\n",
    "capper = Winsorizer(\n",
    "    capping_method='gaussian', \n",
    "    tail='right', \n",
    "    fold=3, \n",
    "    variables=numeric_columns)"
   ]
  },
  {
   "cell_type": "code",
   "execution_count": 35,
   "metadata": {},
   "outputs": [
    {
     "data": {
      "text/html": [
       "<div>\n",
       "<style scoped>\n",
       "    .dataframe tbody tr th:only-of-type {\n",
       "        vertical-align: middle;\n",
       "    }\n",
       "\n",
       "    .dataframe tbody tr th {\n",
       "        vertical-align: top;\n",
       "    }\n",
       "\n",
       "    .dataframe thead th {\n",
       "        text-align: right;\n",
       "    }\n",
       "</style>\n",
       "<table border=\"1\" class=\"dataframe\">\n",
       "  <thead>\n",
       "    <tr style=\"text-align: right;\">\n",
       "      <th></th>\n",
       "      <th>age</th>\n",
       "      <th>campaign</th>\n",
       "      <th>pdays</th>\n",
       "      <th>previous</th>\n",
       "      <th>job</th>\n",
       "      <th>marital</th>\n",
       "      <th>education</th>\n",
       "      <th>default</th>\n",
       "      <th>housing</th>\n",
       "      <th>loan</th>\n",
       "      <th>contact</th>\n",
       "      <th>month</th>\n",
       "      <th>day_of_week</th>\n",
       "      <th>poutcome</th>\n",
       "      <th>previous_contact</th>\n",
       "    </tr>\n",
       "  </thead>\n",
       "  <tbody>\n",
       "    <tr>\n",
       "      <th>13583</th>\n",
       "      <td>25.0</td>\n",
       "      <td>3.0</td>\n",
       "      <td>15.824953</td>\n",
       "      <td>1.971654</td>\n",
       "      <td>technician</td>\n",
       "      <td>married</td>\n",
       "      <td>professional.course</td>\n",
       "      <td>no</td>\n",
       "      <td>no</td>\n",
       "      <td>no</td>\n",
       "      <td>cellular</td>\n",
       "      <td>may</td>\n",
       "      <td>thu</td>\n",
       "      <td>nonexistent</td>\n",
       "      <td>no</td>\n",
       "    </tr>\n",
       "    <tr>\n",
       "      <th>5572</th>\n",
       "      <td>42.0</td>\n",
       "      <td>1.0</td>\n",
       "      <td>15.824953</td>\n",
       "      <td>0.000000</td>\n",
       "      <td>Rare</td>\n",
       "      <td>married</td>\n",
       "      <td>basic.4y</td>\n",
       "      <td>no</td>\n",
       "      <td>yes</td>\n",
       "      <td>no</td>\n",
       "      <td>telephone</td>\n",
       "      <td>may</td>\n",
       "      <td>mon</td>\n",
       "      <td>nonexistent</td>\n",
       "      <td>no</td>\n",
       "    </tr>\n",
       "    <tr>\n",
       "      <th>4906</th>\n",
       "      <td>39.0</td>\n",
       "      <td>2.0</td>\n",
       "      <td>15.628392</td>\n",
       "      <td>0.000000</td>\n",
       "      <td>technician</td>\n",
       "      <td>married</td>\n",
       "      <td>high.school</td>\n",
       "      <td>unknown</td>\n",
       "      <td>yes</td>\n",
       "      <td>no</td>\n",
       "      <td>telephone</td>\n",
       "      <td>may</td>\n",
       "      <td>wed</td>\n",
       "      <td>nonexistent</td>\n",
       "      <td>no</td>\n",
       "    </tr>\n",
       "    <tr>\n",
       "      <th>24720</th>\n",
       "      <td>37.0</td>\n",
       "      <td>1.0</td>\n",
       "      <td>15.824953</td>\n",
       "      <td>1.000000</td>\n",
       "      <td>Rare</td>\n",
       "      <td>married</td>\n",
       "      <td>university.degree</td>\n",
       "      <td>unknown</td>\n",
       "      <td>yes</td>\n",
       "      <td>no</td>\n",
       "      <td>telephone</td>\n",
       "      <td>may</td>\n",
       "      <td>mon</td>\n",
       "      <td>failure</td>\n",
       "      <td>no</td>\n",
       "    </tr>\n",
       "    <tr>\n",
       "      <th>1298</th>\n",
       "      <td>39.0</td>\n",
       "      <td>2.0</td>\n",
       "      <td>15.824953</td>\n",
       "      <td>0.000000</td>\n",
       "      <td>blue-collar</td>\n",
       "      <td>married</td>\n",
       "      <td>basic.9y</td>\n",
       "      <td>no</td>\n",
       "      <td>no</td>\n",
       "      <td>no</td>\n",
       "      <td>telephone</td>\n",
       "      <td>may</td>\n",
       "      <td>thu</td>\n",
       "      <td>nonexistent</td>\n",
       "      <td>no</td>\n",
       "    </tr>\n",
       "  </tbody>\n",
       "</table>\n",
       "</div>"
      ],
      "text/plain": [
       "        age  campaign      pdays  previous          job  marital  \\\n",
       "13583  25.0       3.0  15.824953  1.971654   technician  married   \n",
       "5572   42.0       1.0  15.824953  0.000000         Rare  married   \n",
       "4906   39.0       2.0  15.628392  0.000000   technician  married   \n",
       "24720  37.0       1.0  15.824953  1.000000         Rare  married   \n",
       "1298   39.0       2.0  15.824953  0.000000  blue-collar  married   \n",
       "\n",
       "                 education  default housing loan    contact month day_of_week  \\\n",
       "13583  professional.course       no      no   no   cellular   may         thu   \n",
       "5572              basic.4y       no     yes   no  telephone   may         mon   \n",
       "4906           high.school  unknown     yes   no  telephone   may         wed   \n",
       "24720    university.degree  unknown     yes   no  telephone   may         mon   \n",
       "1298              basic.9y       no      no   no  telephone   may         thu   \n",
       "\n",
       "          poutcome previous_contact  \n",
       "13583  nonexistent               no  \n",
       "5572   nonexistent               no  \n",
       "4906   nonexistent               no  \n",
       "24720      failure               no  \n",
       "1298   nonexistent               no  "
      ]
     },
     "execution_count": 35,
     "metadata": {},
     "output_type": "execute_result"
    }
   ],
   "source": [
    "# fit the capper on train data\n",
    "X_train[numeric_columns] = capper.fit_transform(X_train[numeric_columns])\n",
    "X_train.head()"
   ]
  },
  {
   "cell_type": "code",
   "execution_count": 36,
   "metadata": {},
   "outputs": [
    {
     "data": {
      "text/html": [
       "<div>\n",
       "<style scoped>\n",
       "    .dataframe tbody tr th:only-of-type {\n",
       "        vertical-align: middle;\n",
       "    }\n",
       "\n",
       "    .dataframe tbody tr th {\n",
       "        vertical-align: top;\n",
       "    }\n",
       "\n",
       "    .dataframe thead th {\n",
       "        text-align: right;\n",
       "    }\n",
       "</style>\n",
       "<table border=\"1\" class=\"dataframe\">\n",
       "  <thead>\n",
       "    <tr style=\"text-align: right;\">\n",
       "      <th></th>\n",
       "      <th>age</th>\n",
       "      <th>campaign</th>\n",
       "      <th>pdays</th>\n",
       "      <th>previous</th>\n",
       "      <th>job</th>\n",
       "      <th>marital</th>\n",
       "      <th>education</th>\n",
       "      <th>default</th>\n",
       "      <th>housing</th>\n",
       "      <th>loan</th>\n",
       "      <th>contact</th>\n",
       "      <th>month</th>\n",
       "      <th>day_of_week</th>\n",
       "      <th>poutcome</th>\n",
       "      <th>previous_contact</th>\n",
       "    </tr>\n",
       "  </thead>\n",
       "  <tbody>\n",
       "    <tr>\n",
       "      <th>9909</th>\n",
       "      <td>55.0</td>\n",
       "      <td>2.000000</td>\n",
       "      <td>15.824953</td>\n",
       "      <td>0.0</td>\n",
       "      <td>technician</td>\n",
       "      <td>married</td>\n",
       "      <td>high.school</td>\n",
       "      <td>unknown</td>\n",
       "      <td>no</td>\n",
       "      <td>no</td>\n",
       "      <td>telephone</td>\n",
       "      <td>jun</td>\n",
       "      <td>wed</td>\n",
       "      <td>nonexistent</td>\n",
       "      <td>no</td>\n",
       "    </tr>\n",
       "    <tr>\n",
       "      <th>8714</th>\n",
       "      <td>38.0</td>\n",
       "      <td>4.000000</td>\n",
       "      <td>15.824953</td>\n",
       "      <td>0.0</td>\n",
       "      <td>technician</td>\n",
       "      <td>married</td>\n",
       "      <td>university.degree</td>\n",
       "      <td>unknown</td>\n",
       "      <td>no</td>\n",
       "      <td>no</td>\n",
       "      <td>telephone</td>\n",
       "      <td>jun</td>\n",
       "      <td>wed</td>\n",
       "      <td>nonexistent</td>\n",
       "      <td>no</td>\n",
       "    </tr>\n",
       "    <tr>\n",
       "      <th>11249</th>\n",
       "      <td>40.0</td>\n",
       "      <td>11.297449</td>\n",
       "      <td>15.824953</td>\n",
       "      <td>0.0</td>\n",
       "      <td>admin.</td>\n",
       "      <td>married</td>\n",
       "      <td>university.degree</td>\n",
       "      <td>no</td>\n",
       "      <td>no</td>\n",
       "      <td>no</td>\n",
       "      <td>telephone</td>\n",
       "      <td>jun</td>\n",
       "      <td>thu</td>\n",
       "      <td>nonexistent</td>\n",
       "      <td>no</td>\n",
       "    </tr>\n",
       "    <tr>\n",
       "      <th>26948</th>\n",
       "      <td>39.0</td>\n",
       "      <td>3.000000</td>\n",
       "      <td>15.824953</td>\n",
       "      <td>0.0</td>\n",
       "      <td>blue-collar</td>\n",
       "      <td>married</td>\n",
       "      <td>basic.9y</td>\n",
       "      <td>no</td>\n",
       "      <td>no</td>\n",
       "      <td>no</td>\n",
       "      <td>cellular</td>\n",
       "      <td>nov</td>\n",
       "      <td>thu</td>\n",
       "      <td>nonexistent</td>\n",
       "      <td>no</td>\n",
       "    </tr>\n",
       "    <tr>\n",
       "      <th>11755</th>\n",
       "      <td>53.0</td>\n",
       "      <td>3.000000</td>\n",
       "      <td>15.824953</td>\n",
       "      <td>0.0</td>\n",
       "      <td>technician</td>\n",
       "      <td>married</td>\n",
       "      <td>university.degree</td>\n",
       "      <td>no</td>\n",
       "      <td>yes</td>\n",
       "      <td>no</td>\n",
       "      <td>telephone</td>\n",
       "      <td>jun</td>\n",
       "      <td>fri</td>\n",
       "      <td>nonexistent</td>\n",
       "      <td>no</td>\n",
       "    </tr>\n",
       "  </tbody>\n",
       "</table>\n",
       "</div>"
      ],
      "text/plain": [
       "        age   campaign      pdays  previous          job  marital  \\\n",
       "9909   55.0   2.000000  15.824953       0.0   technician  married   \n",
       "8714   38.0   4.000000  15.824953       0.0   technician  married   \n",
       "11249  40.0  11.297449  15.824953       0.0       admin.  married   \n",
       "26948  39.0   3.000000  15.824953       0.0  blue-collar  married   \n",
       "11755  53.0   3.000000  15.824953       0.0   technician  married   \n",
       "\n",
       "               education  default housing loan    contact month day_of_week  \\\n",
       "9909         high.school  unknown      no   no  telephone   jun         wed   \n",
       "8714   university.degree  unknown      no   no  telephone   jun         wed   \n",
       "11249  university.degree       no      no   no  telephone   jun         thu   \n",
       "26948           basic.9y       no      no   no   cellular   nov         thu   \n",
       "11755  university.degree       no     yes   no  telephone   jun         fri   \n",
       "\n",
       "          poutcome previous_contact  \n",
       "9909   nonexistent               no  \n",
       "8714   nonexistent               no  \n",
       "11249  nonexistent               no  \n",
       "26948  nonexistent               no  \n",
       "11755  nonexistent               no  "
      ]
     },
     "execution_count": 36,
     "metadata": {},
     "output_type": "execute_result"
    }
   ],
   "source": [
    "# fit the capper on test data\n",
    "X_test[numeric_columns] = capper.transform(X_test[numeric_columns])\n",
    "X_test.head()"
   ]
  },
  {
   "cell_type": "code",
   "execution_count": 37,
   "metadata": {},
   "outputs": [],
   "source": [
    "# Save capper \n",
    "with open('../artifacts/capper.pickle', 'wb') as filename:\n",
    "    pickle.dump(capper, filename)"
   ]
  },
  {
   "attachments": {},
   "cell_type": "markdown",
   "metadata": {},
   "source": [
    "# Data Visualization"
   ]
  },
  {
   "attachments": {},
   "cell_type": "markdown",
   "metadata": {},
   "source": [
    "## Visualize Numerical Features"
   ]
  },
  {
   "cell_type": "code",
   "execution_count": 38,
   "metadata": {},
   "outputs": [
    {
     "data": {
      "text/html": [
       "<div>\n",
       "<style scoped>\n",
       "    .dataframe tbody tr th:only-of-type {\n",
       "        vertical-align: middle;\n",
       "    }\n",
       "\n",
       "    .dataframe tbody tr th {\n",
       "        vertical-align: top;\n",
       "    }\n",
       "\n",
       "    .dataframe thead th {\n",
       "        text-align: right;\n",
       "    }\n",
       "</style>\n",
       "<table border=\"1\" class=\"dataframe\">\n",
       "  <thead>\n",
       "    <tr style=\"text-align: right;\">\n",
       "      <th></th>\n",
       "      <th>age</th>\n",
       "      <th>campaign</th>\n",
       "      <th>pdays</th>\n",
       "      <th>previous</th>\n",
       "      <th>converter</th>\n",
       "    </tr>\n",
       "  </thead>\n",
       "  <tbody>\n",
       "    <tr>\n",
       "      <th>13583</th>\n",
       "      <td>25.0</td>\n",
       "      <td>3.0</td>\n",
       "      <td>15.824953</td>\n",
       "      <td>1.971654</td>\n",
       "      <td>0</td>\n",
       "    </tr>\n",
       "    <tr>\n",
       "      <th>5572</th>\n",
       "      <td>42.0</td>\n",
       "      <td>1.0</td>\n",
       "      <td>15.824953</td>\n",
       "      <td>0.000000</td>\n",
       "      <td>0</td>\n",
       "    </tr>\n",
       "    <tr>\n",
       "      <th>4906</th>\n",
       "      <td>39.0</td>\n",
       "      <td>2.0</td>\n",
       "      <td>15.628392</td>\n",
       "      <td>0.000000</td>\n",
       "      <td>0</td>\n",
       "    </tr>\n",
       "    <tr>\n",
       "      <th>24720</th>\n",
       "      <td>37.0</td>\n",
       "      <td>1.0</td>\n",
       "      <td>15.824953</td>\n",
       "      <td>1.000000</td>\n",
       "      <td>0</td>\n",
       "    </tr>\n",
       "    <tr>\n",
       "      <th>1298</th>\n",
       "      <td>39.0</td>\n",
       "      <td>2.0</td>\n",
       "      <td>15.824953</td>\n",
       "      <td>0.000000</td>\n",
       "      <td>0</td>\n",
       "    </tr>\n",
       "  </tbody>\n",
       "</table>\n",
       "</div>"
      ],
      "text/plain": [
       "        age  campaign      pdays  previous  converter\n",
       "13583  25.0       3.0  15.824953  1.971654          0\n",
       "5572   42.0       1.0  15.824953  0.000000          0\n",
       "4906   39.0       2.0  15.628392  0.000000          0\n",
       "24720  37.0       1.0  15.824953  1.000000          0\n",
       "1298   39.0       2.0  15.824953  0.000000          0"
      ]
     },
     "execution_count": 38,
     "metadata": {},
     "output_type": "execute_result"
    }
   ],
   "source": [
    "# create numeric data frame\n",
    "data = pd.concat([X_train[numeric_columns], pd.DataFrame(y_train, index=X_train.index, columns=['converter'])], axis=1)\n",
    "data.head()"
   ]
  },
  {
   "cell_type": "code",
   "execution_count": 39,
   "metadata": {},
   "outputs": [
    {
     "data": {
      "text/html": [
       "<div>\n",
       "<style scoped>\n",
       "    .dataframe tbody tr th:only-of-type {\n",
       "        vertical-align: middle;\n",
       "    }\n",
       "\n",
       "    .dataframe tbody tr th {\n",
       "        vertical-align: top;\n",
       "    }\n",
       "\n",
       "    .dataframe thead th {\n",
       "        text-align: right;\n",
       "    }\n",
       "</style>\n",
       "<table border=\"1\" class=\"dataframe\">\n",
       "  <thead>\n",
       "    <tr style=\"text-align: right;\">\n",
       "      <th></th>\n",
       "      <th>age</th>\n",
       "      <th>campaign</th>\n",
       "      <th>pdays</th>\n",
       "      <th>previous</th>\n",
       "    </tr>\n",
       "    <tr>\n",
       "      <th>converter</th>\n",
       "      <th></th>\n",
       "      <th></th>\n",
       "      <th></th>\n",
       "      <th></th>\n",
       "    </tr>\n",
       "  </thead>\n",
       "  <tbody>\n",
       "    <tr>\n",
       "      <th>0</th>\n",
       "      <td>39.0</td>\n",
       "      <td>2.0</td>\n",
       "      <td>15.824953</td>\n",
       "      <td>0.0</td>\n",
       "    </tr>\n",
       "    <tr>\n",
       "      <th>1</th>\n",
       "      <td>38.0</td>\n",
       "      <td>2.0</td>\n",
       "      <td>15.824953</td>\n",
       "      <td>0.0</td>\n",
       "    </tr>\n",
       "  </tbody>\n",
       "</table>\n",
       "</div>"
      ],
      "text/plain": [
       "            age  campaign      pdays  previous\n",
       "converter                                     \n",
       "0          39.0       2.0  15.824953       0.0\n",
       "1          38.0       2.0  15.824953       0.0"
      ]
     },
     "execution_count": 39,
     "metadata": {},
     "output_type": "execute_result"
    }
   ],
   "source": [
    "data.groupby('converter').agg('median')"
   ]
  },
  {
   "cell_type": "code",
   "execution_count": 40,
   "metadata": {},
   "outputs": [
    {
     "data": {
      "image/png": "[encoded data removed]",
      "text/plain": [
       "<Figure size 1296x432 with 3 Axes>"
      ]
     },
     "metadata": {
      "needs_background": "light"
     },
     "output_type": "display_data"
    },
    {
     "data": {
      "image/png": "[encoded data removed]",
      "text/plain": [
       "<Figure size 1296x432 with 3 Axes>"
      ]
     },
     "metadata": {
      "needs_background": "light"
     },
     "output_type": "display_data"
    },
    {
     "data": {
      "image/png": "[encoded data removed]",
      "text/plain": [
       "<Figure size 1296x432 with 3 Axes>"
      ]
     },
     "metadata": {
      "needs_background": "light"
     },
     "output_type": "display_data"
    },
    {
     "data": {
      "image/png": "[encoded data removed]",
      "text/plain": [
       "<Figure size 1296x432 with 3 Axes>"
      ]
     },
     "metadata": {
      "needs_background": "light"
     },
     "output_type": "display_data"
    }
   ],
   "source": [
    "# plot box-plots and histograms\n",
    "for feat in numeric_columns:\n",
    "\n",
    "    fig, ax = plt.subplots(1, 3, figsize=(18,6))\n",
    "\n",
    "    sns.boxplot(\n",
    "        data = data,\n",
    "        y = feat,\n",
    "        x = 'converter',\n",
    "        ax=ax[0]\n",
    "    )\n",
    "    ax[0].set_title('Stratified Boxplots')\n",
    "\n",
    "    sns.histplot(\n",
    "        data = data,\n",
    "        x = feat,\n",
    "        hue = 'converter',\n",
    "        stat='count',\n",
    "        multiple='dodge',\n",
    "        ax = ax[1]\n",
    "    )\n",
    "    ax[1].set_title('Histogram')\n",
    "\n",
    "    sns.histplot(\n",
    "        data = data,\n",
    "        x = feat,\n",
    "        hue = 'converter',\n",
    "        stat='probability',\n",
    "        multiple='fill',\n",
    "        ax = ax[2]\n",
    "    )\n",
    "    ax[2].set_title('Normalized Probability Distribution')\n",
    "\n",
    "    plt.show()"
   ]
  },
  {
   "attachments": {},
   "cell_type": "markdown",
   "metadata": {},
   "source": [
    "## Visualize Categorical Features"
   ]
  },
  {
   "cell_type": "code",
   "execution_count": 41,
   "metadata": {},
   "outputs": [
    {
     "data": {
      "text/html": [
       "<div>\n",
       "<style scoped>\n",
       "    .dataframe tbody tr th:only-of-type {\n",
       "        vertical-align: middle;\n",
       "    }\n",
       "\n",
       "    .dataframe tbody tr th {\n",
       "        vertical-align: top;\n",
       "    }\n",
       "\n",
       "    .dataframe thead th {\n",
       "        text-align: right;\n",
       "    }\n",
       "</style>\n",
       "<table border=\"1\" class=\"dataframe\">\n",
       "  <thead>\n",
       "    <tr style=\"text-align: right;\">\n",
       "      <th></th>\n",
       "      <th>job</th>\n",
       "      <th>marital</th>\n",
       "      <th>education</th>\n",
       "      <th>default</th>\n",
       "      <th>housing</th>\n",
       "      <th>loan</th>\n",
       "      <th>contact</th>\n",
       "      <th>month</th>\n",
       "      <th>day_of_week</th>\n",
       "      <th>poutcome</th>\n",
       "      <th>previous_contact</th>\n",
       "      <th>converter</th>\n",
       "    </tr>\n",
       "  </thead>\n",
       "  <tbody>\n",
       "    <tr>\n",
       "      <th>13583</th>\n",
       "      <td>technician</td>\n",
       "      <td>married</td>\n",
       "      <td>professional.course</td>\n",
       "      <td>no</td>\n",
       "      <td>no</td>\n",
       "      <td>no</td>\n",
       "      <td>cellular</td>\n",
       "      <td>may</td>\n",
       "      <td>thu</td>\n",
       "      <td>nonexistent</td>\n",
       "      <td>no</td>\n",
       "      <td>0</td>\n",
       "    </tr>\n",
       "    <tr>\n",
       "      <th>5572</th>\n",
       "      <td>Rare</td>\n",
       "      <td>married</td>\n",
       "      <td>basic.4y</td>\n",
       "      <td>no</td>\n",
       "      <td>yes</td>\n",
       "      <td>no</td>\n",
       "      <td>telephone</td>\n",
       "      <td>may</td>\n",
       "      <td>mon</td>\n",
       "      <td>nonexistent</td>\n",
       "      <td>no</td>\n",
       "      <td>0</td>\n",
       "    </tr>\n",
       "    <tr>\n",
       "      <th>4906</th>\n",
       "      <td>technician</td>\n",
       "      <td>married</td>\n",
       "      <td>high.school</td>\n",
       "      <td>unknown</td>\n",
       "      <td>yes</td>\n",
       "      <td>no</td>\n",
       "      <td>telephone</td>\n",
       "      <td>may</td>\n",
       "      <td>wed</td>\n",
       "      <td>nonexistent</td>\n",
       "      <td>no</td>\n",
       "      <td>0</td>\n",
       "    </tr>\n",
       "    <tr>\n",
       "      <th>24720</th>\n",
       "      <td>Rare</td>\n",
       "      <td>married</td>\n",
       "      <td>university.degree</td>\n",
       "      <td>unknown</td>\n",
       "      <td>yes</td>\n",
       "      <td>no</td>\n",
       "      <td>telephone</td>\n",
       "      <td>may</td>\n",
       "      <td>mon</td>\n",
       "      <td>failure</td>\n",
       "      <td>no</td>\n",
       "      <td>0</td>\n",
       "    </tr>\n",
       "    <tr>\n",
       "      <th>1298</th>\n",
       "      <td>blue-collar</td>\n",
       "      <td>married</td>\n",
       "      <td>basic.9y</td>\n",
       "      <td>no</td>\n",
       "      <td>no</td>\n",
       "      <td>no</td>\n",
       "      <td>telephone</td>\n",
       "      <td>may</td>\n",
       "      <td>thu</td>\n",
       "      <td>nonexistent</td>\n",
       "      <td>no</td>\n",
       "      <td>0</td>\n",
       "    </tr>\n",
       "  </tbody>\n",
       "</table>\n",
       "</div>"
      ],
      "text/plain": [
       "               job  marital            education  default housing loan  \\\n",
       "13583   technician  married  professional.course       no      no   no   \n",
       "5572          Rare  married             basic.4y       no     yes   no   \n",
       "4906    technician  married          high.school  unknown     yes   no   \n",
       "24720         Rare  married    university.degree  unknown     yes   no   \n",
       "1298   blue-collar  married             basic.9y       no      no   no   \n",
       "\n",
       "         contact month day_of_week     poutcome previous_contact  converter  \n",
       "13583   cellular   may         thu  nonexistent               no          0  \n",
       "5572   telephone   may         mon  nonexistent               no          0  \n",
       "4906   telephone   may         wed  nonexistent               no          0  \n",
       "24720  telephone   may         mon      failure               no          0  \n",
       "1298   telephone   may         thu  nonexistent               no          0  "
      ]
     },
     "execution_count": 41,
     "metadata": {},
     "output_type": "execute_result"
    }
   ],
   "source": [
    "# create categorical data frame\n",
    "data = pd.concat([X_train[categorical_columns], pd.DataFrame(y_train, index=X_train.index, columns=['converter'])], axis=1)\n",
    "data.head()"
   ]
  },
  {
   "cell_type": "code",
   "execution_count": 42,
   "metadata": {},
   "outputs": [
    {
     "data": {
      "text/html": [
       "<div>\n",
       "<style scoped>\n",
       "    .dataframe tbody tr th:only-of-type {\n",
       "        vertical-align: middle;\n",
       "    }\n",
       "\n",
       "    .dataframe tbody tr th {\n",
       "        vertical-align: top;\n",
       "    }\n",
       "\n",
       "    .dataframe thead th {\n",
       "        text-align: right;\n",
       "    }\n",
       "</style>\n",
       "<table border=\"1\" class=\"dataframe\">\n",
       "  <thead>\n",
       "    <tr style=\"text-align: right;\">\n",
       "      <th></th>\n",
       "      <th>job</th>\n",
       "      <th>marital</th>\n",
       "      <th>education</th>\n",
       "      <th>default</th>\n",
       "      <th>housing</th>\n",
       "      <th>loan</th>\n",
       "      <th>contact</th>\n",
       "      <th>month</th>\n",
       "      <th>day_of_week</th>\n",
       "      <th>poutcome</th>\n",
       "      <th>previous_contact</th>\n",
       "    </tr>\n",
       "    <tr>\n",
       "      <th>converter</th>\n",
       "      <th></th>\n",
       "      <th></th>\n",
       "      <th></th>\n",
       "      <th></th>\n",
       "      <th></th>\n",
       "      <th></th>\n",
       "      <th></th>\n",
       "      <th></th>\n",
       "      <th></th>\n",
       "      <th></th>\n",
       "      <th></th>\n",
       "    </tr>\n",
       "  </thead>\n",
       "  <tbody>\n",
       "    <tr>\n",
       "      <th>0</th>\n",
       "      <td>admin.</td>\n",
       "      <td>married</td>\n",
       "      <td>university.degree</td>\n",
       "      <td>no</td>\n",
       "      <td>yes</td>\n",
       "      <td>no</td>\n",
       "      <td>cellular</td>\n",
       "      <td>may</td>\n",
       "      <td>mon</td>\n",
       "      <td>nonexistent</td>\n",
       "      <td>no</td>\n",
       "    </tr>\n",
       "    <tr>\n",
       "      <th>1</th>\n",
       "      <td>admin.</td>\n",
       "      <td>married</td>\n",
       "      <td>university.degree</td>\n",
       "      <td>no</td>\n",
       "      <td>yes</td>\n",
       "      <td>no</td>\n",
       "      <td>cellular</td>\n",
       "      <td>may</td>\n",
       "      <td>mon</td>\n",
       "      <td>nonexistent</td>\n",
       "      <td>no</td>\n",
       "    </tr>\n",
       "  </tbody>\n",
       "</table>\n",
       "</div>"
      ],
      "text/plain": [
       "              job  marital          education default housing loan   contact  \\\n",
       "converter                                                                      \n",
       "0          admin.  married  university.degree      no     yes   no  cellular   \n",
       "1          admin.  married  university.degree      no     yes   no  cellular   \n",
       "\n",
       "          month day_of_week     poutcome previous_contact  \n",
       "converter                                                  \n",
       "0           may         mon  nonexistent               no  \n",
       "1           may         mon  nonexistent               no  "
      ]
     },
     "execution_count": 42,
     "metadata": {},
     "output_type": "execute_result"
    }
   ],
   "source": [
    "# show most frequent categories for converters vs non-converters\n",
    "data.groupby('converter').agg(pd.Series.mode)"
   ]
  },
  {
   "cell_type": "code",
   "execution_count": 43,
   "metadata": {},
   "outputs": [
    {
     "data": {
      "image/png": "[encoded data removed]",
      "text/plain": [
       "<Figure size 432x288 with 1 Axes>"
      ]
     },
     "metadata": {
      "needs_background": "light"
     },
     "output_type": "display_data"
    }
   ],
   "source": [
    "# plot class distribution for converters vs non-converters\n",
    "sns.histplot(\n",
    "        data = data,\n",
    "        x = 'converter',\n",
    "        stat='percent'\n",
    ")\n",
    "plt.grid()\n",
    "plt.title('Class Distribution of Converters vs Non-Converters')\n",
    "plt.show()"
   ]
  },
  {
   "cell_type": "code",
   "execution_count": 44,
   "metadata": {},
   "outputs": [
    {
     "data": {
      "image/png": "[encoded data removed]",
      "text/plain": [
       "<Figure size 1296x432 with 2 Axes>"
      ]
     },
     "metadata": {
      "needs_background": "light"
     },
     "output_type": "display_data"
    },
    {
     "data": {
      "image/png": "[encoded data removed]",
      "text/plain": [
       "<Figure size 1296x432 with 2 Axes>"
      ]
     },
     "metadata": {
      "needs_background": "light"
     },
     "output_type": "display_data"
    },
    {
     "data": {
      "image/png": "[encoded data removed]",
      "text/plain": [
       "<Figure size 1296x432 with 2 Axes>"
      ]
     },
     "metadata": {
      "needs_background": "light"
     },
     "output_type": "display_data"
    },
    {
     "data": {
      "image/png": "[encoded data removed]",
      "text/plain": [
       "<Figure size 1296x432 with 2 Axes>"
      ]
     },
     "metadata": {
      "needs_background": "light"
     },
     "output_type": "display_data"
    },
    {
     "data": {
      "image/png": "[encoded data removed]",
      "text/plain": [
       "<Figure size 1296x432 with 2 Axes>"
      ]
     },
     "metadata": {
      "needs_background": "light"
     },
     "output_type": "display_data"
    },
    {
     "data": {
      "image/png": "[encoded data removed]",
      "text/plain": [
       "<Figure size 1296x432 with 2 Axes>"
      ]
     },
     "metadata": {
      "needs_background": "light"
     },
     "output_type": "display_data"
    },
    {
     "data": {
      "image/png": "[encoded data removed]",
      "text/plain": [
       "<Figure size 1296x432 with 2 Axes>"
      ]
     },
     "metadata": {
      "needs_background": "light"
     },
     "output_type": "display_data"
    },
    {
     "data": {
      "image/png": "[encoded data removed]",
      "text/plain": [
       "<Figure size 1296x432 with 2 Axes>"
      ]
     },
     "metadata": {
      "needs_background": "light"
     },
     "output_type": "display_data"
    },
    {
     "data": {
      "image/png": "[encoded data removed]",
      "text/plain": [
       "<Figure size 1296x432 with 2 Axes>"
      ]
     },
     "metadata": {
      "needs_background": "light"
     },
     "output_type": "display_data"
    },
    {
     "data": {
      "image/png": "[encoded data removed]",
      "text/plain": [
       "<Figure size 1296x432 with 2 Axes>"
      ]
     },
     "metadata": {
      "needs_background": "light"
     },
     "output_type": "display_data"
    },
    {
     "data": {
      "image/png": "[encoded data removed]",
      "text/plain": [
       "<Figure size 1296x432 with 2 Axes>"
      ]
     },
     "metadata": {
      "needs_background": "light"
     },
     "output_type": "display_data"
    }
   ],
   "source": [
    "# plot histograms\n",
    "for feat in categorical_columns:\n",
    "\n",
    "    fig, ax = plt.subplots(1, 2, figsize=(18,6))\n",
    "\n",
    "    sns.histplot(\n",
    "        data = data,\n",
    "        x = feat,\n",
    "        hue = 'converter',\n",
    "        stat='count',\n",
    "        multiple='dodge',\n",
    "        ax = ax[0]\n",
    "    )\n",
    "    ax[0].set_title('Histogram')\n",
    "\n",
    "    sns.histplot(\n",
    "        data = data,\n",
    "        x = feat,\n",
    "        hue = 'converter',\n",
    "        stat='probability',\n",
    "        multiple='fill',\n",
    "        ax = ax[1]\n",
    "    )\n",
    "    ax[1].set_title('Normalized Probability Distribution')\n",
    "\n",
    "    plt.show()"
   ]
  },
  {
   "attachments": {},
   "cell_type": "markdown",
   "metadata": {},
   "source": [
    "## One-Hote Encoding"
   ]
  },
  {
   "cell_type": "code",
   "execution_count": 45,
   "metadata": {},
   "outputs": [],
   "source": [
    "enc = OneHotEncoder(\n",
    "    handle_unknown='ignore',\n",
    "    sparse=False,\n",
    "    drop='first')"
   ]
  },
  {
   "cell_type": "code",
   "execution_count": 46,
   "metadata": {},
   "outputs": [
    {
     "data": {
      "text/html": [
       "<div>\n",
       "<style scoped>\n",
       "    .dataframe tbody tr th:only-of-type {\n",
       "        vertical-align: middle;\n",
       "    }\n",
       "\n",
       "    .dataframe tbody tr th {\n",
       "        vertical-align: top;\n",
       "    }\n",
       "\n",
       "    .dataframe thead th {\n",
       "        text-align: right;\n",
       "    }\n",
       "</style>\n",
       "<table border=\"1\" class=\"dataframe\">\n",
       "  <thead>\n",
       "    <tr style=\"text-align: right;\">\n",
       "      <th></th>\n",
       "      <th>age</th>\n",
       "      <th>campaign</th>\n",
       "      <th>pdays</th>\n",
       "      <th>previous</th>\n",
       "      <th>job_admin.</th>\n",
       "      <th>job_blue-collar</th>\n",
       "      <th>job_management</th>\n",
       "      <th>job_services</th>\n",
       "      <th>job_technician</th>\n",
       "      <th>marital_married</th>\n",
       "      <th>...</th>\n",
       "      <th>month_jun</th>\n",
       "      <th>month_may</th>\n",
       "      <th>month_nov</th>\n",
       "      <th>day_of_week_mon</th>\n",
       "      <th>day_of_week_thu</th>\n",
       "      <th>day_of_week_tue</th>\n",
       "      <th>day_of_week_wed</th>\n",
       "      <th>poutcome_nonexistent</th>\n",
       "      <th>poutcome_success</th>\n",
       "      <th>previous_contact_yes</th>\n",
       "    </tr>\n",
       "  </thead>\n",
       "  <tbody>\n",
       "    <tr>\n",
       "      <th>13583</th>\n",
       "      <td>25.0</td>\n",
       "      <td>3.0</td>\n",
       "      <td>15.824953</td>\n",
       "      <td>1.971654</td>\n",
       "      <td>0.0</td>\n",
       "      <td>0.0</td>\n",
       "      <td>0.0</td>\n",
       "      <td>0.0</td>\n",
       "      <td>1.0</td>\n",
       "      <td>1.0</td>\n",
       "      <td>...</td>\n",
       "      <td>0.0</td>\n",
       "      <td>1.0</td>\n",
       "      <td>0.0</td>\n",
       "      <td>0.0</td>\n",
       "      <td>1.0</td>\n",
       "      <td>0.0</td>\n",
       "      <td>0.0</td>\n",
       "      <td>1.0</td>\n",
       "      <td>0.0</td>\n",
       "      <td>0.0</td>\n",
       "    </tr>\n",
       "    <tr>\n",
       "      <th>5572</th>\n",
       "      <td>42.0</td>\n",
       "      <td>1.0</td>\n",
       "      <td>15.824953</td>\n",
       "      <td>0.000000</td>\n",
       "      <td>0.0</td>\n",
       "      <td>0.0</td>\n",
       "      <td>0.0</td>\n",
       "      <td>0.0</td>\n",
       "      <td>0.0</td>\n",
       "      <td>1.0</td>\n",
       "      <td>...</td>\n",
       "      <td>0.0</td>\n",
       "      <td>1.0</td>\n",
       "      <td>0.0</td>\n",
       "      <td>1.0</td>\n",
       "      <td>0.0</td>\n",
       "      <td>0.0</td>\n",
       "      <td>0.0</td>\n",
       "      <td>1.0</td>\n",
       "      <td>0.0</td>\n",
       "      <td>0.0</td>\n",
       "    </tr>\n",
       "    <tr>\n",
       "      <th>4906</th>\n",
       "      <td>39.0</td>\n",
       "      <td>2.0</td>\n",
       "      <td>15.628392</td>\n",
       "      <td>0.000000</td>\n",
       "      <td>0.0</td>\n",
       "      <td>0.0</td>\n",
       "      <td>0.0</td>\n",
       "      <td>0.0</td>\n",
       "      <td>1.0</td>\n",
       "      <td>1.0</td>\n",
       "      <td>...</td>\n",
       "      <td>0.0</td>\n",
       "      <td>1.0</td>\n",
       "      <td>0.0</td>\n",
       "      <td>0.0</td>\n",
       "      <td>0.0</td>\n",
       "      <td>0.0</td>\n",
       "      <td>1.0</td>\n",
       "      <td>1.0</td>\n",
       "      <td>0.0</td>\n",
       "      <td>0.0</td>\n",
       "    </tr>\n",
       "    <tr>\n",
       "      <th>24720</th>\n",
       "      <td>37.0</td>\n",
       "      <td>1.0</td>\n",
       "      <td>15.824953</td>\n",
       "      <td>1.000000</td>\n",
       "      <td>0.0</td>\n",
       "      <td>0.0</td>\n",
       "      <td>0.0</td>\n",
       "      <td>0.0</td>\n",
       "      <td>0.0</td>\n",
       "      <td>1.0</td>\n",
       "      <td>...</td>\n",
       "      <td>0.0</td>\n",
       "      <td>1.0</td>\n",
       "      <td>0.0</td>\n",
       "      <td>1.0</td>\n",
       "      <td>0.0</td>\n",
       "      <td>0.0</td>\n",
       "      <td>0.0</td>\n",
       "      <td>0.0</td>\n",
       "      <td>0.0</td>\n",
       "      <td>0.0</td>\n",
       "    </tr>\n",
       "    <tr>\n",
       "      <th>1298</th>\n",
       "      <td>39.0</td>\n",
       "      <td>2.0</td>\n",
       "      <td>15.824953</td>\n",
       "      <td>0.000000</td>\n",
       "      <td>0.0</td>\n",
       "      <td>1.0</td>\n",
       "      <td>0.0</td>\n",
       "      <td>0.0</td>\n",
       "      <td>0.0</td>\n",
       "      <td>1.0</td>\n",
       "      <td>...</td>\n",
       "      <td>0.0</td>\n",
       "      <td>1.0</td>\n",
       "      <td>0.0</td>\n",
       "      <td>0.0</td>\n",
       "      <td>1.0</td>\n",
       "      <td>0.0</td>\n",
       "      <td>0.0</td>\n",
       "      <td>1.0</td>\n",
       "      <td>0.0</td>\n",
       "      <td>0.0</td>\n",
       "    </tr>\n",
       "  </tbody>\n",
       "</table>\n",
       "<p>5 rows × 37 columns</p>\n",
       "</div>"
      ],
      "text/plain": [
       "        age  campaign      pdays  previous  job_admin.  job_blue-collar  \\\n",
       "13583  25.0       3.0  15.824953  1.971654         0.0              0.0   \n",
       "5572   42.0       1.0  15.824953  0.000000         0.0              0.0   \n",
       "4906   39.0       2.0  15.628392  0.000000         0.0              0.0   \n",
       "24720  37.0       1.0  15.824953  1.000000         0.0              0.0   \n",
       "1298   39.0       2.0  15.824953  0.000000         0.0              1.0   \n",
       "\n",
       "       job_management  job_services  job_technician  marital_married  ...  \\\n",
       "13583             0.0           0.0             1.0              1.0  ...   \n",
       "5572              0.0           0.0             0.0              1.0  ...   \n",
       "4906              0.0           0.0             1.0              1.0  ...   \n",
       "24720             0.0           0.0             0.0              1.0  ...   \n",
       "1298              0.0           0.0             0.0              1.0  ...   \n",
       "\n",
       "       month_jun  month_may  month_nov  day_of_week_mon  day_of_week_thu  \\\n",
       "13583        0.0        1.0        0.0              0.0              1.0   \n",
       "5572         0.0        1.0        0.0              1.0              0.0   \n",
       "4906         0.0        1.0        0.0              0.0              0.0   \n",
       "24720        0.0        1.0        0.0              1.0              0.0   \n",
       "1298         0.0        1.0        0.0              0.0              1.0   \n",
       "\n",
       "       day_of_week_tue  day_of_week_wed  poutcome_nonexistent  \\\n",
       "13583              0.0              0.0                   1.0   \n",
       "5572               0.0              0.0                   1.0   \n",
       "4906               0.0              1.0                   1.0   \n",
       "24720              0.0              0.0                   0.0   \n",
       "1298               0.0              0.0                   1.0   \n",
       "\n",
       "       poutcome_success  previous_contact_yes  \n",
       "13583               0.0                   0.0  \n",
       "5572                0.0                   0.0  \n",
       "4906                0.0                   0.0  \n",
       "24720               0.0                   0.0  \n",
       "1298                0.0                   0.0  \n",
       "\n",
       "[5 rows x 37 columns]"
      ]
     },
     "execution_count": 46,
     "metadata": {},
     "output_type": "execute_result"
    }
   ],
   "source": [
    "# hotencode train data\n",
    "X_train_hot_enc = enc.fit_transform(X_train[categorical_columns])\n",
    "X_train_cat_hotenc = pd.DataFrame(X_train_hot_enc, columns=enc.get_feature_names_out()) \n",
    "X_train_cat_hotenc.index = X_train.index \n",
    "X_train_hotenc = pd.concat([X_train[numeric_columns], X_train_cat_hotenc], axis=1) \n",
    "X_train_hotenc.head()"
   ]
  },
  {
   "cell_type": "code",
   "execution_count": 47,
   "metadata": {},
   "outputs": [
    {
     "name": "stderr",
     "output_type": "stream",
     "text": [
      "Found unknown categories in columns [3] during transform. These unknown categories will be encoded as all zeros\n"
     ]
    },
    {
     "data": {
      "text/html": [
       "<div>\n",
       "<style scoped>\n",
       "    .dataframe tbody tr th:only-of-type {\n",
       "        vertical-align: middle;\n",
       "    }\n",
       "\n",
       "    .dataframe tbody tr th {\n",
       "        vertical-align: top;\n",
       "    }\n",
       "\n",
       "    .dataframe thead th {\n",
       "        text-align: right;\n",
       "    }\n",
       "</style>\n",
       "<table border=\"1\" class=\"dataframe\">\n",
       "  <thead>\n",
       "    <tr style=\"text-align: right;\">\n",
       "      <th></th>\n",
       "      <th>age</th>\n",
       "      <th>campaign</th>\n",
       "      <th>pdays</th>\n",
       "      <th>previous</th>\n",
       "      <th>job_admin.</th>\n",
       "      <th>job_blue-collar</th>\n",
       "      <th>job_management</th>\n",
       "      <th>job_services</th>\n",
       "      <th>job_technician</th>\n",
       "      <th>marital_married</th>\n",
       "      <th>...</th>\n",
       "      <th>month_jun</th>\n",
       "      <th>month_may</th>\n",
       "      <th>month_nov</th>\n",
       "      <th>day_of_week_mon</th>\n",
       "      <th>day_of_week_thu</th>\n",
       "      <th>day_of_week_tue</th>\n",
       "      <th>day_of_week_wed</th>\n",
       "      <th>poutcome_nonexistent</th>\n",
       "      <th>poutcome_success</th>\n",
       "      <th>previous_contact_yes</th>\n",
       "    </tr>\n",
       "  </thead>\n",
       "  <tbody>\n",
       "    <tr>\n",
       "      <th>9909</th>\n",
       "      <td>55.0</td>\n",
       "      <td>2.000000</td>\n",
       "      <td>15.824953</td>\n",
       "      <td>0.0</td>\n",
       "      <td>0.0</td>\n",
       "      <td>0.0</td>\n",
       "      <td>0.0</td>\n",
       "      <td>0.0</td>\n",
       "      <td>1.0</td>\n",
       "      <td>1.0</td>\n",
       "      <td>...</td>\n",
       "      <td>1.0</td>\n",
       "      <td>0.0</td>\n",
       "      <td>0.0</td>\n",
       "      <td>0.0</td>\n",
       "      <td>0.0</td>\n",
       "      <td>0.0</td>\n",
       "      <td>1.0</td>\n",
       "      <td>1.0</td>\n",
       "      <td>0.0</td>\n",
       "      <td>0.0</td>\n",
       "    </tr>\n",
       "    <tr>\n",
       "      <th>8714</th>\n",
       "      <td>38.0</td>\n",
       "      <td>4.000000</td>\n",
       "      <td>15.824953</td>\n",
       "      <td>0.0</td>\n",
       "      <td>0.0</td>\n",
       "      <td>0.0</td>\n",
       "      <td>0.0</td>\n",
       "      <td>0.0</td>\n",
       "      <td>1.0</td>\n",
       "      <td>1.0</td>\n",
       "      <td>...</td>\n",
       "      <td>1.0</td>\n",
       "      <td>0.0</td>\n",
       "      <td>0.0</td>\n",
       "      <td>0.0</td>\n",
       "      <td>0.0</td>\n",
       "      <td>0.0</td>\n",
       "      <td>1.0</td>\n",
       "      <td>1.0</td>\n",
       "      <td>0.0</td>\n",
       "      <td>0.0</td>\n",
       "    </tr>\n",
       "    <tr>\n",
       "      <th>11249</th>\n",
       "      <td>40.0</td>\n",
       "      <td>11.297449</td>\n",
       "      <td>15.824953</td>\n",
       "      <td>0.0</td>\n",
       "      <td>1.0</td>\n",
       "      <td>0.0</td>\n",
       "      <td>0.0</td>\n",
       "      <td>0.0</td>\n",
       "      <td>0.0</td>\n",
       "      <td>1.0</td>\n",
       "      <td>...</td>\n",
       "      <td>1.0</td>\n",
       "      <td>0.0</td>\n",
       "      <td>0.0</td>\n",
       "      <td>0.0</td>\n",
       "      <td>1.0</td>\n",
       "      <td>0.0</td>\n",
       "      <td>0.0</td>\n",
       "      <td>1.0</td>\n",
       "      <td>0.0</td>\n",
       "      <td>0.0</td>\n",
       "    </tr>\n",
       "    <tr>\n",
       "      <th>26948</th>\n",
       "      <td>39.0</td>\n",
       "      <td>3.000000</td>\n",
       "      <td>15.824953</td>\n",
       "      <td>0.0</td>\n",
       "      <td>0.0</td>\n",
       "      <td>1.0</td>\n",
       "      <td>0.0</td>\n",
       "      <td>0.0</td>\n",
       "      <td>0.0</td>\n",
       "      <td>1.0</td>\n",
       "      <td>...</td>\n",
       "      <td>0.0</td>\n",
       "      <td>0.0</td>\n",
       "      <td>1.0</td>\n",
       "      <td>0.0</td>\n",
       "      <td>1.0</td>\n",
       "      <td>0.0</td>\n",
       "      <td>0.0</td>\n",
       "      <td>1.0</td>\n",
       "      <td>0.0</td>\n",
       "      <td>0.0</td>\n",
       "    </tr>\n",
       "    <tr>\n",
       "      <th>11755</th>\n",
       "      <td>53.0</td>\n",
       "      <td>3.000000</td>\n",
       "      <td>15.824953</td>\n",
       "      <td>0.0</td>\n",
       "      <td>0.0</td>\n",
       "      <td>0.0</td>\n",
       "      <td>0.0</td>\n",
       "      <td>0.0</td>\n",
       "      <td>1.0</td>\n",
       "      <td>1.0</td>\n",
       "      <td>...</td>\n",
       "      <td>1.0</td>\n",
       "      <td>0.0</td>\n",
       "      <td>0.0</td>\n",
       "      <td>0.0</td>\n",
       "      <td>0.0</td>\n",
       "      <td>0.0</td>\n",
       "      <td>0.0</td>\n",
       "      <td>1.0</td>\n",
       "      <td>0.0</td>\n",
       "      <td>0.0</td>\n",
       "    </tr>\n",
       "  </tbody>\n",
       "</table>\n",
       "<p>5 rows × 37 columns</p>\n",
       "</div>"
      ],
      "text/plain": [
       "        age   campaign      pdays  previous  job_admin.  job_blue-collar  \\\n",
       "9909   55.0   2.000000  15.824953       0.0         0.0              0.0   \n",
       "8714   38.0   4.000000  15.824953       0.0         0.0              0.0   \n",
       "11249  40.0  11.297449  15.824953       0.0         1.0              0.0   \n",
       "26948  39.0   3.000000  15.824953       0.0         0.0              1.0   \n",
       "11755  53.0   3.000000  15.824953       0.0         0.0              0.0   \n",
       "\n",
       "       job_management  job_services  job_technician  marital_married  ...  \\\n",
       "9909              0.0           0.0             1.0              1.0  ...   \n",
       "8714              0.0           0.0             1.0              1.0  ...   \n",
       "11249             0.0           0.0             0.0              1.0  ...   \n",
       "26948             0.0           0.0             0.0              1.0  ...   \n",
       "11755             0.0           0.0             1.0              1.0  ...   \n",
       "\n",
       "       month_jun  month_may  month_nov  day_of_week_mon  day_of_week_thu  \\\n",
       "9909         1.0        0.0        0.0              0.0              0.0   \n",
       "8714         1.0        0.0        0.0              0.0              0.0   \n",
       "11249        1.0        0.0        0.0              0.0              1.0   \n",
       "26948        0.0        0.0        1.0              0.0              1.0   \n",
       "11755        1.0        0.0        0.0              0.0              0.0   \n",
       "\n",
       "       day_of_week_tue  day_of_week_wed  poutcome_nonexistent  \\\n",
       "9909               0.0              1.0                   1.0   \n",
       "8714               0.0              1.0                   1.0   \n",
       "11249              0.0              0.0                   1.0   \n",
       "26948              0.0              0.0                   1.0   \n",
       "11755              0.0              0.0                   1.0   \n",
       "\n",
       "       poutcome_success  previous_contact_yes  \n",
       "9909                0.0                   0.0  \n",
       "8714                0.0                   0.0  \n",
       "11249               0.0                   0.0  \n",
       "26948               0.0                   0.0  \n",
       "11755               0.0                   0.0  \n",
       "\n",
       "[5 rows x 37 columns]"
      ]
     },
     "execution_count": 47,
     "metadata": {},
     "output_type": "execute_result"
    }
   ],
   "source": [
    "# hotencode test data\n",
    "X_test_hot_enc = enc.transform(X_test[categorical_columns])\n",
    "X_test_cat_hotenc = pd.DataFrame(X_test_hot_enc, columns=enc.get_feature_names_out()) \n",
    "X_test_cat_hotenc.index = X_test.index \n",
    "X_test_hotenc = pd.concat([X_test[numeric_columns], X_test_cat_hotenc], axis=1) \n",
    "X_test_hotenc.head()"
   ]
  },
  {
   "cell_type": "code",
   "execution_count": 48,
   "metadata": {},
   "outputs": [],
   "source": [
    "# Save one hot encoder\n",
    "with open('../artifacts/enc.pickle', 'wb') as filename:\n",
    "    pickle.dump(enc, filename)"
   ]
  },
  {
   "attachments": {},
   "cell_type": "markdown",
   "metadata": {},
   "source": [
    "# Training Simple Sklearn Decision Tree "
   ]
  },
  {
   "attachments": {},
   "cell_type": "markdown",
   "metadata": {},
   "source": [
    "### Resampling Training Data to Account for Class Imbalance"
   ]
  },
  {
   "cell_type": "code",
   "execution_count": 49,
   "metadata": {},
   "outputs": [
    {
     "data": {
      "text/plain": [
       "(928,)"
      ]
     },
     "execution_count": 49,
     "metadata": {},
     "output_type": "execute_result"
    }
   ],
   "source": [
    "# undersample training data to adress the class imbalance\n",
    "\n",
    "# Create the under-sampler\n",
    "sampler = RandomUnderSampler(random_state=123)\n",
    "\n",
    "# Transform the training dataset\n",
    "X_undersampled, y_undersampled = sampler.fit_resample(X_train_hotenc, y_train)\n",
    "y_undersampled.shape"
   ]
  },
  {
   "cell_type": "code",
   "execution_count": 50,
   "metadata": {},
   "outputs": [],
   "source": [
    "dt = DecisionTreeClassifier(\n",
    "    max_depth=3,\n",
    "    min_samples_split=3,\n",
    "    min_samples_leaf=3, \n",
    "    random_state=123\n",
    ")"
   ]
  },
  {
   "cell_type": "code",
   "execution_count": 51,
   "metadata": {},
   "outputs": [
    {
     "data": {
      "text/html": [
       "<style>#sk-container-id-1 {color: black;background-color: white;}#sk-container-id-1 pre{padding: 0;}#sk-container-id-1 div.sk-toggleable {background-color: white;}#sk-container-id-1 label.sk-toggleable__label {cursor: pointer;display: block;width: 100%;margin-bottom: 0;padding: 0.3em;box-sizing: border-box;text-align: center;}#sk-container-id-1 label.sk-toggleable__label-arrow:before {content: \"▸\";float: left;margin-right: 0.25em;color: #696969;}#sk-container-id-1 label.sk-toggleable__label-arrow:hover:before {color: black;}#sk-container-id-1 div.sk-estimator:hover label.sk-toggleable__label-arrow:before {color: black;}#sk-container-id-1 div.sk-toggleable__content {max-height: 0;max-width: 0;overflow: hidden;text-align: left;background-color: #f0f8ff;}#sk-container-id-1 div.sk-toggleable__content pre {margin: 0.2em;color: black;border-radius: 0.25em;background-color: #f0f8ff;}#sk-container-id-1 input.sk-toggleable__control:checked~div.sk-toggleable__content {max-height: 200px;max-width: 100%;overflow: auto;}#sk-container-id-1 input.sk-toggleable__control:checked~label.sk-toggleable__label-arrow:before {content: \"▾\";}#sk-container-id-1 div.sk-estimator input.sk-toggleable__control:checked~label.sk-toggleable__label {background-color: #d4ebff;}#sk-container-id-1 div.sk-label input.sk-toggleable__control:checked~label.sk-toggleable__label {background-color: #d4ebff;}#sk-container-id-1 input.sk-hidden--visually {border: 0;clip: rect(1px 1px 1px 1px);clip: rect(1px, 1px, 1px, 1px);height: 1px;margin: -1px;overflow: hidden;padding: 0;position: absolute;width: 1px;}#sk-container-id-1 div.sk-estimator {font-family: monospace;background-color: #f0f8ff;border: 1px dotted black;border-radius: 0.25em;box-sizing: border-box;margin-bottom: 0.5em;}#sk-container-id-1 div.sk-estimator:hover {background-color: #d4ebff;}#sk-container-id-1 div.sk-parallel-item::after {content: \"\";width: 100%;border-bottom: 1px solid gray;flex-grow: 1;}#sk-container-id-1 div.sk-label:hover label.sk-toggleable__label {background-color: #d4ebff;}#sk-container-id-1 div.sk-serial::before {content: \"\";position: absolute;border-left: 1px solid gray;box-sizing: border-box;top: 0;bottom: 0;left: 50%;z-index: 0;}#sk-container-id-1 div.sk-serial {display: flex;flex-direction: column;align-items: center;background-color: white;padding-right: 0.2em;padding-left: 0.2em;position: relative;}#sk-container-id-1 div.sk-item {position: relative;z-index: 1;}#sk-container-id-1 div.sk-parallel {display: flex;align-items: stretch;justify-content: center;background-color: white;position: relative;}#sk-container-id-1 div.sk-item::before, #sk-container-id-1 div.sk-parallel-item::before {content: \"\";position: absolute;border-left: 1px solid gray;box-sizing: border-box;top: 0;bottom: 0;left: 50%;z-index: -1;}#sk-container-id-1 div.sk-parallel-item {display: flex;flex-direction: column;z-index: 1;position: relative;background-color: white;}#sk-container-id-1 div.sk-parallel-item:first-child::after {align-self: flex-end;width: 50%;}#sk-container-id-1 div.sk-parallel-item:last-child::after {align-self: flex-start;width: 50%;}#sk-container-id-1 div.sk-parallel-item:only-child::after {width: 0;}#sk-container-id-1 div.sk-dashed-wrapped {border: 1px dashed gray;margin: 0 0.4em 0.5em 0.4em;box-sizing: border-box;padding-bottom: 0.4em;background-color: white;}#sk-container-id-1 div.sk-label label {font-family: monospace;font-weight: bold;display: inline-block;line-height: 1.2em;}#sk-container-id-1 div.sk-label-container {text-align: center;}#sk-container-id-1 div.sk-container {/* jupyter's `normalize.less` sets `[hidden] { display: none; }` but bootstrap.min.css set `[hidden] { display: none !important; }` so we also need the `!important` here to be able to override the default hidden behavior on the sphinx rendered scikit-learn.org. See: https://github.com/scikit-learn/scikit-learn/issues/21755 */display: inline-block !important;position: relative;}#sk-container-id-1 div.sk-text-repr-fallback {display: none;}</style><div id=\"sk-container-id-1\" class=\"sk-top-container\"><div class=\"sk-text-repr-fallback\"><pre>DecisionTreeClassifier(max_depth=3, min_samples_leaf=3, min_samples_split=3,\n",
       "                       random_state=123)</pre><b>In a Jupyter environment, please rerun this cell to show the HTML representation or trust the notebook. <br />On GitHub, the HTML representation is unable to render, please try loading this page with nbviewer.org.</b></div><div class=\"sk-container\" hidden><div class=\"sk-item\"><div class=\"sk-estimator sk-toggleable\"><input class=\"sk-toggleable__control sk-hidden--visually\" id=\"sk-estimator-id-1\" type=\"checkbox\" checked><label for=\"sk-estimator-id-1\" class=\"sk-toggleable__label sk-toggleable__label-arrow\">DecisionTreeClassifier</label><div class=\"sk-toggleable__content\"><pre>DecisionTreeClassifier(max_depth=3, min_samples_leaf=3, min_samples_split=3,\n",
       "                       random_state=123)</pre></div></div></div></div></div>"
      ],
      "text/plain": [
       "DecisionTreeClassifier(max_depth=3, min_samples_leaf=3, min_samples_split=3,\n",
       "                       random_state=123)"
      ]
     },
     "execution_count": 51,
     "metadata": {},
     "output_type": "execute_result"
    }
   ],
   "source": [
    "# fit undersampled data\n",
    "dt.fit(X_undersampled, y_undersampled)"
   ]
  },
  {
   "cell_type": "code",
   "execution_count": 52,
   "metadata": {},
   "outputs": [
    {
     "data": {
      "text/plain": [
       "0.42884895580378823"
      ]
     },
     "execution_count": 52,
     "metadata": {},
     "output_type": "execute_result"
    }
   ],
   "source": [
    "# evaluate accuracy on training set\n",
    "dt.score(X_train_hotenc, y_train)"
   ]
  },
  {
   "cell_type": "code",
   "execution_count": 53,
   "metadata": {},
   "outputs": [
    {
     "data": {
      "text/plain": [
       "0.4234151605071486"
      ]
     },
     "execution_count": 53,
     "metadata": {},
     "output_type": "execute_result"
    }
   ],
   "source": [
    "# evaluate accuracy on test set\n",
    "dt.score(X_test_hotenc, y_test)"
   ]
  },
  {
   "cell_type": "code",
   "execution_count": 54,
   "metadata": {},
   "outputs": [
    {
     "data": {
      "text/plain": [
       "0.42884895580378823"
      ]
     },
     "execution_count": 54,
     "metadata": {},
     "output_type": "execute_result"
    }
   ],
   "source": [
    "# evaluate accuracy on training set\n",
    "dt.score(X_train_hotenc, y_train)"
   ]
  },
  {
   "cell_type": "code",
   "execution_count": 55,
   "metadata": {},
   "outputs": [
    {
     "data": {
      "text/plain": [
       "0.4234151605071486"
      ]
     },
     "execution_count": 55,
     "metadata": {},
     "output_type": "execute_result"
    }
   ],
   "source": [
    "# evaluate accuracy on test set\n",
    "dt.score(X_test_hotenc, y_test)"
   ]
  },
  {
   "attachments": {},
   "cell_type": "markdown",
   "metadata": {},
   "source": [
    "### Tuning Decision Tree"
   ]
  },
  {
   "cell_type": "code",
   "execution_count": 56,
   "metadata": {},
   "outputs": [],
   "source": [
    "# parameters for Decision Tree\n",
    "parameters = {\n",
    "    'max_depth': (3, 4, 5, None),\n",
    "    'min_samples_split': (1, 2, 3, 4, 5, 6),\n",
    "    'min_samples_leaf': (1, 2, 3, 4, 5, 6)\n",
    "    }"
   ]
  },
  {
   "attachments": {},
   "cell_type": "markdown",
   "metadata": {},
   "source": [
    "#### Tune Model on Undersampled Data (Oversampling did non work out well! so no need trying it again!)"
   ]
  },
  {
   "cell_type": "code",
   "execution_count": 57,
   "metadata": {},
   "outputs": [
    {
     "name": "stdout",
     "output_type": "stream",
     "text": [
      "recall score in train data: 0.87\n",
      "recall score in test data: 0.85\n"
     ]
    },
    {
     "name": "stderr",
     "output_type": "stream",
     "text": [
      "\n",
      "72 fits failed out of a total of 432.\n",
      "The score on these train-test partitions for these parameters will be set to nan.\n",
      "If these failures are not expected, you can try to debug them by setting error_score='raise'.\n",
      "\n",
      "Below are more details about the failures:\n",
      "--------------------------------------------------------------------------------\n",
      "72 fits failed with the following error:\n",
      "Traceback (most recent call last):\n",
      "  File \"c:\\Users\\Nutzer\\.conda\\envs\\customer_analytics\\lib\\site-packages\\sklearn\\model_selection\\_validation.py\", line 686, in _fit_and_score\n",
      "    estimator.fit(X_train, y_train, **fit_params)\n",
      "  File \"c:\\Users\\Nutzer\\.conda\\envs\\customer_analytics\\lib\\site-packages\\sklearn\\tree\\_classes.py\", line 969, in fit\n",
      "    super().fit(\n",
      "  File \"c:\\Users\\Nutzer\\.conda\\envs\\customer_analytics\\lib\\site-packages\\sklearn\\tree\\_classes.py\", line 265, in fit\n",
      "    check_scalar(\n",
      "  File \"c:\\Users\\Nutzer\\.conda\\envs\\customer_analytics\\lib\\site-packages\\sklearn\\utils\\validation.py\", line 1480, in check_scalar\n",
      "    raise ValueError(\n",
      "ValueError: min_samples_split == 1, must be >= 2.\n",
      "\n",
      "One or more of the test scores are non-finite: [       nan 0.65778523 0.65778523 0.65778523 0.65778523 0.65778523\n",
      "        nan 0.65133361 0.65133361 0.65133361 0.65133361 0.65133361\n",
      "        nan 0.65563469 0.65563469 0.65563469 0.65563469 0.65563469\n",
      "        nan 0.65994973 0.65994973 0.65994973 0.65994973 0.65994973\n",
      "        nan 0.65994973 0.65994973 0.65994973 0.65994973 0.65994973\n",
      "        nan 0.66855188 0.66855188 0.66855188 0.66855188 0.66855188\n",
      "        nan 0.64275939 0.64275939 0.64706047 0.64706047 0.64706047\n",
      "        nan 0.6492529  0.6492529  0.6492529  0.6492529  0.6492529\n",
      "        nan 0.65355397 0.65355397 0.65355397 0.65355397 0.65355397\n",
      "        nan 0.65785505 0.65785505 0.65785505 0.65785505 0.65785505\n",
      "        nan 0.65785505 0.65785505 0.65785505 0.65785505 0.65785505\n",
      "        nan 0.6492529  0.6492529  0.6492529  0.6492529  0.6492529\n",
      "        nan 0.56947354 0.56517246 0.56947354 0.56947354 0.56947354\n",
      "        nan 0.56303589 0.56303589 0.56303589 0.56303589 0.56303589\n",
      "        nan 0.56518643 0.56518643 0.56518643 0.56518643 0.56518643\n",
      "        nan 0.56733696 0.56733696 0.56733696 0.56733696 0.56733696\n",
      "        nan 0.57163804 0.57163804 0.57163804 0.57163804 0.57163804\n",
      "        nan 0.56733696 0.56733696 0.56733696 0.56733696 0.56733696\n",
      "        nan 0.60127077 0.61636643 0.61638039 0.60132663 0.58195783\n",
      "        nan 0.57119117 0.57119117 0.57119117 0.56901271 0.56261695\n",
      "        nan 0.59275241 0.59275241 0.59275241 0.59275241 0.59275241\n",
      "        nan 0.57336964 0.57336964 0.57336964 0.57336964 0.57336964\n",
      "        nan 0.55616534 0.55616534 0.55616534 0.55616534 0.55616534\n",
      "        nan 0.50227622 0.50227622 0.50227622 0.50227622 0.50227622]\n"
     ]
    }
   ],
   "source": [
    "model_dt = GridSearchCV(\n",
    "    dt, \n",
    "    parameters,\n",
    "    scoring=make_scorer(recall_score),\n",
    "    cv=3, \n",
    "    n_jobs =-1)\n",
    "\n",
    "# fit model on undersampled data\n",
    "model_dt.fit(X_undersampled, y_undersampled)\n",
    "\n",
    "# evaluate accuracy on training set\n",
    "print('recall score in train data: {:.2f}'.format(model_dt.score(X_train_hotenc, y_train))) \n",
    "\n",
    "# evaluate accuracy on test set\n",
    "print('recall score in test data: {:.2f}'.format(model_dt.score(X_test_hotenc, y_test)))"
   ]
  },
  {
   "cell_type": "code",
   "execution_count": 58,
   "metadata": {},
   "outputs": [
    {
     "data": {
      "text/plain": [
       "{'max_depth': 3, 'min_samples_leaf': 6, 'min_samples_split': 2}"
      ]
     },
     "execution_count": 58,
     "metadata": {},
     "output_type": "execute_result"
    }
   ],
   "source": [
    "# show best model parameters\n",
    "model_dt.best_params_"
   ]
  },
  {
   "attachments": {},
   "cell_type": "markdown",
   "metadata": {},
   "source": [
    "### Visualize Tuned Decision Tree"
   ]
  },
  {
   "cell_type": "code",
   "execution_count": 59,
   "metadata": {},
   "outputs": [],
   "source": [
    "dot_data = tree.export_graphviz(\n",
    "    decision_tree=model_dt.best_estimator_,\n",
    "    max_depth=3,\n",
    "    feature_names=X_test_hotenc.columns.tolist(),\n",
    "    class_names=['0', '1'],\n",
    "    filled=True,\n",
    "    rounded=True,\n",
    "    special_characters=True,\n",
    "    proportion=True\n",
    ")"
   ]
  },
  {
   "cell_type": "code",
   "execution_count": 60,
   "metadata": {},
   "outputs": [
    {
     "data": {
      "image/svg+xml": "<?xml version=\"1.0\" encoding=\"UTF-8\" standalone=\"no\"?>\n<!DOCTYPE svg PUBLIC \"-//W3C//DTD SVG 1.1//EN\"\n \"http://www.w3.org/Graphics/SVG/1.1/DTD/svg11.dtd\">\n<!-- Generated by graphviz version 2.50.0 (0)\n -->\n<!-- Title: Tree Pages: 1 -->\n<svg width=\"980pt\" height=\"433pt\"\n viewBox=\"0.00 0.00 980.00 433.00\" xmlns=\"http://www.w3.org/2000/svg\" xmlns:xlink=\"http://www.w3.org/1999/xlink\">\n<g id=\"graph0\" class=\"graph\" transform=\"scale(1 1) rotate(0) translate(4 429)\">\n<title>Tree</title>\n<polygon fill=\"white\" stroke=\"transparent\" points=\"-4,4 -4,-429 976,-429 976,4 -4,4\"/>\n<!-- 0 -->\n<g id=\"node1\" class=\"node\">\n<title>0</title>\n<path fill=\"#ffffff\" stroke=\"black\" d=\"M729,-425C729,-425 572,-425 572,-425 566,-425 560,-419 560,-413 560,-413 560,-354 560,-354 560,-348 566,-342 572,-342 572,-342 729,-342 729,-342 735,-342 741,-348 741,-354 741,-354 741,-413 741,-413 741,-419 735,-425 729,-425\"/>\n<text text-anchor=\"start\" x=\"568\" y=\"-409.8\" font-family=\"Helvetica,sans-Serif\" font-size=\"14.00\">previous_contact_yes ≤ 0.5</text>\n<text text-anchor=\"start\" x=\"622.5\" y=\"-394.8\" font-family=\"Helvetica,sans-Serif\" font-size=\"14.00\">gini = 0.5</text>\n<text text-anchor=\"start\" x=\"593.5\" y=\"-379.8\" font-family=\"Helvetica,sans-Serif\" font-size=\"14.00\">samples = 100.0%</text>\n<text text-anchor=\"start\" x=\"600\" y=\"-364.8\" font-family=\"Helvetica,sans-Serif\" font-size=\"14.00\">value = [0.5, 0.5]</text>\n<text text-anchor=\"start\" x=\"623\" y=\"-349.8\" font-family=\"Helvetica,sans-Serif\" font-size=\"14.00\">class = 0</text>\n</g>\n<!-- 1 -->\n<g id=\"node2\" class=\"node\">\n<title>1</title>\n<path fill=\"#fbe9dd\" stroke=\"black\" d=\"M554,-306C554,-306 417,-306 417,-306 411,-306 405,-300 405,-294 405,-294 405,-235 405,-235 405,-229 411,-223 417,-223 417,-223 554,-223 554,-223 560,-223 566,-229 566,-235 566,-235 566,-294 566,-294 566,-300 560,-306 554,-306\"/>\n<text text-anchor=\"start\" x=\"413\" y=\"-290.8\" font-family=\"Helvetica,sans-Serif\" font-size=\"14.00\">contact_telephone ≤ 0.5</text>\n<text text-anchor=\"start\" x=\"450\" y=\"-275.8\" font-family=\"Helvetica,sans-Serif\" font-size=\"14.00\">gini = 0.496</text>\n<text text-anchor=\"start\" x=\"432.5\" y=\"-260.8\" font-family=\"Helvetica,sans-Serif\" font-size=\"14.00\">samples = 89.2%</text>\n<text text-anchor=\"start\" x=\"420\" y=\"-245.8\" font-family=\"Helvetica,sans-Serif\" font-size=\"14.00\">value = [0.547, 0.453]</text>\n<text text-anchor=\"start\" x=\"458\" y=\"-230.8\" font-family=\"Helvetica,sans-Serif\" font-size=\"14.00\">class = 0</text>\n</g>\n<!-- 0&#45;&gt;1 -->\n<g id=\"edge1\" class=\"edge\">\n<title>0&#45;&gt;1</title>\n<path fill=\"none\" stroke=\"black\" d=\"M593.25,-341.91C579.56,-332.2 564.84,-321.76 550.81,-311.81\"/>\n<polygon fill=\"black\" stroke=\"black\" points=\"552.83,-308.95 542.64,-306.02 548.78,-314.66 552.83,-308.95\"/>\n<text text-anchor=\"middle\" x=\"546.84\" y=\"-326.97\" font-family=\"Helvetica,sans-Serif\" font-size=\"14.00\">True</text>\n</g>\n<!-- 8 -->\n<g id=\"node9\" class=\"node\">\n<title>8</title>\n<path fill=\"#51a9e8\" stroke=\"black\" d=\"M787,-306C787,-306 680,-306 680,-306 674,-306 668,-300 668,-294 668,-294 668,-235 668,-235 668,-229 674,-223 680,-223 680,-223 787,-223 787,-223 793,-223 799,-229 799,-235 799,-235 799,-294 799,-294 799,-300 793,-306 787,-306\"/>\n<text text-anchor=\"start\" x=\"686.5\" y=\"-290.8\" font-family=\"Helvetica,sans-Serif\" font-size=\"14.00\">campaign ≤ 5.5</text>\n<text text-anchor=\"start\" x=\"698\" y=\"-275.8\" font-family=\"Helvetica,sans-Serif\" font-size=\"14.00\">gini = 0.196</text>\n<text text-anchor=\"start\" x=\"680.5\" y=\"-260.8\" font-family=\"Helvetica,sans-Serif\" font-size=\"14.00\">samples = 10.8%</text>\n<text text-anchor=\"start\" x=\"676\" y=\"-245.8\" font-family=\"Helvetica,sans-Serif\" font-size=\"14.00\">value = [0.11, 0.89]</text>\n<text text-anchor=\"start\" x=\"706\" y=\"-230.8\" font-family=\"Helvetica,sans-Serif\" font-size=\"14.00\">class = 1</text>\n</g>\n<!-- 0&#45;&gt;8 -->\n<g id=\"edge8\" class=\"edge\">\n<title>0&#45;&gt;8</title>\n<path fill=\"none\" stroke=\"black\" d=\"M679.3,-341.91C685.61,-333.01 692.35,-323.51 698.86,-314.33\"/>\n<polygon fill=\"black\" stroke=\"black\" points=\"701.82,-316.2 704.75,-306.02 696.11,-312.15 701.82,-316.2\"/>\n<text text-anchor=\"middle\" x=\"708.94\" y=\"-326.97\" font-family=\"Helvetica,sans-Serif\" font-size=\"14.00\">False</text>\n</g>\n<!-- 2 -->\n<g id=\"node3\" class=\"node\">\n<title>2</title>\n<path fill=\"#ebf5fc\" stroke=\"black\" d=\"M300,-187C300,-187 177,-187 177,-187 171,-187 165,-181 165,-175 165,-175 165,-116 165,-116 165,-110 171,-104 177,-104 177,-104 300,-104 300,-104 306,-104 312,-110 312,-116 312,-116 312,-175 312,-175 312,-181 306,-187 300,-187\"/>\n<text text-anchor=\"start\" x=\"189.5\" y=\"-171.8\" font-family=\"Helvetica,sans-Serif\" font-size=\"14.00\">month_jun ≤ 0.5</text>\n<text text-anchor=\"start\" x=\"203\" y=\"-156.8\" font-family=\"Helvetica,sans-Serif\" font-size=\"14.00\">gini = 0.499</text>\n<text text-anchor=\"start\" x=\"185.5\" y=\"-141.8\" font-family=\"Helvetica,sans-Serif\" font-size=\"14.00\">samples = 64.7%</text>\n<text text-anchor=\"start\" x=\"173\" y=\"-126.8\" font-family=\"Helvetica,sans-Serif\" font-size=\"14.00\">value = [0.473, 0.527]</text>\n<text text-anchor=\"start\" x=\"211\" y=\"-111.8\" font-family=\"Helvetica,sans-Serif\" font-size=\"14.00\">class = 1</text>\n</g>\n<!-- 1&#45;&gt;2 -->\n<g id=\"edge2\" class=\"edge\">\n<title>1&#45;&gt;2</title>\n<path fill=\"none\" stroke=\"black\" d=\"M404.96,-225.35C378.27,-212.71 348.51,-198.61 321.62,-185.87\"/>\n<polygon fill=\"black\" stroke=\"black\" points=\"322.78,-182.55 312.24,-181.43 319.78,-188.87 322.78,-182.55\"/>\n</g>\n<!-- 5 -->\n<g id=\"node6\" class=\"node\">\n<title>5</title>\n<path fill=\"#eead7e\" stroke=\"black\" d=\"M547,-187C547,-187 424,-187 424,-187 418,-187 412,-181 412,-175 412,-175 412,-116 412,-116 412,-110 418,-104 424,-104 424,-104 547,-104 547,-104 553,-104 559,-110 559,-116 559,-116 559,-175 559,-175 559,-181 553,-187 547,-187\"/>\n<text text-anchor=\"start\" x=\"432.5\" y=\"-171.8\" font-family=\"Helvetica,sans-Serif\" font-size=\"14.00\">month_may ≤ 0.5</text>\n<text text-anchor=\"start\" x=\"450\" y=\"-156.8\" font-family=\"Helvetica,sans-Serif\" font-size=\"14.00\">gini = 0.384</text>\n<text text-anchor=\"start\" x=\"432.5\" y=\"-141.8\" font-family=\"Helvetica,sans-Serif\" font-size=\"14.00\">samples = 24.6%</text>\n<text text-anchor=\"start\" x=\"420\" y=\"-126.8\" font-family=\"Helvetica,sans-Serif\" font-size=\"14.00\">value = [0.741, 0.259]</text>\n<text text-anchor=\"start\" x=\"458\" y=\"-111.8\" font-family=\"Helvetica,sans-Serif\" font-size=\"14.00\">class = 0</text>\n</g>\n<!-- 1&#45;&gt;5 -->\n<g id=\"edge5\" class=\"edge\">\n<title>1&#45;&gt;5</title>\n<path fill=\"none\" stroke=\"black\" d=\"M485.5,-222.91C485.5,-214.65 485.5,-205.86 485.5,-197.3\"/>\n<polygon fill=\"black\" stroke=\"black\" points=\"489,-197.02 485.5,-187.02 482,-197.02 489,-197.02\"/>\n</g>\n<!-- 3 -->\n<g id=\"node4\" class=\"node\">\n<title>3</title>\n<path fill=\"#f9fcfe\" stroke=\"black\" d=\"M135,-68C135,-68 12,-68 12,-68 6,-68 0,-62 0,-56 0,-56 0,-12 0,-12 0,-6 6,0 12,0 12,0 135,0 135,0 141,0 147,-6 147,-12 147,-12 147,-56 147,-56 147,-62 141,-68 135,-68\"/>\n<text text-anchor=\"start\" x=\"45.5\" y=\"-52.8\" font-family=\"Helvetica,sans-Serif\" font-size=\"14.00\">gini = 0.5</text>\n<text text-anchor=\"start\" x=\"20.5\" y=\"-37.8\" font-family=\"Helvetica,sans-Serif\" font-size=\"14.00\">samples = 61.5%</text>\n<text text-anchor=\"start\" x=\"8\" y=\"-22.8\" font-family=\"Helvetica,sans-Serif\" font-size=\"14.00\">value = [0.492, 0.508]</text>\n<text text-anchor=\"start\" x=\"46\" y=\"-7.8\" font-family=\"Helvetica,sans-Serif\" font-size=\"14.00\">class = 1</text>\n</g>\n<!-- 2&#45;&gt;3 -->\n<g id=\"edge3\" class=\"edge\">\n<title>2&#45;&gt;3</title>\n<path fill=\"none\" stroke=\"black\" d=\"M177.06,-103.73C162.28,-93.92 146.53,-83.46 131.89,-73.75\"/>\n<polygon fill=\"black\" stroke=\"black\" points=\"133.68,-70.74 123.41,-68.13 129.81,-76.57 133.68,-70.74\"/>\n</g>\n<!-- 4 -->\n<g id=\"node5\" class=\"node\">\n<title>4</title>\n<path fill=\"#50a8e8\" stroke=\"black\" d=\"M300,-68C300,-68 177,-68 177,-68 171,-68 165,-62 165,-56 165,-56 165,-12 165,-12 165,-6 171,0 177,0 177,0 300,0 300,0 306,0 312,-6 312,-12 312,-12 312,-56 312,-56 312,-62 306,-68 300,-68\"/>\n<text text-anchor=\"start\" x=\"203\" y=\"-52.8\" font-family=\"Helvetica,sans-Serif\" font-size=\"14.00\">gini = 0.185</text>\n<text text-anchor=\"start\" x=\"189\" y=\"-37.8\" font-family=\"Helvetica,sans-Serif\" font-size=\"14.00\">samples = 3.1%</text>\n<text text-anchor=\"start\" x=\"173\" y=\"-22.8\" font-family=\"Helvetica,sans-Serif\" font-size=\"14.00\">value = [0.103, 0.897]</text>\n<text text-anchor=\"start\" x=\"211\" y=\"-7.8\" font-family=\"Helvetica,sans-Serif\" font-size=\"14.00\">class = 1</text>\n</g>\n<!-- 2&#45;&gt;4 -->\n<g id=\"edge4\" class=\"edge\">\n<title>2&#45;&gt;4</title>\n<path fill=\"none\" stroke=\"black\" d=\"M238.5,-103.73C238.5,-95.52 238.5,-86.86 238.5,-78.56\"/>\n<polygon fill=\"black\" stroke=\"black\" points=\"242,-78.3 238.5,-68.3 235,-78.3 242,-78.3\"/>\n</g>\n<!-- 6 -->\n<g id=\"node7\" class=\"node\">\n<title>6</title>\n<path fill=\"#f3c5a4\" stroke=\"black\" d=\"M465,-68C465,-68 342,-68 342,-68 336,-68 330,-62 330,-56 330,-56 330,-12 330,-12 330,-6 336,0 342,0 342,0 465,0 465,0 471,0 477,-6 477,-12 477,-12 477,-56 477,-56 477,-62 471,-68 465,-68\"/>\n<text text-anchor=\"start\" x=\"368\" y=\"-52.8\" font-family=\"Helvetica,sans-Serif\" font-size=\"14.00\">gini = 0.456</text>\n<text text-anchor=\"start\" x=\"350.5\" y=\"-37.8\" font-family=\"Helvetica,sans-Serif\" font-size=\"14.00\">samples = 12.0%</text>\n<text text-anchor=\"start\" x=\"338\" y=\"-22.8\" font-family=\"Helvetica,sans-Serif\" font-size=\"14.00\">value = [0.649, 0.351]</text>\n<text text-anchor=\"start\" x=\"376\" y=\"-7.8\" font-family=\"Helvetica,sans-Serif\" font-size=\"14.00\">class = 0</text>\n</g>\n<!-- 5&#45;&gt;6 -->\n<g id=\"edge6\" class=\"edge\">\n<title>5&#45;&gt;6</title>\n<path fill=\"none\" stroke=\"black\" d=\"M454.97,-103.73C448.27,-94.79 441.18,-85.32 434.47,-76.36\"/>\n<polygon fill=\"black\" stroke=\"black\" points=\"437.23,-74.21 428.44,-68.3 431.63,-78.4 437.23,-74.21\"/>\n</g>\n<!-- 7 -->\n<g id=\"node8\" class=\"node\">\n<title>7</title>\n<path fill=\"#ea9b62\" stroke=\"black\" d=\"M630,-68C630,-68 507,-68 507,-68 501,-68 495,-62 495,-56 495,-56 495,-12 495,-12 495,-6 501,0 507,0 507,0 630,0 630,0 636,0 642,-6 642,-12 642,-12 642,-56 642,-56 642,-62 636,-68 630,-68\"/>\n<text text-anchor=\"start\" x=\"533\" y=\"-52.8\" font-family=\"Helvetica,sans-Serif\" font-size=\"14.00\">gini = 0.283</text>\n<text text-anchor=\"start\" x=\"515.5\" y=\"-37.8\" font-family=\"Helvetica,sans-Serif\" font-size=\"14.00\">samples = 12.6%</text>\n<text text-anchor=\"start\" x=\"503\" y=\"-22.8\" font-family=\"Helvetica,sans-Serif\" font-size=\"14.00\">value = [0.829, 0.171]</text>\n<text text-anchor=\"start\" x=\"541\" y=\"-7.8\" font-family=\"Helvetica,sans-Serif\" font-size=\"14.00\">class = 0</text>\n</g>\n<!-- 5&#45;&gt;7 -->\n<g id=\"edge7\" class=\"edge\">\n<title>5&#45;&gt;7</title>\n<path fill=\"none\" stroke=\"black\" d=\"M516.41,-103.73C523.18,-94.79 530.36,-85.32 537.15,-76.36\"/>\n<polygon fill=\"black\" stroke=\"black\" points=\"540.01,-78.38 543.26,-68.3 534.43,-74.15 540.01,-78.38\"/>\n</g>\n<!-- 9 -->\n<g id=\"node10\" class=\"node\">\n<title>9</title>\n<path fill=\"#4ca6e7\" stroke=\"black\" d=\"M795,-187C795,-187 672,-187 672,-187 666,-187 660,-181 660,-175 660,-175 660,-116 660,-116 660,-110 666,-104 672,-104 672,-104 795,-104 795,-104 801,-104 807,-110 807,-116 807,-116 807,-175 807,-175 807,-181 801,-187 795,-187\"/>\n<text text-anchor=\"start\" x=\"695\" y=\"-171.8\" font-family=\"Helvetica,sans-Serif\" font-size=\"14.00\">pdays ≤ 11.0</text>\n<text text-anchor=\"start\" x=\"698\" y=\"-156.8\" font-family=\"Helvetica,sans-Serif\" font-size=\"14.00\">gini = 0.157</text>\n<text text-anchor=\"start\" x=\"680.5\" y=\"-141.8\" font-family=\"Helvetica,sans-Serif\" font-size=\"14.00\">samples = 10.0%</text>\n<text text-anchor=\"start\" x=\"668\" y=\"-126.8\" font-family=\"Helvetica,sans-Serif\" font-size=\"14.00\">value = [0.086, 0.914]</text>\n<text text-anchor=\"start\" x=\"706\" y=\"-111.8\" font-family=\"Helvetica,sans-Serif\" font-size=\"14.00\">class = 1</text>\n</g>\n<!-- 8&#45;&gt;9 -->\n<g id=\"edge9\" class=\"edge\">\n<title>8&#45;&gt;9</title>\n<path fill=\"none\" stroke=\"black\" d=\"M733.5,-222.91C733.5,-214.65 733.5,-205.86 733.5,-197.3\"/>\n<polygon fill=\"black\" stroke=\"black\" points=\"737,-197.02 733.5,-187.02 730,-197.02 737,-197.02\"/>\n</g>\n<!-- 12 -->\n<g id=\"node13\" class=\"node\">\n<title>12</title>\n<path fill=\"#cee6f8\" stroke=\"black\" d=\"M960,-179.5C960,-179.5 837,-179.5 837,-179.5 831,-179.5 825,-173.5 825,-167.5 825,-167.5 825,-123.5 825,-123.5 825,-117.5 831,-111.5 837,-111.5 837,-111.5 960,-111.5 960,-111.5 966,-111.5 972,-117.5 972,-123.5 972,-123.5 972,-167.5 972,-167.5 972,-173.5 966,-179.5 960,-179.5\"/>\n<text text-anchor=\"start\" x=\"866.5\" y=\"-164.3\" font-family=\"Helvetica,sans-Serif\" font-size=\"14.00\">gini = 0.49</text>\n<text text-anchor=\"start\" x=\"849\" y=\"-149.3\" font-family=\"Helvetica,sans-Serif\" font-size=\"14.00\">samples = 0.8%</text>\n<text text-anchor=\"start\" x=\"833\" y=\"-134.3\" font-family=\"Helvetica,sans-Serif\" font-size=\"14.00\">value = [0.429, 0.571]</text>\n<text text-anchor=\"start\" x=\"871\" y=\"-119.3\" font-family=\"Helvetica,sans-Serif\" font-size=\"14.00\">class = 1</text>\n</g>\n<!-- 8&#45;&gt;12 -->\n<g id=\"edge12\" class=\"edge\">\n<title>8&#45;&gt;12</title>\n<path fill=\"none\" stroke=\"black\" d=\"M790.75,-222.91C807.86,-210.77 826.59,-197.49 843.55,-185.46\"/>\n<polygon fill=\"black\" stroke=\"black\" points=\"845.59,-188.31 851.73,-179.67 841.54,-182.6 845.59,-188.31\"/>\n</g>\n<!-- 10 -->\n<g id=\"node11\" class=\"node\">\n<title>10</title>\n<path fill=\"#42a1e6\" stroke=\"black\" d=\"M795,-68C795,-68 672,-68 672,-68 666,-68 660,-62 660,-56 660,-56 660,-12 660,-12 660,-6 666,0 672,0 672,0 795,0 795,0 801,0 807,-6 807,-12 807,-12 807,-56 807,-56 807,-62 801,-68 795,-68\"/>\n<text text-anchor=\"start\" x=\"701.5\" y=\"-52.8\" font-family=\"Helvetica,sans-Serif\" font-size=\"14.00\">gini = 0.08</text>\n<text text-anchor=\"start\" x=\"684\" y=\"-37.8\" font-family=\"Helvetica,sans-Serif\" font-size=\"14.00\">samples = 7.8%</text>\n<text text-anchor=\"start\" x=\"668\" y=\"-22.8\" font-family=\"Helvetica,sans-Serif\" font-size=\"14.00\">value = [0.042, 0.958]</text>\n<text text-anchor=\"start\" x=\"706\" y=\"-7.8\" font-family=\"Helvetica,sans-Serif\" font-size=\"14.00\">class = 1</text>\n</g>\n<!-- 9&#45;&gt;10 -->\n<g id=\"edge10\" class=\"edge\">\n<title>9&#45;&gt;10</title>\n<path fill=\"none\" stroke=\"black\" d=\"M733.5,-103.73C733.5,-95.52 733.5,-86.86 733.5,-78.56\"/>\n<polygon fill=\"black\" stroke=\"black\" points=\"737,-78.3 733.5,-68.3 730,-78.3 737,-78.3\"/>\n</g>\n<!-- 11 -->\n<g id=\"node12\" class=\"node\">\n<title>11</title>\n<path fill=\"#77bced\" stroke=\"black\" d=\"M960,-68C960,-68 837,-68 837,-68 831,-68 825,-62 825,-56 825,-56 825,-12 825,-12 825,-6 831,0 837,0 837,0 960,0 960,0 966,0 972,-6 972,-12 972,-12 972,-56 972,-56 972,-62 966,-68 960,-68\"/>\n<text text-anchor=\"start\" x=\"863\" y=\"-52.8\" font-family=\"Helvetica,sans-Serif\" font-size=\"14.00\">gini = 0.363</text>\n<text text-anchor=\"start\" x=\"849\" y=\"-37.8\" font-family=\"Helvetica,sans-Serif\" font-size=\"14.00\">samples = 2.3%</text>\n<text text-anchor=\"start\" x=\"833\" y=\"-22.8\" font-family=\"Helvetica,sans-Serif\" font-size=\"14.00\">value = [0.238, 0.762]</text>\n<text text-anchor=\"start\" x=\"871\" y=\"-7.8\" font-family=\"Helvetica,sans-Serif\" font-size=\"14.00\">class = 1</text>\n</g>\n<!-- 9&#45;&gt;11 -->\n<g id=\"edge11\" class=\"edge\">\n<title>9&#45;&gt;11</title>\n<path fill=\"none\" stroke=\"black\" d=\"M794.94,-103.73C809.72,-93.92 825.47,-83.46 840.11,-73.75\"/>\n<polygon fill=\"black\" stroke=\"black\" points=\"842.19,-76.57 848.59,-68.13 838.32,-70.74 842.19,-76.57\"/>\n</g>\n</g>\n</svg>\n",
      "text/plain": [
       "<graphviz.sources.Source at 0x26faf479dc0>"
      ]
     },
     "execution_count": 60,
     "metadata": {},
     "output_type": "execute_result"
    }
   ],
   "source": [
    "graph = graphviz.Source(dot_data)\n",
    "graph"
   ]
  },
  {
   "attachments": {},
   "cell_type": "markdown",
   "metadata": {},
   "source": [
    "# Training Sklearn Random Forest"
   ]
  },
  {
   "cell_type": "code",
   "execution_count": 61,
   "metadata": {},
   "outputs": [],
   "source": [
    "rf = RandomForestClassifier(\n",
    "    n_estimators=100, \n",
    "    max_depth=3,\n",
    "    min_samples_split=3,\n",
    "    min_samples_leaf=3,\n",
    "    max_features='log2', \n",
    "    random_state=123)"
   ]
  },
  {
   "cell_type": "code",
   "execution_count": 62,
   "metadata": {},
   "outputs": [
    {
     "data": {
      "text/html": [
       "<style>#sk-container-id-2 {color: black;background-color: white;}#sk-container-id-2 pre{padding: 0;}#sk-container-id-2 div.sk-toggleable {background-color: white;}#sk-container-id-2 label.sk-toggleable__label {cursor: pointer;display: block;width: 100%;margin-bottom: 0;padding: 0.3em;box-sizing: border-box;text-align: center;}#sk-container-id-2 label.sk-toggleable__label-arrow:before {content: \"▸\";float: left;margin-right: 0.25em;color: #696969;}#sk-container-id-2 label.sk-toggleable__label-arrow:hover:before {color: black;}#sk-container-id-2 div.sk-estimator:hover label.sk-toggleable__label-arrow:before {color: black;}#sk-container-id-2 div.sk-toggleable__content {max-height: 0;max-width: 0;overflow: hidden;text-align: left;background-color: #f0f8ff;}#sk-container-id-2 div.sk-toggleable__content pre {margin: 0.2em;color: black;border-radius: 0.25em;background-color: #f0f8ff;}#sk-container-id-2 input.sk-toggleable__control:checked~div.sk-toggleable__content {max-height: 200px;max-width: 100%;overflow: auto;}#sk-container-id-2 input.sk-toggleable__control:checked~label.sk-toggleable__label-arrow:before {content: \"▾\";}#sk-container-id-2 div.sk-estimator input.sk-toggleable__control:checked~label.sk-toggleable__label {background-color: #d4ebff;}#sk-container-id-2 div.sk-label input.sk-toggleable__control:checked~label.sk-toggleable__label {background-color: #d4ebff;}#sk-container-id-2 input.sk-hidden--visually {border: 0;clip: rect(1px 1px 1px 1px);clip: rect(1px, 1px, 1px, 1px);height: 1px;margin: -1px;overflow: hidden;padding: 0;position: absolute;width: 1px;}#sk-container-id-2 div.sk-estimator {font-family: monospace;background-color: #f0f8ff;border: 1px dotted black;border-radius: 0.25em;box-sizing: border-box;margin-bottom: 0.5em;}#sk-container-id-2 div.sk-estimator:hover {background-color: #d4ebff;}#sk-container-id-2 div.sk-parallel-item::after {content: \"\";width: 100%;border-bottom: 1px solid gray;flex-grow: 1;}#sk-container-id-2 div.sk-label:hover label.sk-toggleable__label {background-color: #d4ebff;}#sk-container-id-2 div.sk-serial::before {content: \"\";position: absolute;border-left: 1px solid gray;box-sizing: border-box;top: 0;bottom: 0;left: 50%;z-index: 0;}#sk-container-id-2 div.sk-serial {display: flex;flex-direction: column;align-items: center;background-color: white;padding-right: 0.2em;padding-left: 0.2em;position: relative;}#sk-container-id-2 div.sk-item {position: relative;z-index: 1;}#sk-container-id-2 div.sk-parallel {display: flex;align-items: stretch;justify-content: center;background-color: white;position: relative;}#sk-container-id-2 div.sk-item::before, #sk-container-id-2 div.sk-parallel-item::before {content: \"\";position: absolute;border-left: 1px solid gray;box-sizing: border-box;top: 0;bottom: 0;left: 50%;z-index: -1;}#sk-container-id-2 div.sk-parallel-item {display: flex;flex-direction: column;z-index: 1;position: relative;background-color: white;}#sk-container-id-2 div.sk-parallel-item:first-child::after {align-self: flex-end;width: 50%;}#sk-container-id-2 div.sk-parallel-item:last-child::after {align-self: flex-start;width: 50%;}#sk-container-id-2 div.sk-parallel-item:only-child::after {width: 0;}#sk-container-id-2 div.sk-dashed-wrapped {border: 1px dashed gray;margin: 0 0.4em 0.5em 0.4em;box-sizing: border-box;padding-bottom: 0.4em;background-color: white;}#sk-container-id-2 div.sk-label label {font-family: monospace;font-weight: bold;display: inline-block;line-height: 1.2em;}#sk-container-id-2 div.sk-label-container {text-align: center;}#sk-container-id-2 div.sk-container {/* jupyter's `normalize.less` sets `[hidden] { display: none; }` but bootstrap.min.css set `[hidden] { display: none !important; }` so we also need the `!important` here to be able to override the default hidden behavior on the sphinx rendered scikit-learn.org. See: https://github.com/scikit-learn/scikit-learn/issues/21755 */display: inline-block !important;position: relative;}#sk-container-id-2 div.sk-text-repr-fallback {display: none;}</style><div id=\"sk-container-id-2\" class=\"sk-top-container\"><div class=\"sk-text-repr-fallback\"><pre>RandomForestClassifier(max_depth=3, max_features=&#x27;log2&#x27;, min_samples_leaf=3,\n",
       "                       min_samples_split=3, random_state=123)</pre><b>In a Jupyter environment, please rerun this cell to show the HTML representation or trust the notebook. <br />On GitHub, the HTML representation is unable to render, please try loading this page with nbviewer.org.</b></div><div class=\"sk-container\" hidden><div class=\"sk-item\"><div class=\"sk-estimator sk-toggleable\"><input class=\"sk-toggleable__control sk-hidden--visually\" id=\"sk-estimator-id-2\" type=\"checkbox\" checked><label for=\"sk-estimator-id-2\" class=\"sk-toggleable__label sk-toggleable__label-arrow\">RandomForestClassifier</label><div class=\"sk-toggleable__content\"><pre>RandomForestClassifier(max_depth=3, max_features=&#x27;log2&#x27;, min_samples_leaf=3,\n",
       "                       min_samples_split=3, random_state=123)</pre></div></div></div></div></div>"
      ],
      "text/plain": [
       "RandomForestClassifier(max_depth=3, max_features='log2', min_samples_leaf=3,\n",
       "                       min_samples_split=3, random_state=123)"
      ]
     },
     "execution_count": 62,
     "metadata": {},
     "output_type": "execute_result"
    }
   ],
   "source": [
    "rf.fit(X_train_hotenc, y_train)"
   ]
  },
  {
   "cell_type": "code",
   "execution_count": 63,
   "metadata": {},
   "outputs": [
    {
     "data": {
      "text/plain": [
       "0.8977659057795047"
      ]
     },
     "execution_count": 63,
     "metadata": {},
     "output_type": "execute_result"
    }
   ],
   "source": [
    "# evaluate accuracy on training set\n",
    "rf.score(X_train_hotenc, y_train)"
   ]
  },
  {
   "cell_type": "code",
   "execution_count": 64,
   "metadata": {},
   "outputs": [
    {
     "data": {
      "text/plain": [
       "0.8964121931480982"
      ]
     },
     "execution_count": 64,
     "metadata": {},
     "output_type": "execute_result"
    }
   ],
   "source": [
    "# evaluate accuracy on test set\n",
    "rf.score(X_test_hotenc, y_test)"
   ]
  },
  {
   "attachments": {},
   "cell_type": "markdown",
   "metadata": {},
   "source": [
    "### Tuning Random Forest"
   ]
  },
  {
   "cell_type": "code",
   "execution_count": 65,
   "metadata": {},
   "outputs": [],
   "source": [
    "# parameters for Random Forest\n",
    "parameters = {\n",
    "    'n_estimators': (50, 100, 200, 400),\n",
    "    'max_depth': (3, 5, None),\n",
    "    'min_samples_split': (1, 3, 6),\n",
    "    'min_samples_leaf': (1, 3, 6),\n",
    "    'class_weight' : (None, \"balanced\")\n",
    "    }\n",
    "\n",
    "model_rf = GridSearchCV(\n",
    "    rf, \n",
    "    parameters,\n",
    "    scoring=make_scorer(recall_score),\n",
    "    cv=3, \n",
    "    n_jobs =-1)"
   ]
  },
  {
   "cell_type": "code",
   "execution_count": 66,
   "metadata": {},
   "outputs": [
    {
     "name": "stderr",
     "output_type": "stream",
     "text": [
      "\n",
      "216 fits failed out of a total of 648.\n",
      "The score on these train-test partitions for these parameters will be set to nan.\n",
      "If these failures are not expected, you can try to debug them by setting error_score='raise'.\n",
      "\n",
      "Below are more details about the failures:\n",
      "--------------------------------------------------------------------------------\n",
      "216 fits failed with the following error:\n",
      "Traceback (most recent call last):\n",
      "  File \"c:\\Users\\Nutzer\\.conda\\envs\\customer_analytics\\lib\\site-packages\\sklearn\\model_selection\\_validation.py\", line 686, in _fit_and_score\n",
      "    estimator.fit(X_train, y_train, **fit_params)\n",
      "  File \"c:\\Users\\Nutzer\\.conda\\envs\\customer_analytics\\lib\\site-packages\\sklearn\\ensemble\\_forest.py\", line 476, in fit\n",
      "    trees = Parallel(\n",
      "  File \"c:\\Users\\Nutzer\\.conda\\envs\\customer_analytics\\lib\\site-packages\\joblib\\parallel.py\", line 1085, in __call__\n",
      "    if self.dispatch_one_batch(iterator):\n",
      "  File \"c:\\Users\\Nutzer\\.conda\\envs\\customer_analytics\\lib\\site-packages\\joblib\\parallel.py\", line 901, in dispatch_one_batch\n",
      "    self._dispatch(tasks)\n",
      "  File \"c:\\Users\\Nutzer\\.conda\\envs\\customer_analytics\\lib\\site-packages\\joblib\\parallel.py\", line 819, in _dispatch\n",
      "    job = self._backend.apply_async(batch, callback=cb)\n",
      "  File \"c:\\Users\\Nutzer\\.conda\\envs\\customer_analytics\\lib\\site-packages\\joblib\\_parallel_backends.py\", line 208, in apply_async\n",
      "    result = ImmediateResult(func)\n",
      "  File \"c:\\Users\\Nutzer\\.conda\\envs\\customer_analytics\\lib\\site-packages\\joblib\\_parallel_backends.py\", line 597, in __init__\n",
      "    self.results = batch()\n",
      "  File \"c:\\Users\\Nutzer\\.conda\\envs\\customer_analytics\\lib\\site-packages\\joblib\\parallel.py\", line 288, in __call__\n",
      "    return [func(*args, **kwargs)\n",
      "  File \"c:\\Users\\Nutzer\\.conda\\envs\\customer_analytics\\lib\\site-packages\\joblib\\parallel.py\", line 288, in <listcomp>\n",
      "    return [func(*args, **kwargs)\n",
      "  File \"c:\\Users\\Nutzer\\.conda\\envs\\customer_analytics\\lib\\site-packages\\sklearn\\utils\\fixes.py\", line 117, in __call__\n",
      "    return self.function(*args, **kwargs)\n",
      "  File \"c:\\Users\\Nutzer\\.conda\\envs\\customer_analytics\\lib\\site-packages\\sklearn\\ensemble\\_forest.py\", line 189, in _parallel_build_trees\n",
      "    tree.fit(X, y, sample_weight=curr_sample_weight, check_input=False)\n",
      "  File \"c:\\Users\\Nutzer\\.conda\\envs\\customer_analytics\\lib\\site-packages\\sklearn\\tree\\_classes.py\", line 969, in fit\n",
      "    super().fit(\n",
      "  File \"c:\\Users\\Nutzer\\.conda\\envs\\customer_analytics\\lib\\site-packages\\sklearn\\tree\\_classes.py\", line 265, in fit\n",
      "    check_scalar(\n",
      "  File \"c:\\Users\\Nutzer\\.conda\\envs\\customer_analytics\\lib\\site-packages\\sklearn\\utils\\validation.py\", line 1480, in check_scalar\n",
      "    raise ValueError(\n",
      "ValueError: min_samples_split == 1, must be >= 2.\n",
      "\n",
      "One or more of the test scores are non-finite: [       nan        nan        nan        nan 0.09050412 0.09695573\n",
      " 0.07540846 0.09047619 0.08621701 0.09695573 0.07107946 0.08617512\n",
      "        nan        nan        nan        nan 0.07543639 0.10340735\n",
      " 0.06890099 0.07754504 0.07543639 0.10340735 0.06890099 0.07754504\n",
      "        nan        nan        nan        nan 0.07540846 0.09694177\n",
      " 0.06243541 0.07536657 0.07540846 0.09694177 0.06243541 0.07536657\n",
      "        nan        nan        nan        nan 0.14010613 0.14440721\n",
      " 0.13580506 0.13579109 0.13580506 0.15085882 0.13794163 0.13794163\n",
      "        nan        nan        nan        nan 0.12714705 0.14872225\n",
      " 0.13147605 0.13147605 0.12714705 0.14872225 0.13147605 0.13147605\n",
      "        nan        nan        nan        nan 0.13794163 0.13795559\n",
      " 0.13146209 0.13146209 0.13794163 0.13795559 0.13146209 0.13146209\n",
      "        nan        nan        nan        nan 0.15517386 0.14013406\n",
      " 0.1573244  0.15513196 0.15302332 0.14870828 0.15731043 0.15084485\n",
      "        nan        nan        nan        nan 0.14227063 0.14440721\n",
      " 0.13146209 0.12498254 0.14227063 0.14440721 0.13146209 0.12498254\n",
      "        nan        nan        nan        nan 0.15085882 0.14010613\n",
      " 0.1379137  0.13146209 0.15085882 0.14010613 0.1379137  0.13146209\n",
      "        nan        nan        nan        nan 0.49349253 0.43524647\n",
      " 0.4503142  0.46110878 0.4977936  0.44169809 0.45677978 0.46110878\n",
      "        nan        nan        nan        nan 0.4977936  0.45032817\n",
      " 0.45462924 0.45895825 0.4977936  0.45032817 0.45462924 0.45895825\n",
      "        nan        nan        nan        nan 0.50639575 0.45462924\n",
      " 0.45894428 0.4697249  0.50639575 0.45462924 0.45894428 0.4697249\n",
      "        nan        nan        nan        nan 0.46557743 0.46556347\n",
      " 0.47413769 0.4806312  0.48924731 0.47845273 0.4805893  0.48491831\n",
      "        nan        nan        nan        nan 0.47845273 0.47628823\n",
      " 0.47410976 0.48060327 0.47845273 0.47628823 0.47410976 0.48060327\n",
      "        nan        nan        nan        nan 0.4849602  0.48064516\n",
      " 0.49141181 0.51076665 0.4849602  0.48064516 0.49141181 0.51076665\n",
      "        nan        nan        nan        nan 0.18535121 0.18318671\n",
      " 0.17667923 0.17455663 0.24570591 0.23491133 0.23062421 0.23493925\n",
      "        nan        nan        nan        nan 0.30819718 0.2995671\n",
      " 0.30171764 0.30386817 0.30819718 0.2995671  0.30171764 0.30386817\n",
      "        nan        nan        nan        nan 0.3599218  0.36207234\n",
      " 0.36210027 0.3599218  0.3599218  0.36207234 0.36210027 0.3599218 ]\n"
     ]
    },
    {
     "data": {
      "text/html": [
       "<style>#sk-container-id-3 {color: black;background-color: white;}#sk-container-id-3 pre{padding: 0;}#sk-container-id-3 div.sk-toggleable {background-color: white;}#sk-container-id-3 label.sk-toggleable__label {cursor: pointer;display: block;width: 100%;margin-bottom: 0;padding: 0.3em;box-sizing: border-box;text-align: center;}#sk-container-id-3 label.sk-toggleable__label-arrow:before {content: \"▸\";float: left;margin-right: 0.25em;color: #696969;}#sk-container-id-3 label.sk-toggleable__label-arrow:hover:before {color: black;}#sk-container-id-3 div.sk-estimator:hover label.sk-toggleable__label-arrow:before {color: black;}#sk-container-id-3 div.sk-toggleable__content {max-height: 0;max-width: 0;overflow: hidden;text-align: left;background-color: #f0f8ff;}#sk-container-id-3 div.sk-toggleable__content pre {margin: 0.2em;color: black;border-radius: 0.25em;background-color: #f0f8ff;}#sk-container-id-3 input.sk-toggleable__control:checked~div.sk-toggleable__content {max-height: 200px;max-width: 100%;overflow: auto;}#sk-container-id-3 input.sk-toggleable__control:checked~label.sk-toggleable__label-arrow:before {content: \"▾\";}#sk-container-id-3 div.sk-estimator input.sk-toggleable__control:checked~label.sk-toggleable__label {background-color: #d4ebff;}#sk-container-id-3 div.sk-label input.sk-toggleable__control:checked~label.sk-toggleable__label {background-color: #d4ebff;}#sk-container-id-3 input.sk-hidden--visually {border: 0;clip: rect(1px 1px 1px 1px);clip: rect(1px, 1px, 1px, 1px);height: 1px;margin: -1px;overflow: hidden;padding: 0;position: absolute;width: 1px;}#sk-container-id-3 div.sk-estimator {font-family: monospace;background-color: #f0f8ff;border: 1px dotted black;border-radius: 0.25em;box-sizing: border-box;margin-bottom: 0.5em;}#sk-container-id-3 div.sk-estimator:hover {background-color: #d4ebff;}#sk-container-id-3 div.sk-parallel-item::after {content: \"\";width: 100%;border-bottom: 1px solid gray;flex-grow: 1;}#sk-container-id-3 div.sk-label:hover label.sk-toggleable__label {background-color: #d4ebff;}#sk-container-id-3 div.sk-serial::before {content: \"\";position: absolute;border-left: 1px solid gray;box-sizing: border-box;top: 0;bottom: 0;left: 50%;z-index: 0;}#sk-container-id-3 div.sk-serial {display: flex;flex-direction: column;align-items: center;background-color: white;padding-right: 0.2em;padding-left: 0.2em;position: relative;}#sk-container-id-3 div.sk-item {position: relative;z-index: 1;}#sk-container-id-3 div.sk-parallel {display: flex;align-items: stretch;justify-content: center;background-color: white;position: relative;}#sk-container-id-3 div.sk-item::before, #sk-container-id-3 div.sk-parallel-item::before {content: \"\";position: absolute;border-left: 1px solid gray;box-sizing: border-box;top: 0;bottom: 0;left: 50%;z-index: -1;}#sk-container-id-3 div.sk-parallel-item {display: flex;flex-direction: column;z-index: 1;position: relative;background-color: white;}#sk-container-id-3 div.sk-parallel-item:first-child::after {align-self: flex-end;width: 50%;}#sk-container-id-3 div.sk-parallel-item:last-child::after {align-self: flex-start;width: 50%;}#sk-container-id-3 div.sk-parallel-item:only-child::after {width: 0;}#sk-container-id-3 div.sk-dashed-wrapped {border: 1px dashed gray;margin: 0 0.4em 0.5em 0.4em;box-sizing: border-box;padding-bottom: 0.4em;background-color: white;}#sk-container-id-3 div.sk-label label {font-family: monospace;font-weight: bold;display: inline-block;line-height: 1.2em;}#sk-container-id-3 div.sk-label-container {text-align: center;}#sk-container-id-3 div.sk-container {/* jupyter's `normalize.less` sets `[hidden] { display: none; }` but bootstrap.min.css set `[hidden] { display: none !important; }` so we also need the `!important` here to be able to override the default hidden behavior on the sphinx rendered scikit-learn.org. See: https://github.com/scikit-learn/scikit-learn/issues/21755 */display: inline-block !important;position: relative;}#sk-container-id-3 div.sk-text-repr-fallback {display: none;}</style><div id=\"sk-container-id-3\" class=\"sk-top-container\"><div class=\"sk-text-repr-fallback\"><pre>GridSearchCV(cv=3,\n",
       "             estimator=RandomForestClassifier(max_depth=3, max_features=&#x27;log2&#x27;,\n",
       "                                              min_samples_leaf=3,\n",
       "                                              min_samples_split=3,\n",
       "                                              random_state=123),\n",
       "             n_jobs=-1,\n",
       "             param_grid={&#x27;class_weight&#x27;: (None, &#x27;balanced&#x27;),\n",
       "                         &#x27;max_depth&#x27;: (3, 5, None),\n",
       "                         &#x27;min_samples_leaf&#x27;: (1, 3, 6),\n",
       "                         &#x27;min_samples_split&#x27;: (1, 3, 6),\n",
       "                         &#x27;n_estimators&#x27;: (50, 100, 200, 400)},\n",
       "             scoring=make_scorer(recall_score))</pre><b>In a Jupyter environment, please rerun this cell to show the HTML representation or trust the notebook. <br />On GitHub, the HTML representation is unable to render, please try loading this page with nbviewer.org.</b></div><div class=\"sk-container\" hidden><div class=\"sk-item sk-dashed-wrapped\"><div class=\"sk-label-container\"><div class=\"sk-label sk-toggleable\"><input class=\"sk-toggleable__control sk-hidden--visually\" id=\"sk-estimator-id-3\" type=\"checkbox\" ><label for=\"sk-estimator-id-3\" class=\"sk-toggleable__label sk-toggleable__label-arrow\">GridSearchCV</label><div class=\"sk-toggleable__content\"><pre>GridSearchCV(cv=3,\n",
       "             estimator=RandomForestClassifier(max_depth=3, max_features=&#x27;log2&#x27;,\n",
       "                                              min_samples_leaf=3,\n",
       "                                              min_samples_split=3,\n",
       "                                              random_state=123),\n",
       "             n_jobs=-1,\n",
       "             param_grid={&#x27;class_weight&#x27;: (None, &#x27;balanced&#x27;),\n",
       "                         &#x27;max_depth&#x27;: (3, 5, None),\n",
       "                         &#x27;min_samples_leaf&#x27;: (1, 3, 6),\n",
       "                         &#x27;min_samples_split&#x27;: (1, 3, 6),\n",
       "                         &#x27;n_estimators&#x27;: (50, 100, 200, 400)},\n",
       "             scoring=make_scorer(recall_score))</pre></div></div></div><div class=\"sk-parallel\"><div class=\"sk-parallel-item\"><div class=\"sk-item\"><div class=\"sk-label-container\"><div class=\"sk-label sk-toggleable\"><input class=\"sk-toggleable__control sk-hidden--visually\" id=\"sk-estimator-id-4\" type=\"checkbox\" ><label for=\"sk-estimator-id-4\" class=\"sk-toggleable__label sk-toggleable__label-arrow\">estimator: RandomForestClassifier</label><div class=\"sk-toggleable__content\"><pre>RandomForestClassifier(max_depth=3, max_features=&#x27;log2&#x27;, min_samples_leaf=3,\n",
       "                       min_samples_split=3, random_state=123)</pre></div></div></div><div class=\"sk-serial\"><div class=\"sk-item\"><div class=\"sk-estimator sk-toggleable\"><input class=\"sk-toggleable__control sk-hidden--visually\" id=\"sk-estimator-id-5\" type=\"checkbox\" ><label for=\"sk-estimator-id-5\" class=\"sk-toggleable__label sk-toggleable__label-arrow\">RandomForestClassifier</label><div class=\"sk-toggleable__content\"><pre>RandomForestClassifier(max_depth=3, max_features=&#x27;log2&#x27;, min_samples_leaf=3,\n",
       "                       min_samples_split=3, random_state=123)</pre></div></div></div></div></div></div></div></div></div></div>"
      ],
      "text/plain": [
       "GridSearchCV(cv=3,\n",
       "             estimator=RandomForestClassifier(max_depth=3, max_features='log2',\n",
       "                                              min_samples_leaf=3,\n",
       "                                              min_samples_split=3,\n",
       "                                              random_state=123),\n",
       "             n_jobs=-1,\n",
       "             param_grid={'class_weight': (None, 'balanced'),\n",
       "                         'max_depth': (3, 5, None),\n",
       "                         'min_samples_leaf': (1, 3, 6),\n",
       "                         'min_samples_split': (1, 3, 6),\n",
       "                         'n_estimators': (50, 100, 200, 400)},\n",
       "             scoring=make_scorer(recall_score))"
      ]
     },
     "execution_count": 66,
     "metadata": {},
     "output_type": "execute_result"
    }
   ],
   "source": [
    "model_rf.fit(X_train_hotenc, y_train)"
   ]
  },
  {
   "cell_type": "code",
   "execution_count": 67,
   "metadata": {},
   "outputs": [
    {
     "data": {
      "text/plain": [
       "0.6293103448275862"
      ]
     },
     "execution_count": 67,
     "metadata": {},
     "output_type": "execute_result"
    }
   ],
   "source": [
    "# evaluate recall score on training set\n",
    "model_rf.score(X_train_hotenc, y_train)"
   ]
  },
  {
   "cell_type": "code",
   "execution_count": 68,
   "metadata": {},
   "outputs": [
    {
     "data": {
      "text/plain": [
       "0.5569923371647509"
      ]
     },
     "execution_count": 68,
     "metadata": {},
     "output_type": "execute_result"
    }
   ],
   "source": [
    "# evaluate recall score on test set\n",
    "model_rf.score(X_test_hotenc, y_test)"
   ]
  },
  {
   "cell_type": "code",
   "execution_count": 69,
   "metadata": {},
   "outputs": [
    {
     "data": {
      "text/html": [
       "<style>#sk-container-id-4 {color: black;background-color: white;}#sk-container-id-4 pre{padding: 0;}#sk-container-id-4 div.sk-toggleable {background-color: white;}#sk-container-id-4 label.sk-toggleable__label {cursor: pointer;display: block;width: 100%;margin-bottom: 0;padding: 0.3em;box-sizing: border-box;text-align: center;}#sk-container-id-4 label.sk-toggleable__label-arrow:before {content: \"▸\";float: left;margin-right: 0.25em;color: #696969;}#sk-container-id-4 label.sk-toggleable__label-arrow:hover:before {color: black;}#sk-container-id-4 div.sk-estimator:hover label.sk-toggleable__label-arrow:before {color: black;}#sk-container-id-4 div.sk-toggleable__content {max-height: 0;max-width: 0;overflow: hidden;text-align: left;background-color: #f0f8ff;}#sk-container-id-4 div.sk-toggleable__content pre {margin: 0.2em;color: black;border-radius: 0.25em;background-color: #f0f8ff;}#sk-container-id-4 input.sk-toggleable__control:checked~div.sk-toggleable__content {max-height: 200px;max-width: 100%;overflow: auto;}#sk-container-id-4 input.sk-toggleable__control:checked~label.sk-toggleable__label-arrow:before {content: \"▾\";}#sk-container-id-4 div.sk-estimator input.sk-toggleable__control:checked~label.sk-toggleable__label {background-color: #d4ebff;}#sk-container-id-4 div.sk-label input.sk-toggleable__control:checked~label.sk-toggleable__label {background-color: #d4ebff;}#sk-container-id-4 input.sk-hidden--visually {border: 0;clip: rect(1px 1px 1px 1px);clip: rect(1px, 1px, 1px, 1px);height: 1px;margin: -1px;overflow: hidden;padding: 0;position: absolute;width: 1px;}#sk-container-id-4 div.sk-estimator {font-family: monospace;background-color: #f0f8ff;border: 1px dotted black;border-radius: 0.25em;box-sizing: border-box;margin-bottom: 0.5em;}#sk-container-id-4 div.sk-estimator:hover {background-color: #d4ebff;}#sk-container-id-4 div.sk-parallel-item::after {content: \"\";width: 100%;border-bottom: 1px solid gray;flex-grow: 1;}#sk-container-id-4 div.sk-label:hover label.sk-toggleable__label {background-color: #d4ebff;}#sk-container-id-4 div.sk-serial::before {content: \"\";position: absolute;border-left: 1px solid gray;box-sizing: border-box;top: 0;bottom: 0;left: 50%;z-index: 0;}#sk-container-id-4 div.sk-serial {display: flex;flex-direction: column;align-items: center;background-color: white;padding-right: 0.2em;padding-left: 0.2em;position: relative;}#sk-container-id-4 div.sk-item {position: relative;z-index: 1;}#sk-container-id-4 div.sk-parallel {display: flex;align-items: stretch;justify-content: center;background-color: white;position: relative;}#sk-container-id-4 div.sk-item::before, #sk-container-id-4 div.sk-parallel-item::before {content: \"\";position: absolute;border-left: 1px solid gray;box-sizing: border-box;top: 0;bottom: 0;left: 50%;z-index: -1;}#sk-container-id-4 div.sk-parallel-item {display: flex;flex-direction: column;z-index: 1;position: relative;background-color: white;}#sk-container-id-4 div.sk-parallel-item:first-child::after {align-self: flex-end;width: 50%;}#sk-container-id-4 div.sk-parallel-item:last-child::after {align-self: flex-start;width: 50%;}#sk-container-id-4 div.sk-parallel-item:only-child::after {width: 0;}#sk-container-id-4 div.sk-dashed-wrapped {border: 1px dashed gray;margin: 0 0.4em 0.5em 0.4em;box-sizing: border-box;padding-bottom: 0.4em;background-color: white;}#sk-container-id-4 div.sk-label label {font-family: monospace;font-weight: bold;display: inline-block;line-height: 1.2em;}#sk-container-id-4 div.sk-label-container {text-align: center;}#sk-container-id-4 div.sk-container {/* jupyter's `normalize.less` sets `[hidden] { display: none; }` but bootstrap.min.css set `[hidden] { display: none !important; }` so we also need the `!important` here to be able to override the default hidden behavior on the sphinx rendered scikit-learn.org. See: https://github.com/scikit-learn/scikit-learn/issues/21755 */display: inline-block !important;position: relative;}#sk-container-id-4 div.sk-text-repr-fallback {display: none;}</style><div id=\"sk-container-id-4\" class=\"sk-top-container\"><div class=\"sk-text-repr-fallback\"><pre>RandomForestClassifier(class_weight=&#x27;balanced&#x27;, max_depth=5,\n",
       "                       max_features=&#x27;log2&#x27;, min_samples_leaf=6,\n",
       "                       min_samples_split=3, n_estimators=400, random_state=123)</pre><b>In a Jupyter environment, please rerun this cell to show the HTML representation or trust the notebook. <br />On GitHub, the HTML representation is unable to render, please try loading this page with nbviewer.org.</b></div><div class=\"sk-container\" hidden><div class=\"sk-item\"><div class=\"sk-estimator sk-toggleable\"><input class=\"sk-toggleable__control sk-hidden--visually\" id=\"sk-estimator-id-6\" type=\"checkbox\" checked><label for=\"sk-estimator-id-6\" class=\"sk-toggleable__label sk-toggleable__label-arrow\">RandomForestClassifier</label><div class=\"sk-toggleable__content\"><pre>RandomForestClassifier(class_weight=&#x27;balanced&#x27;, max_depth=5,\n",
       "                       max_features=&#x27;log2&#x27;, min_samples_leaf=6,\n",
       "                       min_samples_split=3, n_estimators=400, random_state=123)</pre></div></div></div></div></div>"
      ],
      "text/plain": [
       "RandomForestClassifier(class_weight='balanced', max_depth=5,\n",
       "                       max_features='log2', min_samples_leaf=6,\n",
       "                       min_samples_split=3, n_estimators=400, random_state=123)"
      ]
     },
     "execution_count": 69,
     "metadata": {},
     "output_type": "execute_result"
    }
   ],
   "source": [
    "model_rf.best_estimator_"
   ]
  },
  {
   "attachments": {},
   "cell_type": "markdown",
   "metadata": {},
   "source": [
    "# Training Sklearn Gradient Boosting"
   ]
  },
  {
   "cell_type": "code",
   "execution_count": 70,
   "metadata": {},
   "outputs": [
    {
     "data": {
      "text/plain": [
       "7.876724137931034"
      ]
     },
     "execution_count": 70,
     "metadata": {},
     "output_type": "execute_result"
    }
   ],
   "source": [
    "# get class imbalance correction factor for minority class i.e. converters\n",
    "class_correction_factor = get_class_imbalance_correction_factor(df, 'y')\n",
    "class_correction_factor # multiply the minority class with this factor"
   ]
  },
  {
   "cell_type": "code",
   "execution_count": 71,
   "metadata": {},
   "outputs": [
    {
     "name": "stdout",
     "output_type": "stream",
     "text": [
      "accuracy score without class weighting in train data: 0.90\n",
      "accuracy score without class weighting in test data: 0.90\n",
      "accuracy score with class weighting in train data: 0.76\n",
      "accuracy score with class weighting in test data: 0.73\n"
     ]
    }
   ],
   "source": [
    "# init model class\n",
    "gb = GradientBoostingClassifier(\n",
    "    n_estimators=100, \n",
    "    max_depth=3,\n",
    "    max_features='log2', \n",
    "    random_state=123)\n",
    "\n",
    "# fit model without class weighting\n",
    "gb.fit(X_train_hotenc, y_train)\n",
    "\n",
    "# evaluate accuracy on training set\n",
    "print('accuracy score without class weighting in train data: {:.2f}'.format(gb.score(X_train_hotenc, y_train))) \n",
    "\n",
    "# evaluate accuracy on test set\n",
    "print('accuracy score without class weighting in test data: {:.2f}'.format(gb.score(X_test_hotenc, y_test)))\n",
    "\n",
    "\n",
    "# fit model with class weighting\n",
    "\n",
    "# define the sample weights\n",
    "sample_weights = [class_correction_factor if y==1 else 1 for y in y_train]\n",
    "\n",
    "# fit the classifier to your training data\n",
    "gb.fit(X_train_hotenc, y_train, sample_weight=sample_weights)\n",
    "\n",
    "# evaluate accuracy on training set\n",
    "print('accuracy score with class weighting in train data: {:.2f}'.format(gb.score(X_train_hotenc, y_train))) \n",
    "\n",
    "# evaluate accuracy on test set\n",
    "print('accuracy score with class weighting in test data: {:.2f}'.format(gb.score(X_test_hotenc, y_test)))\n"
   ]
  },
  {
   "attachments": {},
   "cell_type": "markdown",
   "metadata": {},
   "source": [
    "### Tuning Gradient Boosting"
   ]
  },
  {
   "cell_type": "code",
   "execution_count": 72,
   "metadata": {},
   "outputs": [],
   "source": [
    "# hyper-parameters for Gradient Boosting\n",
    "parameters = {\n",
    "    'n_estimators': (50, 100, 200),\n",
    "    'max_depth': (3, 5, 7, None)\n",
    "}\n"
   ]
  },
  {
   "attachments": {},
   "cell_type": "markdown",
   "metadata": {},
   "source": [
    "#### Tune Model Without Sample Weighting"
   ]
  },
  {
   "cell_type": "code",
   "execution_count": 73,
   "metadata": {},
   "outputs": [
    {
     "name": "stdout",
     "output_type": "stream",
     "text": [
      "recall score without class weighting in train data: 0.22\n",
      "recall score without class weighting in test data: 0.17\n",
      "model best parameters:  {'max_depth': 3, 'n_estimators': 100}\n"
     ]
    }
   ],
   "source": [
    "# set up the model\n",
    "model_gb = GridSearchCV(\n",
    "    gb, \n",
    "    parameters,\n",
    "    scoring=make_scorer(recall_score),\n",
    "    cv=3, \n",
    "    n_jobs =-1)\n",
    "\n",
    "# fit the model with equal class weights and with class weights adapted to class imbalance\n",
    "model_gb.fit(X_train_hotenc, y_train)\n",
    "\n",
    "# evaluate accuracy on training set\n",
    "print('recall score without class weighting in train data: {:.2f}'.format(model_gb.score(X_train_hotenc, y_train)))\n",
    "\n",
    "# evaluate accuracy on test set\n",
    "print('recall score without class weighting in test data: {:.2f}'.format(model_gb.score(X_test_hotenc, y_test)))\n",
    "\n",
    "# get best parameters\n",
    "print('model best parameters: ', model_gb.best_params_)"
   ]
  },
  {
   "attachments": {},
   "cell_type": "markdown",
   "metadata": {},
   "source": [
    "#### Tune Model With Sample Weighting"
   ]
  },
  {
   "cell_type": "code",
   "execution_count": 74,
   "metadata": {},
   "outputs": [
    {
     "name": "stdout",
     "output_type": "stream",
     "text": [
      "recall score without class weighting in train data: 0.70\n",
      "recall score without class weighting in test data: 0.63\n",
      "model best parameters:  {'max_depth': 3, 'n_estimators': 50}\n"
     ]
    }
   ],
   "source": [
    "# set up the model\n",
    "model_gb = GridSearchCV(\n",
    "    gb, \n",
    "    parameters,\n",
    "    scoring=make_scorer(recall_score),\n",
    "    cv=3, \n",
    "    n_jobs =-1)\n",
    "\n",
    "# fit the model with equal class weights and with class weights adapted to class imbalance\n",
    "model_gb.fit(X_train_hotenc, y_train, sample_weight=sample_weights)\n",
    "\n",
    "# evaluate accuracy on training set\n",
    "print('recall score without class weighting in train data: {:.2f}'.format(model_gb.score(X_train_hotenc, y_train)))\n",
    "\n",
    "# evaluate accuracy on test set\n",
    "print('recall score without class weighting in test data: {:.2f}'.format(model_gb.score(X_test_hotenc, y_test)))\n",
    "\n",
    "# get best parameters\n",
    "print('model best parameters: ', model_gb.best_params_)"
   ]
  },
  {
   "attachments": {},
   "cell_type": "markdown",
   "metadata": {},
   "source": [
    "# Model Evaluation"
   ]
  },
  {
   "attachments": {},
   "cell_type": "markdown",
   "metadata": {},
   "source": [
    "## Plot Recall-Precision Curves"
   ]
  },
  {
   "cell_type": "code",
   "execution_count": 76,
   "metadata": {},
   "outputs": [
    {
     "data": {
      "image/png": "[encoded data removed]",
      "text/plain": [
       "<Figure size 1296x432 with 2 Axes>"
      ]
     },
     "metadata": {
      "needs_background": "light"
     },
     "output_type": "display_data"
    }
   ],
   "source": [
    "# plot recall vs precision for decision tree model\n",
    "fig = plot_threshold_recall_precision_curves(model_dt, X_test_hotenc, y_test)"
   ]
  },
  {
   "cell_type": "code",
   "execution_count": 77,
   "metadata": {},
   "outputs": [
    {
     "data": {
      "image/png": "[encoded data removed]",
      "text/plain": [
       "<Figure size 1296x432 with 2 Axes>"
      ]
     },
     "metadata": {
      "needs_background": "light"
     },
     "output_type": "display_data"
    }
   ],
   "source": [
    "# plot recall vs precision for random forest model\n",
    "fig = plot_threshold_recall_precision_curves(model_rf, X_test_hotenc, y_test)"
   ]
  },
  {
   "cell_type": "code",
   "execution_count": 78,
   "metadata": {},
   "outputs": [
    {
     "data": {
      "image/png": "[encoded data removed]",
      "text/plain": [
       "<Figure size 1296x432 with 2 Axes>"
      ]
     },
     "metadata": {
      "needs_background": "light"
     },
     "output_type": "display_data"
    }
   ],
   "source": [
    "# plot recall vs precision for gradient boosting model\n",
    "fig = plot_threshold_recall_precision_curves(model_gb, X_test_hotenc, y_test)"
   ]
  },
  {
   "cell_type": "code",
   "execution_count": 80,
   "metadata": {},
   "outputs": [
    {
     "data": {
      "text/plain": [
       "0.6825632926744609"
      ]
     },
     "execution_count": 80,
     "metadata": {},
     "output_type": "execute_result"
    }
   ],
   "source": [
    "# calculate AUC for decision tree\n",
    "auc = roc_auc_score(y_test, model_dt.predict_proba(X_test_hotenc)[:,1])\n",
    "auc"
   ]
  },
  {
   "cell_type": "code",
   "execution_count": 81,
   "metadata": {},
   "outputs": [
    {
     "data": {
      "text/plain": [
       "0.7395887713861802"
      ]
     },
     "execution_count": 81,
     "metadata": {},
     "output_type": "execute_result"
    }
   ],
   "source": [
    "# calculate AUC for random forest\n",
    "auc = roc_auc_score(y_test, model_rf.predict_proba(X_test_hotenc)[:,1])\n",
    "auc"
   ]
  },
  {
   "cell_type": "code",
   "execution_count": 82,
   "metadata": {},
   "outputs": [
    {
     "data": {
      "text/plain": [
       "0.7418538441544615"
      ]
     },
     "execution_count": 82,
     "metadata": {},
     "output_type": "execute_result"
    }
   ],
   "source": [
    "# calculate AUC for gradient boosted tree\n",
    "auc = roc_auc_score(y_test, model_gb.predict_proba(X_test_hotenc)[:,1])\n",
    "auc"
   ]
  },
  {
   "cell_type": "code",
   "execution_count": 83,
   "metadata": {},
   "outputs": [
    {
     "data": {
      "text/plain": [
       "0.2554662034717352"
      ]
     },
     "execution_count": 83,
     "metadata": {},
     "output_type": "execute_result"
    }
   ],
   "source": [
    "# calculate AUPRC for decision tree\n",
    "auprc = average_precision_score(y_test, model_dt.predict_proba(X_test_hotenc)[:,1])\n",
    "auprc"
   ]
  },
  {
   "cell_type": "code",
   "execution_count": 84,
   "metadata": {},
   "outputs": [
    {
     "data": {
      "text/plain": [
       "0.37657601278077124"
      ]
     },
     "execution_count": 84,
     "metadata": {},
     "output_type": "execute_result"
    }
   ],
   "source": [
    "# calculate AUPRC for random forest\n",
    "auprc = average_precision_score(y_test, model_rf.predict_proba(X_test_hotenc)[:,1])\n",
    "auprc"
   ]
  },
  {
   "cell_type": "code",
   "execution_count": 85,
   "metadata": {},
   "outputs": [
    {
     "data": {
      "text/plain": [
       "0.3738190249571073"
      ]
     },
     "execution_count": 85,
     "metadata": {},
     "output_type": "execute_result"
    }
   ],
   "source": [
    "# calculate AUPRC for gradient boosted tree\n",
    "auprc = average_precision_score(y_test, model_gb.predict_proba(X_test_hotenc)[:,1])\n",
    "auprc"
   ]
  },
  {
   "cell_type": "code",
   "execution_count": 86,
   "metadata": {},
   "outputs": [],
   "source": [
    "# lets say for whatever reason we want the recall to be around 40%, hence we accept a precision of around 40%; therefore we need to choose a threshold of around 60%\n",
    "# let´s relabel using that threshold of 60%"
   ]
  },
  {
   "cell_type": "code",
   "execution_count": 86,
   "metadata": {},
   "outputs": [
    {
     "data": {
      "image/png": "[encoded data removed]",
      "text/plain": [
       "<Figure size 432x288 with 2 Axes>"
      ]
     },
     "metadata": {
      "needs_background": "light"
     },
     "output_type": "display_data"
    }
   ],
   "source": [
    "# plot confusion matrix for training data\n",
    "plot_confusion_matrix(\n",
    "    features=X_train_hotenc, \n",
    "    labels=y_train, \n",
    "    sklearn_model=model_gb,\n",
    "    threshold=0.6)"
   ]
  },
  {
   "cell_type": "code",
   "execution_count": 87,
   "metadata": {},
   "outputs": [
    {
     "data": {
      "image/png": "[encoded data removed]",
      "text/plain": [
       "<Figure size 432x288 with 2 Axes>"
      ]
     },
     "metadata": {
      "needs_background": "light"
     },
     "output_type": "display_data"
    }
   ],
   "source": [
    "# plot confusion matrix for test data\n",
    "plot_confusion_matrix(\n",
    "    features=X_test_hotenc, \n",
    "    labels=y_test, \n",
    "    sklearn_model=model_gb,\n",
    "    threshold=0.6)"
   ]
  },
  {
   "attachments": {},
   "cell_type": "markdown",
   "metadata": {},
   "source": [
    "### Save Best Model"
   ]
  },
  {
   "cell_type": "code",
   "execution_count": null,
   "metadata": {},
   "outputs": [],
   "source": [
    "# Save the BEST classifier!!!\n",
    "with open('../artifacts/model.pickle', 'wb') as filename:\n",
    "    pickle.dump(model_gb, filename)"
   ]
  },
  {
   "attachments": {},
   "cell_type": "markdown",
   "metadata": {},
   "source": [
    "# Model Explainability Using Shap Values"
   ]
  },
  {
   "cell_type": "code",
   "execution_count": 88,
   "metadata": {},
   "outputs": [
    {
     "data": {
      "text/plain": [
       "(37070, 37)"
      ]
     },
     "execution_count": 88,
     "metadata": {},
     "output_type": "execute_result"
    }
   ],
   "source": [
    "X_test_hotenc.shape"
   ]
  },
  {
   "cell_type": "code",
   "execution_count": 89,
   "metadata": {},
   "outputs": [],
   "source": [
    "# Tree Explainer\n",
    "explainer = shap.TreeExplainer(\n",
    "    model = model_gb.best_estimator_,\n",
    "    feature_perturbation = 'interventional',\n",
    "    output = 'probability')\n",
    "\n",
    "# get random sample\n",
    "X = X_test_hotenc.sample(1000)\n",
    "\n",
    "# calculate shap values\n",
    "shap_values = explainer.shap_values(X)"
   ]
  },
  {
   "cell_type": "code",
   "execution_count": 90,
   "metadata": {},
   "outputs": [
    {
     "data": {
      "image/png": "[encoded data removed]",
      "text/plain": [
       "<Figure size 720x720 with 1 Axes>"
      ]
     },
     "metadata": {
      "needs_background": "light"
     },
     "output_type": "display_data"
    }
   ],
   "source": [
    "shap.summary_plot(\n",
    "    shap_values = shap_values, \n",
    "    features = X,\n",
    "    sort=True,\n",
    "    max_display=10,\n",
    "    plot_size=(10.0,10.0),\n",
    "    plot_type='bar'\n",
    ")"
   ]
  },
  {
   "cell_type": "code",
   "execution_count": 91,
   "metadata": {},
   "outputs": [
    {
     "data": {
      "image/png": "[encoded data removed]",
      "text/plain": [
       "<Figure size 720x720 with 2 Axes>"
      ]
     },
     "metadata": {
      "needs_background": "light"
     },
     "output_type": "display_data"
    }
   ],
   "source": [
    "shap.summary_plot(\n",
    "    shap_values = shap_values, \n",
    "    features = X,\n",
    "    sort=True,\n",
    "    max_display=10,\n",
    "    plot_size=(10.0,10.0),\n",
    "    plot_type='violin'\n",
    ")"
   ]
  },
  {
   "cell_type": "code",
   "execution_count": 92,
   "metadata": {},
   "outputs": [
    {
     "data": {
      "image/png": "[encoded data removed]",
      "text/plain": [
       "<Figure size 720x432 with 1 Axes>"
      ]
     },
     "metadata": {
      "needs_background": "light"
     },
     "output_type": "display_data"
    },
    {
     "data": {
      "image/png": "[encoded data removed]",
      "text/plain": [
       "<Figure size 720x432 with 1 Axes>"
      ]
     },
     "metadata": {
      "needs_background": "light"
     },
     "output_type": "display_data"
    },
    {
     "data": {
      "image/png": "[encoded data removed]",
      "text/plain": [
       "<Figure size 720x432 with 1 Axes>"
      ]
     },
     "metadata": {
      "needs_background": "light"
     },
     "output_type": "display_data"
    }
   ],
   "source": [
    "# plot dependence plots for the numerical features\n",
    "for feat in ['pdays', 'age','campaign']:\n",
    "    fig, ax = plt.subplots(1,1,figsize=(10,6))\n",
    "    ax.grid()\n",
    "    ax.set_title('Dependence Plot')\n",
    "    ax.set_ylim(-1,1)\n",
    "    shap.dependence_plot(\n",
    "        ind = feat,\n",
    "        shap_values = shap_values, \n",
    "        features = X,\n",
    "        interaction_index=None,\n",
    "        ax=ax\n",
    "    )\n",
    "    "
   ]
  },
  {
   "cell_type": "code",
   "execution_count": null,
   "metadata": {},
   "outputs": [],
   "source": []
  }
 ],
 "metadata": {
  "colab": {
   "provenance": []
  },
  "instance_type": "ml.t3.medium",
  "kernelspec": {
   "display_name": "customer_analytics",
   "language": "python",
   "name": "python3"
  },
  "language_info": {
   "codemirror_mode": {
    "name": "ipython",
    "version": 3
   },
   "file_extension": ".py",
   "mimetype": "text/x-python",
   "name": "python",
   "nbconvert_exporter": "python",
   "pygments_lexer": "ipython3",
   "version": "3.8.13"
  },
  "vscode": {
   "interpreter": {
    "hash": "d6d257a4de92dbbd8540bc21a788c880e0ed004671baa4a130c0cbca69d8aa15"
   }
  }
 },
 "nbformat": 4,
 "nbformat_minor": 4
}
